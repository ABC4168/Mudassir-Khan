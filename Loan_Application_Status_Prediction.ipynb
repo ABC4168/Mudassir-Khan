{
  "nbformat": 4,
  "nbformat_minor": 0,
  "metadata": {
    "colab": {
      "name": "Loan_Application_Status_Prediction",
      "provenance": [],
      "collapsed_sections": []
    },
    "kernelspec": {
      "name": "python3",
      "display_name": "Python 3"
    },
    "language_info": {
      "name": "python"
    }
  },
  "cells": [
    {
      "cell_type": "markdown",
      "metadata": {
        "id": "_oJaxgA8q-3J"
      },
      "source": [
        "## **Loan Application Status Prediction**"
      ]
    },
    {
      "cell_type": "markdown",
      "metadata": {
        "id": "aMzMs9MurUWQ"
      },
      "source": [
        "Problem Statement:-\n",
        "\n",
        "This dataset includes details of applicants who have applied for loan. The dataset includes details like credit history, loan amount, their income, dependents etc.\n",
        "\n",
        "Independent Variables:\n",
        "\n",
        "Loan_ID\n",
        "\n",
        "Gender\n",
        "\n",
        "Married\n",
        "\n",
        "Dependents\n",
        "\n",
        "Education\n",
        "\n",
        "Self_Employed\n",
        "\n",
        "ApplicantIncome\n",
        "\n",
        "CoapplicantIncome\n",
        "\n",
        "Loan_Amount\n",
        "\n",
        "Loan_Amount_Term\n",
        "\n",
        "Credit History\n",
        "\n",
        "Property_Area\n",
        "\n",
        "Dependent Variable (Target Variable):\n",
        "\n",
        "Loan_Status"
      ]
    },
    {
      "cell_type": "markdown",
      "metadata": {
        "id": "uQY3jUP1rd24"
      },
      "source": [
        "## **Importing the necessary libraries:**"
      ]
    },
    {
      "cell_type": "code",
      "metadata": {
        "id": "RFpXF0oyrf6V"
      },
      "source": [
        "import numpy as np \n",
        "import pandas as pd\n",
        "import matplotlib.pyplot as plt\n",
        "import seaborn as sns\n",
        "import scipy\n",
        "import sklearn\n",
        "from sklearn.model_selection import train_test_split\n",
        "from sklearn.naive_bayes import GaussianNB\n",
        "from sklearn.linear_model import LogisticRegression\n",
        "from sklearn.metrics import accuracy_score, classification_report,confusion_matrix\n",
        "from sklearn.svm import SVC\n",
        "from sklearn.tree import DecisionTreeClassifier\n",
        "from sklearn.neighbors import KNeighborsClassifier\n",
        "from sklearn.model_selection import GridSearchCV\n",
        "from sklearn.model_selection import cross_val_score\n",
        "import warnings\n",
        "warnings.filterwarnings('ignore')"
      ],
      "execution_count": 2,
      "outputs": []
    },
    {
      "cell_type": "code",
      "metadata": {
        "colab": {
          "base_uri": "https://localhost:8080/",
          "height": 456
        },
        "id": "iFBxCvISrkPz",
        "outputId": "85428653-c24e-4fa2-df57-3e759cb7a9a3"
      },
      "source": [
        "df=pd.read_csv(\"/content/Loan.txt\")\n",
        "df"
      ],
      "execution_count": 3,
      "outputs": [
        {
          "output_type": "execute_result",
          "data": {
            "text/html": [
              "<div>\n",
              "<style scoped>\n",
              "    .dataframe tbody tr th:only-of-type {\n",
              "        vertical-align: middle;\n",
              "    }\n",
              "\n",
              "    .dataframe tbody tr th {\n",
              "        vertical-align: top;\n",
              "    }\n",
              "\n",
              "    .dataframe thead th {\n",
              "        text-align: right;\n",
              "    }\n",
              "</style>\n",
              "<table border=\"1\" class=\"dataframe\">\n",
              "  <thead>\n",
              "    <tr style=\"text-align: right;\">\n",
              "      <th></th>\n",
              "      <th>Loan_ID</th>\n",
              "      <th>Gender</th>\n",
              "      <th>Married</th>\n",
              "      <th>Dependents</th>\n",
              "      <th>Education</th>\n",
              "      <th>Self_Employed</th>\n",
              "      <th>ApplicantIncome</th>\n",
              "      <th>CoapplicantIncome</th>\n",
              "      <th>LoanAmount</th>\n",
              "      <th>Loan_Amount_Term</th>\n",
              "      <th>Credit_History</th>\n",
              "      <th>Property_Area</th>\n",
              "      <th>Loan_Status</th>\n",
              "    </tr>\n",
              "  </thead>\n",
              "  <tbody>\n",
              "    <tr>\n",
              "      <th>0</th>\n",
              "      <td>LP001002</td>\n",
              "      <td>Male</td>\n",
              "      <td>No</td>\n",
              "      <td>0</td>\n",
              "      <td>Graduate</td>\n",
              "      <td>No</td>\n",
              "      <td>5849</td>\n",
              "      <td>0.0</td>\n",
              "      <td>NaN</td>\n",
              "      <td>360.0</td>\n",
              "      <td>1.0</td>\n",
              "      <td>Urban</td>\n",
              "      <td>Y</td>\n",
              "    </tr>\n",
              "    <tr>\n",
              "      <th>1</th>\n",
              "      <td>LP001003</td>\n",
              "      <td>Male</td>\n",
              "      <td>Yes</td>\n",
              "      <td>1</td>\n",
              "      <td>Graduate</td>\n",
              "      <td>No</td>\n",
              "      <td>4583</td>\n",
              "      <td>1508.0</td>\n",
              "      <td>128.0</td>\n",
              "      <td>360.0</td>\n",
              "      <td>1.0</td>\n",
              "      <td>Rural</td>\n",
              "      <td>N</td>\n",
              "    </tr>\n",
              "    <tr>\n",
              "      <th>2</th>\n",
              "      <td>LP001005</td>\n",
              "      <td>Male</td>\n",
              "      <td>Yes</td>\n",
              "      <td>0</td>\n",
              "      <td>Graduate</td>\n",
              "      <td>Yes</td>\n",
              "      <td>3000</td>\n",
              "      <td>0.0</td>\n",
              "      <td>66.0</td>\n",
              "      <td>360.0</td>\n",
              "      <td>1.0</td>\n",
              "      <td>Urban</td>\n",
              "      <td>Y</td>\n",
              "    </tr>\n",
              "    <tr>\n",
              "      <th>3</th>\n",
              "      <td>LP001006</td>\n",
              "      <td>Male</td>\n",
              "      <td>Yes</td>\n",
              "      <td>0</td>\n",
              "      <td>Not Graduate</td>\n",
              "      <td>No</td>\n",
              "      <td>2583</td>\n",
              "      <td>2358.0</td>\n",
              "      <td>120.0</td>\n",
              "      <td>360.0</td>\n",
              "      <td>1.0</td>\n",
              "      <td>Urban</td>\n",
              "      <td>Y</td>\n",
              "    </tr>\n",
              "    <tr>\n",
              "      <th>4</th>\n",
              "      <td>LP001008</td>\n",
              "      <td>Male</td>\n",
              "      <td>No</td>\n",
              "      <td>0</td>\n",
              "      <td>Graduate</td>\n",
              "      <td>No</td>\n",
              "      <td>6000</td>\n",
              "      <td>0.0</td>\n",
              "      <td>141.0</td>\n",
              "      <td>360.0</td>\n",
              "      <td>1.0</td>\n",
              "      <td>Urban</td>\n",
              "      <td>Y</td>\n",
              "    </tr>\n",
              "    <tr>\n",
              "      <th>...</th>\n",
              "      <td>...</td>\n",
              "      <td>...</td>\n",
              "      <td>...</td>\n",
              "      <td>...</td>\n",
              "      <td>...</td>\n",
              "      <td>...</td>\n",
              "      <td>...</td>\n",
              "      <td>...</td>\n",
              "      <td>...</td>\n",
              "      <td>...</td>\n",
              "      <td>...</td>\n",
              "      <td>...</td>\n",
              "      <td>...</td>\n",
              "    </tr>\n",
              "    <tr>\n",
              "      <th>609</th>\n",
              "      <td>LP002978</td>\n",
              "      <td>Female</td>\n",
              "      <td>No</td>\n",
              "      <td>0</td>\n",
              "      <td>Graduate</td>\n",
              "      <td>No</td>\n",
              "      <td>2900</td>\n",
              "      <td>0.0</td>\n",
              "      <td>71.0</td>\n",
              "      <td>360.0</td>\n",
              "      <td>1.0</td>\n",
              "      <td>Rural</td>\n",
              "      <td>Y</td>\n",
              "    </tr>\n",
              "    <tr>\n",
              "      <th>610</th>\n",
              "      <td>LP002979</td>\n",
              "      <td>Male</td>\n",
              "      <td>Yes</td>\n",
              "      <td>3+</td>\n",
              "      <td>Graduate</td>\n",
              "      <td>No</td>\n",
              "      <td>4106</td>\n",
              "      <td>0.0</td>\n",
              "      <td>40.0</td>\n",
              "      <td>180.0</td>\n",
              "      <td>1.0</td>\n",
              "      <td>Rural</td>\n",
              "      <td>Y</td>\n",
              "    </tr>\n",
              "    <tr>\n",
              "      <th>611</th>\n",
              "      <td>LP002983</td>\n",
              "      <td>Male</td>\n",
              "      <td>Yes</td>\n",
              "      <td>1</td>\n",
              "      <td>Graduate</td>\n",
              "      <td>No</td>\n",
              "      <td>8072</td>\n",
              "      <td>240.0</td>\n",
              "      <td>253.0</td>\n",
              "      <td>360.0</td>\n",
              "      <td>1.0</td>\n",
              "      <td>Urban</td>\n",
              "      <td>Y</td>\n",
              "    </tr>\n",
              "    <tr>\n",
              "      <th>612</th>\n",
              "      <td>LP002984</td>\n",
              "      <td>Male</td>\n",
              "      <td>Yes</td>\n",
              "      <td>2</td>\n",
              "      <td>Graduate</td>\n",
              "      <td>No</td>\n",
              "      <td>7583</td>\n",
              "      <td>0.0</td>\n",
              "      <td>187.0</td>\n",
              "      <td>360.0</td>\n",
              "      <td>1.0</td>\n",
              "      <td>Urban</td>\n",
              "      <td>Y</td>\n",
              "    </tr>\n",
              "    <tr>\n",
              "      <th>613</th>\n",
              "      <td>LP002990</td>\n",
              "      <td>Female</td>\n",
              "      <td>No</td>\n",
              "      <td>0</td>\n",
              "      <td>Graduate</td>\n",
              "      <td>Yes</td>\n",
              "      <td>4583</td>\n",
              "      <td>0.0</td>\n",
              "      <td>133.0</td>\n",
              "      <td>360.0</td>\n",
              "      <td>0.0</td>\n",
              "      <td>Semiurban</td>\n",
              "      <td>N</td>\n",
              "    </tr>\n",
              "  </tbody>\n",
              "</table>\n",
              "<p>614 rows × 13 columns</p>\n",
              "</div>"
            ],
            "text/plain": [
              "      Loan_ID  Gender Married  ... Credit_History Property_Area Loan_Status\n",
              "0    LP001002    Male      No  ...            1.0         Urban           Y\n",
              "1    LP001003    Male     Yes  ...            1.0         Rural           N\n",
              "2    LP001005    Male     Yes  ...            1.0         Urban           Y\n",
              "3    LP001006    Male     Yes  ...            1.0         Urban           Y\n",
              "4    LP001008    Male      No  ...            1.0         Urban           Y\n",
              "..        ...     ...     ...  ...            ...           ...         ...\n",
              "609  LP002978  Female      No  ...            1.0         Rural           Y\n",
              "610  LP002979    Male     Yes  ...            1.0         Rural           Y\n",
              "611  LP002983    Male     Yes  ...            1.0         Urban           Y\n",
              "612  LP002984    Male     Yes  ...            1.0         Urban           Y\n",
              "613  LP002990  Female      No  ...            0.0     Semiurban           N\n",
              "\n",
              "[614 rows x 13 columns]"
            ]
          },
          "metadata": {
            "tags": []
          },
          "execution_count": 3
        }
      ]
    },
    {
      "cell_type": "code",
      "metadata": {
        "colab": {
          "base_uri": "https://localhost:8080/",
          "height": 241
        },
        "id": "ufoZnOfErsSV",
        "outputId": "95425576-52b3-4a02-c431-9a306e9c1aa7"
      },
      "source": [
        "df.head()"
      ],
      "execution_count": 4,
      "outputs": [
        {
          "output_type": "execute_result",
          "data": {
            "text/html": [
              "<div>\n",
              "<style scoped>\n",
              "    .dataframe tbody tr th:only-of-type {\n",
              "        vertical-align: middle;\n",
              "    }\n",
              "\n",
              "    .dataframe tbody tr th {\n",
              "        vertical-align: top;\n",
              "    }\n",
              "\n",
              "    .dataframe thead th {\n",
              "        text-align: right;\n",
              "    }\n",
              "</style>\n",
              "<table border=\"1\" class=\"dataframe\">\n",
              "  <thead>\n",
              "    <tr style=\"text-align: right;\">\n",
              "      <th></th>\n",
              "      <th>Loan_ID</th>\n",
              "      <th>Gender</th>\n",
              "      <th>Married</th>\n",
              "      <th>Dependents</th>\n",
              "      <th>Education</th>\n",
              "      <th>Self_Employed</th>\n",
              "      <th>ApplicantIncome</th>\n",
              "      <th>CoapplicantIncome</th>\n",
              "      <th>LoanAmount</th>\n",
              "      <th>Loan_Amount_Term</th>\n",
              "      <th>Credit_History</th>\n",
              "      <th>Property_Area</th>\n",
              "      <th>Loan_Status</th>\n",
              "    </tr>\n",
              "  </thead>\n",
              "  <tbody>\n",
              "    <tr>\n",
              "      <th>0</th>\n",
              "      <td>LP001002</td>\n",
              "      <td>Male</td>\n",
              "      <td>No</td>\n",
              "      <td>0</td>\n",
              "      <td>Graduate</td>\n",
              "      <td>No</td>\n",
              "      <td>5849</td>\n",
              "      <td>0.0</td>\n",
              "      <td>NaN</td>\n",
              "      <td>360.0</td>\n",
              "      <td>1.0</td>\n",
              "      <td>Urban</td>\n",
              "      <td>Y</td>\n",
              "    </tr>\n",
              "    <tr>\n",
              "      <th>1</th>\n",
              "      <td>LP001003</td>\n",
              "      <td>Male</td>\n",
              "      <td>Yes</td>\n",
              "      <td>1</td>\n",
              "      <td>Graduate</td>\n",
              "      <td>No</td>\n",
              "      <td>4583</td>\n",
              "      <td>1508.0</td>\n",
              "      <td>128.0</td>\n",
              "      <td>360.0</td>\n",
              "      <td>1.0</td>\n",
              "      <td>Rural</td>\n",
              "      <td>N</td>\n",
              "    </tr>\n",
              "    <tr>\n",
              "      <th>2</th>\n",
              "      <td>LP001005</td>\n",
              "      <td>Male</td>\n",
              "      <td>Yes</td>\n",
              "      <td>0</td>\n",
              "      <td>Graduate</td>\n",
              "      <td>Yes</td>\n",
              "      <td>3000</td>\n",
              "      <td>0.0</td>\n",
              "      <td>66.0</td>\n",
              "      <td>360.0</td>\n",
              "      <td>1.0</td>\n",
              "      <td>Urban</td>\n",
              "      <td>Y</td>\n",
              "    </tr>\n",
              "    <tr>\n",
              "      <th>3</th>\n",
              "      <td>LP001006</td>\n",
              "      <td>Male</td>\n",
              "      <td>Yes</td>\n",
              "      <td>0</td>\n",
              "      <td>Not Graduate</td>\n",
              "      <td>No</td>\n",
              "      <td>2583</td>\n",
              "      <td>2358.0</td>\n",
              "      <td>120.0</td>\n",
              "      <td>360.0</td>\n",
              "      <td>1.0</td>\n",
              "      <td>Urban</td>\n",
              "      <td>Y</td>\n",
              "    </tr>\n",
              "    <tr>\n",
              "      <th>4</th>\n",
              "      <td>LP001008</td>\n",
              "      <td>Male</td>\n",
              "      <td>No</td>\n",
              "      <td>0</td>\n",
              "      <td>Graduate</td>\n",
              "      <td>No</td>\n",
              "      <td>6000</td>\n",
              "      <td>0.0</td>\n",
              "      <td>141.0</td>\n",
              "      <td>360.0</td>\n",
              "      <td>1.0</td>\n",
              "      <td>Urban</td>\n",
              "      <td>Y</td>\n",
              "    </tr>\n",
              "  </tbody>\n",
              "</table>\n",
              "</div>"
            ],
            "text/plain": [
              "    Loan_ID Gender Married  ... Credit_History Property_Area Loan_Status\n",
              "0  LP001002   Male      No  ...            1.0         Urban           Y\n",
              "1  LP001003   Male     Yes  ...            1.0         Rural           N\n",
              "2  LP001005   Male     Yes  ...            1.0         Urban           Y\n",
              "3  LP001006   Male     Yes  ...            1.0         Urban           Y\n",
              "4  LP001008   Male      No  ...            1.0         Urban           Y\n",
              "\n",
              "[5 rows x 13 columns]"
            ]
          },
          "metadata": {
            "tags": []
          },
          "execution_count": 4
        }
      ]
    },
    {
      "cell_type": "markdown",
      "metadata": {
        "id": "0s0ga20sr00p"
      },
      "source": [
        "First 5 rows of dataset."
      ]
    },
    {
      "cell_type": "code",
      "metadata": {
        "colab": {
          "base_uri": "https://localhost:8080/",
          "height": 224
        },
        "id": "B2JjNlyGr4Ua",
        "outputId": "db1e0a6f-2f9b-4c40-ba81-f076fe68c934"
      },
      "source": [
        "df.tail()"
      ],
      "execution_count": 5,
      "outputs": [
        {
          "output_type": "execute_result",
          "data": {
            "text/html": [
              "<div>\n",
              "<style scoped>\n",
              "    .dataframe tbody tr th:only-of-type {\n",
              "        vertical-align: middle;\n",
              "    }\n",
              "\n",
              "    .dataframe tbody tr th {\n",
              "        vertical-align: top;\n",
              "    }\n",
              "\n",
              "    .dataframe thead th {\n",
              "        text-align: right;\n",
              "    }\n",
              "</style>\n",
              "<table border=\"1\" class=\"dataframe\">\n",
              "  <thead>\n",
              "    <tr style=\"text-align: right;\">\n",
              "      <th></th>\n",
              "      <th>Loan_ID</th>\n",
              "      <th>Gender</th>\n",
              "      <th>Married</th>\n",
              "      <th>Dependents</th>\n",
              "      <th>Education</th>\n",
              "      <th>Self_Employed</th>\n",
              "      <th>ApplicantIncome</th>\n",
              "      <th>CoapplicantIncome</th>\n",
              "      <th>LoanAmount</th>\n",
              "      <th>Loan_Amount_Term</th>\n",
              "      <th>Credit_History</th>\n",
              "      <th>Property_Area</th>\n",
              "      <th>Loan_Status</th>\n",
              "    </tr>\n",
              "  </thead>\n",
              "  <tbody>\n",
              "    <tr>\n",
              "      <th>609</th>\n",
              "      <td>LP002978</td>\n",
              "      <td>Female</td>\n",
              "      <td>No</td>\n",
              "      <td>0</td>\n",
              "      <td>Graduate</td>\n",
              "      <td>No</td>\n",
              "      <td>2900</td>\n",
              "      <td>0.0</td>\n",
              "      <td>71.0</td>\n",
              "      <td>360.0</td>\n",
              "      <td>1.0</td>\n",
              "      <td>Rural</td>\n",
              "      <td>Y</td>\n",
              "    </tr>\n",
              "    <tr>\n",
              "      <th>610</th>\n",
              "      <td>LP002979</td>\n",
              "      <td>Male</td>\n",
              "      <td>Yes</td>\n",
              "      <td>3+</td>\n",
              "      <td>Graduate</td>\n",
              "      <td>No</td>\n",
              "      <td>4106</td>\n",
              "      <td>0.0</td>\n",
              "      <td>40.0</td>\n",
              "      <td>180.0</td>\n",
              "      <td>1.0</td>\n",
              "      <td>Rural</td>\n",
              "      <td>Y</td>\n",
              "    </tr>\n",
              "    <tr>\n",
              "      <th>611</th>\n",
              "      <td>LP002983</td>\n",
              "      <td>Male</td>\n",
              "      <td>Yes</td>\n",
              "      <td>1</td>\n",
              "      <td>Graduate</td>\n",
              "      <td>No</td>\n",
              "      <td>8072</td>\n",
              "      <td>240.0</td>\n",
              "      <td>253.0</td>\n",
              "      <td>360.0</td>\n",
              "      <td>1.0</td>\n",
              "      <td>Urban</td>\n",
              "      <td>Y</td>\n",
              "    </tr>\n",
              "    <tr>\n",
              "      <th>612</th>\n",
              "      <td>LP002984</td>\n",
              "      <td>Male</td>\n",
              "      <td>Yes</td>\n",
              "      <td>2</td>\n",
              "      <td>Graduate</td>\n",
              "      <td>No</td>\n",
              "      <td>7583</td>\n",
              "      <td>0.0</td>\n",
              "      <td>187.0</td>\n",
              "      <td>360.0</td>\n",
              "      <td>1.0</td>\n",
              "      <td>Urban</td>\n",
              "      <td>Y</td>\n",
              "    </tr>\n",
              "    <tr>\n",
              "      <th>613</th>\n",
              "      <td>LP002990</td>\n",
              "      <td>Female</td>\n",
              "      <td>No</td>\n",
              "      <td>0</td>\n",
              "      <td>Graduate</td>\n",
              "      <td>Yes</td>\n",
              "      <td>4583</td>\n",
              "      <td>0.0</td>\n",
              "      <td>133.0</td>\n",
              "      <td>360.0</td>\n",
              "      <td>0.0</td>\n",
              "      <td>Semiurban</td>\n",
              "      <td>N</td>\n",
              "    </tr>\n",
              "  </tbody>\n",
              "</table>\n",
              "</div>"
            ],
            "text/plain": [
              "      Loan_ID  Gender Married  ... Credit_History Property_Area Loan_Status\n",
              "609  LP002978  Female      No  ...            1.0         Rural           Y\n",
              "610  LP002979    Male     Yes  ...            1.0         Rural           Y\n",
              "611  LP002983    Male     Yes  ...            1.0         Urban           Y\n",
              "612  LP002984    Male     Yes  ...            1.0         Urban           Y\n",
              "613  LP002990  Female      No  ...            0.0     Semiurban           N\n",
              "\n",
              "[5 rows x 13 columns]"
            ]
          },
          "metadata": {
            "tags": []
          },
          "execution_count": 5
        }
      ]
    },
    {
      "cell_type": "markdown",
      "metadata": {
        "id": "tVtb-hYbsCjy"
      },
      "source": [
        "Last 5 rows of dataset."
      ]
    },
    {
      "cell_type": "code",
      "metadata": {
        "colab": {
          "base_uri": "https://localhost:8080/"
        },
        "id": "BVY_f2FXsGE7",
        "outputId": "4bf0eb86-721a-4e8e-d37d-fa1d1e57bc74"
      },
      "source": [
        "df.shape"
      ],
      "execution_count": 7,
      "outputs": [
        {
          "output_type": "execute_result",
          "data": {
            "text/plain": [
              "(614, 13)"
            ]
          },
          "metadata": {
            "tags": []
          },
          "execution_count": 7
        }
      ]
    },
    {
      "cell_type": "markdown",
      "metadata": {
        "id": "_1Mv-FnisQBA"
      },
      "source": [
        "There are 614 rows , 13 columns."
      ]
    },
    {
      "cell_type": "code",
      "metadata": {
        "colab": {
          "base_uri": "https://localhost:8080/"
        },
        "id": "PZPNt-4jsRSK",
        "outputId": "e25cd6e9-3d43-4b63-865c-6e4788566064"
      },
      "source": [
        "df.dtypes"
      ],
      "execution_count": 8,
      "outputs": [
        {
          "output_type": "execute_result",
          "data": {
            "text/plain": [
              "Loan_ID               object\n",
              "Gender                object\n",
              "Married               object\n",
              "Dependents            object\n",
              "Education             object\n",
              "Self_Employed         object\n",
              "ApplicantIncome        int64\n",
              "CoapplicantIncome    float64\n",
              "LoanAmount           float64\n",
              "Loan_Amount_Term     float64\n",
              "Credit_History       float64\n",
              "Property_Area         object\n",
              "Loan_Status           object\n",
              "dtype: object"
            ]
          },
          "metadata": {
            "tags": []
          },
          "execution_count": 8
        }
      ]
    },
    {
      "cell_type": "markdown",
      "metadata": {
        "id": "K3CXUmF8sYlK"
      },
      "source": [
        "Types in Dataset."
      ]
    },
    {
      "cell_type": "code",
      "metadata": {
        "colab": {
          "base_uri": "https://localhost:8080/"
        },
        "id": "6DupzhCnscGT",
        "outputId": "1a3b95a0-2175-4ee9-9c39-57b13bab51a6"
      },
      "source": [
        "df.info()"
      ],
      "execution_count": 9,
      "outputs": [
        {
          "output_type": "stream",
          "text": [
            "<class 'pandas.core.frame.DataFrame'>\n",
            "RangeIndex: 614 entries, 0 to 613\n",
            "Data columns (total 13 columns):\n",
            " #   Column             Non-Null Count  Dtype  \n",
            "---  ------             --------------  -----  \n",
            " 0   Loan_ID            614 non-null    object \n",
            " 1   Gender             601 non-null    object \n",
            " 2   Married            611 non-null    object \n",
            " 3   Dependents         599 non-null    object \n",
            " 4   Education          614 non-null    object \n",
            " 5   Self_Employed      582 non-null    object \n",
            " 6   ApplicantIncome    614 non-null    int64  \n",
            " 7   CoapplicantIncome  614 non-null    float64\n",
            " 8   LoanAmount         592 non-null    float64\n",
            " 9   Loan_Amount_Term   600 non-null    float64\n",
            " 10  Credit_History     564 non-null    float64\n",
            " 11  Property_Area      614 non-null    object \n",
            " 12  Loan_Status        614 non-null    object \n",
            "dtypes: float64(4), int64(1), object(8)\n",
            "memory usage: 62.5+ KB\n"
          ],
          "name": "stdout"
        }
      ]
    },
    {
      "cell_type": "code",
      "metadata": {
        "colab": {
          "base_uri": "https://localhost:8080/"
        },
        "id": "5thtgFDMsgDj",
        "outputId": "786dbf04-2422-448f-dc6b-97e6eaf36bda"
      },
      "source": [
        "df.columns"
      ],
      "execution_count": 10,
      "outputs": [
        {
          "output_type": "execute_result",
          "data": {
            "text/plain": [
              "Index(['Loan_ID', 'Gender', 'Married', 'Dependents', 'Education',\n",
              "       'Self_Employed', 'ApplicantIncome', 'CoapplicantIncome', 'LoanAmount',\n",
              "       'Loan_Amount_Term', 'Credit_History', 'Property_Area', 'Loan_Status'],\n",
              "      dtype='object')"
            ]
          },
          "metadata": {
            "tags": []
          },
          "execution_count": 10
        }
      ]
    },
    {
      "cell_type": "markdown",
      "metadata": {
        "id": "NyfhX4S6snZi"
      },
      "source": [
        "## **Statistical Information:**"
      ]
    },
    {
      "cell_type": "code",
      "metadata": {
        "colab": {
          "base_uri": "https://localhost:8080/",
          "height": 297
        },
        "id": "WPu-568HspUl",
        "outputId": "82695ca5-1e29-4223-b675-0a2356dfa08c"
      },
      "source": [
        "df.describe()"
      ],
      "execution_count": 11,
      "outputs": [
        {
          "output_type": "execute_result",
          "data": {
            "text/html": [
              "<div>\n",
              "<style scoped>\n",
              "    .dataframe tbody tr th:only-of-type {\n",
              "        vertical-align: middle;\n",
              "    }\n",
              "\n",
              "    .dataframe tbody tr th {\n",
              "        vertical-align: top;\n",
              "    }\n",
              "\n",
              "    .dataframe thead th {\n",
              "        text-align: right;\n",
              "    }\n",
              "</style>\n",
              "<table border=\"1\" class=\"dataframe\">\n",
              "  <thead>\n",
              "    <tr style=\"text-align: right;\">\n",
              "      <th></th>\n",
              "      <th>ApplicantIncome</th>\n",
              "      <th>CoapplicantIncome</th>\n",
              "      <th>LoanAmount</th>\n",
              "      <th>Loan_Amount_Term</th>\n",
              "      <th>Credit_History</th>\n",
              "    </tr>\n",
              "  </thead>\n",
              "  <tbody>\n",
              "    <tr>\n",
              "      <th>count</th>\n",
              "      <td>614.000000</td>\n",
              "      <td>614.000000</td>\n",
              "      <td>592.000000</td>\n",
              "      <td>600.00000</td>\n",
              "      <td>564.000000</td>\n",
              "    </tr>\n",
              "    <tr>\n",
              "      <th>mean</th>\n",
              "      <td>5403.459283</td>\n",
              "      <td>1621.245798</td>\n",
              "      <td>146.412162</td>\n",
              "      <td>342.00000</td>\n",
              "      <td>0.842199</td>\n",
              "    </tr>\n",
              "    <tr>\n",
              "      <th>std</th>\n",
              "      <td>6109.041673</td>\n",
              "      <td>2926.248369</td>\n",
              "      <td>85.587325</td>\n",
              "      <td>65.12041</td>\n",
              "      <td>0.364878</td>\n",
              "    </tr>\n",
              "    <tr>\n",
              "      <th>min</th>\n",
              "      <td>150.000000</td>\n",
              "      <td>0.000000</td>\n",
              "      <td>9.000000</td>\n",
              "      <td>12.00000</td>\n",
              "      <td>0.000000</td>\n",
              "    </tr>\n",
              "    <tr>\n",
              "      <th>25%</th>\n",
              "      <td>2877.500000</td>\n",
              "      <td>0.000000</td>\n",
              "      <td>100.000000</td>\n",
              "      <td>360.00000</td>\n",
              "      <td>1.000000</td>\n",
              "    </tr>\n",
              "    <tr>\n",
              "      <th>50%</th>\n",
              "      <td>3812.500000</td>\n",
              "      <td>1188.500000</td>\n",
              "      <td>128.000000</td>\n",
              "      <td>360.00000</td>\n",
              "      <td>1.000000</td>\n",
              "    </tr>\n",
              "    <tr>\n",
              "      <th>75%</th>\n",
              "      <td>5795.000000</td>\n",
              "      <td>2297.250000</td>\n",
              "      <td>168.000000</td>\n",
              "      <td>360.00000</td>\n",
              "      <td>1.000000</td>\n",
              "    </tr>\n",
              "    <tr>\n",
              "      <th>max</th>\n",
              "      <td>81000.000000</td>\n",
              "      <td>41667.000000</td>\n",
              "      <td>700.000000</td>\n",
              "      <td>480.00000</td>\n",
              "      <td>1.000000</td>\n",
              "    </tr>\n",
              "  </tbody>\n",
              "</table>\n",
              "</div>"
            ],
            "text/plain": [
              "       ApplicantIncome  CoapplicantIncome  ...  Loan_Amount_Term  Credit_History\n",
              "count       614.000000         614.000000  ...         600.00000      564.000000\n",
              "mean       5403.459283        1621.245798  ...         342.00000        0.842199\n",
              "std        6109.041673        2926.248369  ...          65.12041        0.364878\n",
              "min         150.000000           0.000000  ...          12.00000        0.000000\n",
              "25%        2877.500000           0.000000  ...         360.00000        1.000000\n",
              "50%        3812.500000        1188.500000  ...         360.00000        1.000000\n",
              "75%        5795.000000        2297.250000  ...         360.00000        1.000000\n",
              "max       81000.000000       41667.000000  ...         480.00000        1.000000\n",
              "\n",
              "[8 rows x 5 columns]"
            ]
          },
          "metadata": {
            "tags": []
          },
          "execution_count": 11
        }
      ]
    },
    {
      "cell_type": "markdown",
      "metadata": {
        "id": "xai1Z8X-sxRR"
      },
      "source": [
        "Observations :-\n",
        "\n",
        "1) The mean is more than median for ApplicantIncome, CoapplicantIncome and LoanAmount.\n",
        "\n",
        "2) There is large difference between standard deviation and maximum for ApplicantIncome and CoapplicantIncome."
      ]
    },
    {
      "cell_type": "markdown",
      "metadata": {
        "id": "fb_a39X1s2fa"
      },
      "source": [
        "## **Exploring Target Variable:**"
      ]
    },
    {
      "cell_type": "code",
      "metadata": {
        "colab": {
          "base_uri": "https://localhost:8080/"
        },
        "id": "EtamNlGps4hc",
        "outputId": "411ede4d-ba15-4544-d3fa-65f1445c1ce6"
      },
      "source": [
        "df['Loan_Status'].value_counts()"
      ],
      "execution_count": 12,
      "outputs": [
        {
          "output_type": "execute_result",
          "data": {
            "text/plain": [
              "Y    422\n",
              "N    192\n",
              "Name: Loan_Status, dtype: int64"
            ]
          },
          "metadata": {
            "tags": []
          },
          "execution_count": 12
        }
      ]
    },
    {
      "cell_type": "markdown",
      "metadata": {
        "id": "KOxO4eEns-d6"
      },
      "source": [
        "As target variable has only 2 values, so , this is a classification problem."
      ]
    },
    {
      "cell_type": "code",
      "metadata": {
        "colab": {
          "base_uri": "https://localhost:8080/",
          "height": 297
        },
        "id": "e9qZetG9s_Rq",
        "outputId": "43cd9646-7e02-4f37-fefa-e8d816137c9b"
      },
      "source": [
        "sns.countplot(df['Loan_Status'])"
      ],
      "execution_count": 13,
      "outputs": [
        {
          "output_type": "execute_result",
          "data": {
            "text/plain": [
              "<matplotlib.axes._subplots.AxesSubplot at 0x7f85e2d82b50>"
            ]
          },
          "metadata": {
            "tags": []
          },
          "execution_count": 13
        },
        {
          "output_type": "display_data",
          "data": {
            "image/png": "[encoded data removed]",
            "text/plain": [
              "<Figure size 432x288 with 1 Axes>"
            ]
          },
          "metadata": {
            "tags": [],
            "needs_background": "light"
          }
        }
      ]
    },
    {
      "cell_type": "markdown",
      "metadata": {
        "id": "LaM5mwb0tGXK"
      },
      "source": [
        "Observations :-\n",
        "\n",
        "Loan of the applicants have more approved than rejected in the dataset."
      ]
    },
    {
      "cell_type": "markdown",
      "metadata": {
        "id": "JaiuLTN8tKAC"
      },
      "source": [
        "## **Data Visualizations:**"
      ]
    },
    {
      "cell_type": "markdown",
      "metadata": {
        "id": "RpIQ5Xr9tO9K"
      },
      "source": [
        "To check missing valuesTo check missing values."
      ]
    },
    {
      "cell_type": "code",
      "metadata": {
        "colab": {
          "base_uri": "https://localhost:8080/",
          "height": 373
        },
        "id": "g4WavqlQtQFr",
        "outputId": "b2e28ed8-9f9c-4d6c-de33-4a7b5de0b0ed"
      },
      "source": [
        "sns.heatmap(df.isnull())"
      ],
      "execution_count": 14,
      "outputs": [
        {
          "output_type": "execute_result",
          "data": {
            "text/plain": [
              "<matplotlib.axes._subplots.AxesSubplot at 0x7f85dcd8cbd0>"
            ]
          },
          "metadata": {
            "tags": []
          },
          "execution_count": 14
        },
        {
          "output_type": "display_data",
          "data": {
            "image/png": "[encoded data removed]",
            "text/plain": [
              "<Figure size 432x288 with 2 Axes>"
            ]
          },
          "metadata": {
            "tags": [],
            "needs_background": "light"
          }
        }
      ]
    },
    {
      "cell_type": "markdown",
      "metadata": {
        "id": "BFLJj4VMtZ0S"
      },
      "source": [
        "Observations :-\n",
        "\n",
        "Gender, Married, Dependents, Self_Employed, LoanAmount, Loan_Amount_Term and Credit_History have null values."
      ]
    },
    {
      "cell_type": "markdown",
      "metadata": {
        "id": "3ziaKx4gteFS"
      },
      "source": [
        "## **Treating Null Values:**"
      ]
    },
    {
      "cell_type": "code",
      "metadata": {
        "id": "LLvl8hAUtgVF"
      },
      "source": [
        "df['Gender']=df['Gender'].fillna(df['Gender'].mode()[0])"
      ],
      "execution_count": 15,
      "outputs": []
    },
    {
      "cell_type": "code",
      "metadata": {
        "id": "P2_3HwYYtkKb"
      },
      "source": [
        "df['Married']=df['Married'].fillna(df['Married'].mode()[0])"
      ],
      "execution_count": 16,
      "outputs": []
    },
    {
      "cell_type": "code",
      "metadata": {
        "id": "XkHXPl-mtmWz"
      },
      "source": [
        "df['Dependents']=df['Dependents'].fillna(df['Dependents'].mode()[0])"
      ],
      "execution_count": 17,
      "outputs": []
    },
    {
      "cell_type": "code",
      "metadata": {
        "id": "k0HsTOneto0X"
      },
      "source": [
        "df['Self_Employed']=df['Self_Employed'].fillna(df['Self_Employed'].mode()[0])"
      ],
      "execution_count": 18,
      "outputs": []
    },
    {
      "cell_type": "code",
      "metadata": {
        "colab": {
          "base_uri": "https://localhost:8080/"
        },
        "id": "WRQoYw9atqv2",
        "outputId": "93f183c7-e37f-4c2b-c2b1-eea77ebeeb41"
      },
      "source": [
        "df['LoanAmount'].mean()"
      ],
      "execution_count": 19,
      "outputs": [
        {
          "output_type": "execute_result",
          "data": {
            "text/plain": [
              "146.41216216216216"
            ]
          },
          "metadata": {
            "tags": []
          },
          "execution_count": 19
        }
      ]
    },
    {
      "cell_type": "code",
      "metadata": {
        "colab": {
          "base_uri": "https://localhost:8080/"
        },
        "id": "d7m-t_z2ts1T",
        "outputId": "ee990ed8-dfe0-45db-bc13-7a058872f580"
      },
      "source": [
        "df['LoanAmount'].median()"
      ],
      "execution_count": 20,
      "outputs": [
        {
          "output_type": "execute_result",
          "data": {
            "text/plain": [
              "128.0"
            ]
          },
          "metadata": {
            "tags": []
          },
          "execution_count": 20
        }
      ]
    },
    {
      "cell_type": "code",
      "metadata": {
        "id": "zmkoOzNttvMb"
      },
      "source": [
        "df['LoanAmount']=df['LoanAmount'].fillna(df['LoanAmount'].mean())"
      ],
      "execution_count": 21,
      "outputs": []
    },
    {
      "cell_type": "code",
      "metadata": {
        "colab": {
          "base_uri": "https://localhost:8080/"
        },
        "id": "XTdoPsHatyLG",
        "outputId": "f4d62620-a313-4d2e-ccfa-88f691492652"
      },
      "source": [
        "\n",
        "df['Loan_Amount_Term'].mean()"
      ],
      "execution_count": 22,
      "outputs": [
        {
          "output_type": "execute_result",
          "data": {
            "text/plain": [
              "342.0"
            ]
          },
          "metadata": {
            "tags": []
          },
          "execution_count": 22
        }
      ]
    },
    {
      "cell_type": "code",
      "metadata": {
        "colab": {
          "base_uri": "https://localhost:8080/"
        },
        "id": "UgLeNW-tt01d",
        "outputId": "4ba15ece-29df-424f-b685-4326aefce4b0"
      },
      "source": [
        "df['Loan_Amount_Term'].median()"
      ],
      "execution_count": 23,
      "outputs": [
        {
          "output_type": "execute_result",
          "data": {
            "text/plain": [
              "360.0"
            ]
          },
          "metadata": {
            "tags": []
          },
          "execution_count": 23
        }
      ]
    },
    {
      "cell_type": "code",
      "metadata": {
        "id": "u_zIH1pzt3QW"
      },
      "source": [
        "df['Loan_Amount_Term']=df['Loan_Amount_Term'].fillna(df['Loan_Amount_Term'].median())"
      ],
      "execution_count": 24,
      "outputs": []
    },
    {
      "cell_type": "code",
      "metadata": {
        "colab": {
          "base_uri": "https://localhost:8080/"
        },
        "id": "kpVfu2Lwt5ud",
        "outputId": "48c0d1d7-9aa0-43d1-ff4a-ea36c2ee8187"
      },
      "source": [
        "\n",
        "df['Credit_History'].mean()"
      ],
      "execution_count": 25,
      "outputs": [
        {
          "output_type": "execute_result",
          "data": {
            "text/plain": [
              "0.8421985815602837"
            ]
          },
          "metadata": {
            "tags": []
          },
          "execution_count": 25
        }
      ]
    },
    {
      "cell_type": "code",
      "metadata": {
        "colab": {
          "base_uri": "https://localhost:8080/"
        },
        "id": "2_N0AqEZt8P3",
        "outputId": "30766ca1-04dc-4249-c2f8-ec31a7c3b85a"
      },
      "source": [
        "df['Credit_History'].median()\n"
      ],
      "execution_count": 26,
      "outputs": [
        {
          "output_type": "execute_result",
          "data": {
            "text/plain": [
              "1.0"
            ]
          },
          "metadata": {
            "tags": []
          },
          "execution_count": 26
        }
      ]
    },
    {
      "cell_type": "code",
      "metadata": {
        "id": "sNbyAXIAt-rm"
      },
      "source": [
        "df['Credit_History']=df['Credit_History'].fillna(df['Credit_History'].median())"
      ],
      "execution_count": 27,
      "outputs": []
    },
    {
      "cell_type": "code",
      "metadata": {
        "colab": {
          "base_uri": "https://localhost:8080/"
        },
        "id": "ime3R7QluDzk",
        "outputId": "95b5d406-e890-4072-91ae-c3c460f88df6"
      },
      "source": [
        "df.isnull().sum()"
      ],
      "execution_count": 28,
      "outputs": [
        {
          "output_type": "execute_result",
          "data": {
            "text/plain": [
              "Loan_ID              0\n",
              "Gender               0\n",
              "Married              0\n",
              "Dependents           0\n",
              "Education            0\n",
              "Self_Employed        0\n",
              "ApplicantIncome      0\n",
              "CoapplicantIncome    0\n",
              "LoanAmount           0\n",
              "Loan_Amount_Term     0\n",
              "Credit_History       0\n",
              "Property_Area        0\n",
              "Loan_Status          0\n",
              "dtype: int64"
            ]
          },
          "metadata": {
            "tags": []
          },
          "execution_count": 28
        }
      ]
    },
    {
      "cell_type": "markdown",
      "metadata": {
        "id": "qLJeiEoYuM2f"
      },
      "source": [
        "## **Bivariate Analysis:**"
      ]
    },
    {
      "cell_type": "code",
      "metadata": {
        "colab": {
          "base_uri": "https://localhost:8080/",
          "height": 297
        },
        "id": "zQIc5NY3uOzm",
        "outputId": "4cee98dc-a57f-4779-9a2b-ac19e897e930"
      },
      "source": [
        "sns.set_style('whitegrid')\n",
        "sns.countplot(x='Loan_Status',hue='Gender',data=df,palette='RdBu_r')"
      ],
      "execution_count": 29,
      "outputs": [
        {
          "output_type": "execute_result",
          "data": {
            "text/plain": [
              "<matplotlib.axes._subplots.AxesSubplot at 0x7f85d4c32a10>"
            ]
          },
          "metadata": {
            "tags": []
          },
          "execution_count": 29
        },
        {
          "output_type": "display_data",
          "data": {
            "image/png": "[encoded data removed]",
            "text/plain": [
              "<Figure size 432x288 with 1 Axes>"
            ]
          },
          "metadata": {
            "tags": []
          }
        }
      ]
    },
    {
      "cell_type": "markdown",
      "metadata": {
        "id": "7XcTDtRouUXQ"
      },
      "source": [
        "Observations :-\n",
        "\n",
        "Loan of male applicants have more approved than female applicants in the dataset."
      ]
    },
    {
      "cell_type": "code",
      "metadata": {
        "colab": {
          "base_uri": "https://localhost:8080/",
          "height": 300
        },
        "id": "qt5Uc728uVTL",
        "outputId": "de223de9-ccee-460e-98f1-8a4fe48cadb8"
      },
      "source": [
        "sns.set_style('whitegrid')\n",
        "sns.countplot(x='Loan_Status',hue='Married',data=df,palette='RdBu_r')"
      ],
      "execution_count": 30,
      "outputs": [
        {
          "output_type": "execute_result",
          "data": {
            "text/plain": [
              "<matplotlib.axes._subplots.AxesSubplot at 0x7f85d4c2ad90>"
            ]
          },
          "metadata": {
            "tags": []
          },
          "execution_count": 30
        },
        {
          "output_type": "display_data",
          "data": {
            "image/png": "[encoded data removed]",
            "text/plain": [
              "<Figure size 432x288 with 1 Axes>"
            ]
          },
          "metadata": {
            "tags": []
          }
        }
      ]
    },
    {
      "cell_type": "markdown",
      "metadata": {
        "id": "sUnvzFSiubXY"
      },
      "source": [
        "Observations :-\n",
        "\n",
        "Loan of married applicants have more approved than unmarried applicants in the dataset."
      ]
    },
    {
      "cell_type": "code",
      "metadata": {
        "colab": {
          "base_uri": "https://localhost:8080/",
          "height": 297
        },
        "id": "MTMZSfJ7ucLD",
        "outputId": "2a4c4f89-5575-4318-84a6-3ba707946870"
      },
      "source": [
        "sns.set_style('whitegrid')\n",
        "sns.countplot(x='Loan_Status',hue='Dependents',data=df,palette='RdBu_r')"
      ],
      "execution_count": 31,
      "outputs": [
        {
          "output_type": "execute_result",
          "data": {
            "text/plain": [
              "<matplotlib.axes._subplots.AxesSubplot at 0x7f85d4c1c750>"
            ]
          },
          "metadata": {
            "tags": []
          },
          "execution_count": 31
        },
        {
          "output_type": "display_data",
          "data": {
            "image/png": "[encoded data removed]",
            "text/plain": [
              "<Figure size 432x288 with 1 Axes>"
            ]
          },
          "metadata": {
            "tags": []
          }
        }
      ]
    },
    {
      "cell_type": "markdown",
      "metadata": {
        "id": "M6utKXyeulP0"
      },
      "source": [
        "Observations :-\n",
        "\n",
        "1) Loan of the applicants who have 0 dependents under them have approved the most.\n",
        "\n",
        "2) Loan of the applicants who have 3 dependents under them have approved the least.\n",
        "\n",
        "3) Loan of the applicants who have 2 dependents under them have also approved in good amount."
      ]
    },
    {
      "cell_type": "code",
      "metadata": {
        "colab": {
          "base_uri": "https://localhost:8080/",
          "height": 297
        },
        "id": "MeoykirHumjb",
        "outputId": "4b60d425-f3e1-41ca-d2cf-616a19925fda"
      },
      "source": [
        "sns.set_style('whitegrid')\n",
        "sns.countplot(x='Loan_Status',hue='Education',data=df,palette='RdBu_r')"
      ],
      "execution_count": 32,
      "outputs": [
        {
          "output_type": "execute_result",
          "data": {
            "text/plain": [
              "<matplotlib.axes._subplots.AxesSubplot at 0x7f85d4b8ae90>"
            ]
          },
          "metadata": {
            "tags": []
          },
          "execution_count": 32
        },
        {
          "output_type": "display_data",
          "data": {
            "image/png": "[encoded data removed]",
            "text/plain": [
              "<Figure size 432x288 with 1 Axes>"
            ]
          },
          "metadata": {
            "tags": []
          }
        }
      ]
    },
    {
      "cell_type": "markdown",
      "metadata": {
        "id": "7Rbz46fsusz2"
      },
      "source": [
        "Observations :-\n",
        "\n",
        "Loan of graduated applicants have more approved than ungraduated applicants in the dataset."
      ]
    },
    {
      "cell_type": "code",
      "metadata": {
        "colab": {
          "base_uri": "https://localhost:8080/",
          "height": 297
        },
        "id": "UAp1M7AkuyPD",
        "outputId": "6ce4284d-9907-49ea-9eb7-031e5a385019"
      },
      "source": [
        "sns.set_style('whitegrid')\n",
        "sns.countplot(x='Loan_Status',hue='Self_Employed',data=df,palette='RdBu_r')"
      ],
      "execution_count": 33,
      "outputs": [
        {
          "output_type": "execute_result",
          "data": {
            "text/plain": [
              "<matplotlib.axes._subplots.AxesSubplot at 0x7f85d4a82090>"
            ]
          },
          "metadata": {
            "tags": []
          },
          "execution_count": 33
        },
        {
          "output_type": "display_data",
          "data": {
            "image/png": "[encoded data removed]",
            "text/plain": [
              "<Figure size 432x288 with 1 Axes>"
            ]
          },
          "metadata": {
            "tags": []
          }
        }
      ]
    },
    {
      "cell_type": "markdown",
      "metadata": {
        "id": "g9cUt0Kqu4U4"
      },
      "source": [
        "Observations :-\n",
        "\n",
        "Loan of self employed applicants have more rejected than approved in the dataset."
      ]
    },
    {
      "cell_type": "code",
      "metadata": {
        "colab": {
          "base_uri": "https://localhost:8080/",
          "height": 297
        },
        "id": "kQUtHhO6u5Uj",
        "outputId": "2aac30b7-02f0-4620-83b7-0d3c3e1970d9"
      },
      "source": [
        "sns.set_style('whitegrid')\n",
        "sns.countplot(x='Loan_Status',hue='Property_Area',data=df,palette='RdBu_r')"
      ],
      "execution_count": 34,
      "outputs": [
        {
          "output_type": "execute_result",
          "data": {
            "text/plain": [
              "<matplotlib.axes._subplots.AxesSubplot at 0x7f85d4a67910>"
            ]
          },
          "metadata": {
            "tags": []
          },
          "execution_count": 34
        },
        {
          "output_type": "display_data",
          "data": {
            "image/png": "[encoded data removed]",
            "text/plain": [
              "<Figure size 432x288 with 1 Axes>"
            ]
          },
          "metadata": {
            "tags": []
          }
        }
      ]
    },
    {
      "cell_type": "markdown",
      "metadata": {
        "id": "O5m2Xkleu-n-"
      },
      "source": [
        "Observations :-\n",
        "\n",
        "1) Loan of semiurban applicants have accepted the most in the dataset.\n",
        "\n",
        "2) Loan of rural applicants have rejected the most in the dataset."
      ]
    },
    {
      "cell_type": "code",
      "metadata": {
        "colab": {
          "base_uri": "https://localhost:8080/",
          "height": 807
        },
        "id": "aAIFp8wbu_RT",
        "outputId": "bd211966-eae3-4d51-bedd-1ea879aa06c8"
      },
      "source": [
        "df_int_types_1=['ApplicantIncome','CoapplicantIncome', 'LoanAmount']\n",
        "for i in df_int_types_1:\n",
        "    sns.distplot(df[i])\n",
        "    plt.show()"
      ],
      "execution_count": 35,
      "outputs": [
        {
          "output_type": "display_data",
          "data": {
            "image/png": "[encoded data removed]",
            "text/plain": [
              "<Figure size 432x288 with 1 Axes>"
            ]
          },
          "metadata": {
            "tags": []
          }
        },
        {
          "output_type": "display_data",
          "data": {
            "image/png": "[encoded data removed]",
            "text/plain": [
              "<Figure size 432x288 with 1 Axes>"
            ]
          },
          "metadata": {
            "tags": []
          }
        },
        {
          "output_type": "display_data",
          "data": {
            "image/png": "[encoded data removed]",
            "text/plain": [
              "<Figure size 432x288 with 1 Axes>"
            ]
          },
          "metadata": {
            "tags": []
          }
        }
      ]
    },
    {
      "cell_type": "markdown",
      "metadata": {
        "id": "4hQE1UiyvEXP"
      },
      "source": [
        "Observations :-\n",
        "\n",
        "1) Loan applicants with income between 0 to 5000 are present in maximum number in the dataset.\n",
        "\n",
        "2) Loan applicants with loan amount between 100 to 200 are present in maximum number in the dataset.\n",
        "\n",
        "3) Loan applicants with coapplicantincome between 0 to 5000 are present in maximum number in the dataset."
      ]
    },
    {
      "cell_type": "code",
      "metadata": {
        "colab": {
          "base_uri": "https://localhost:8080/",
          "height": 543
        },
        "id": "2Z9lkC8NvFHs",
        "outputId": "55dacff5-efe5-45d0-ef62-bea796d5ae90"
      },
      "source": [
        "df_int_types_2=['Loan_Amount_Term', 'Credit_History']\n",
        "for i in df_int_types_2:\n",
        "    sns.violinplot(x=i,y='ApplicantIncome',data=df,hue='Loan_Status',split=True)\n",
        "    plt.show()"
      ],
      "execution_count": 36,
      "outputs": [
        {
          "output_type": "display_data",
          "data": {
            "image/png": "[encoded data removed]",
            "text/plain": [
              "<Figure size 432x288 with 1 Axes>"
            ]
          },
          "metadata": {
            "tags": []
          }
        },
        {
          "output_type": "display_data",
          "data": {
            "image/png": "[encoded data removed]",
            "text/plain": [
              "<Figure size 432x288 with 1 Axes>"
            ]
          },
          "metadata": {
            "tags": []
          }
        }
      ]
    },
    {
      "cell_type": "markdown",
      "metadata": {
        "id": "A-627A9mvM6N"
      },
      "source": [
        "\n",
        "Observations :-\n",
        "\n",
        "1) Loans with terms of amount as 240 and 60 have approved the most.\n",
        "\n",
        "2) Loans of applicants who have credit history have approved the most."
      ]
    },
    {
      "cell_type": "markdown",
      "metadata": {
        "id": "CsFXeWHTvRDj"
      },
      "source": [
        "## **Dropping of Columns:**"
      ]
    },
    {
      "cell_type": "code",
      "metadata": {
        "id": "KQHtUiuSvSsv"
      },
      "source": [
        "df.drop('Loan_ID',axis=1,inplace=True)"
      ],
      "execution_count": 37,
      "outputs": []
    },
    {
      "cell_type": "markdown",
      "metadata": {
        "id": "IqaEUNSVvY6M"
      },
      "source": [
        "## **Label Encoding:**"
      ]
    },
    {
      "cell_type": "code",
      "metadata": {
        "id": "KBGPL9adva_X"
      },
      "source": [
        "df_str_types=[]\n",
        "for i in df.columns:\n",
        "    if df[i].dtypes == \"object\":\n",
        "        df_str_types.append(i)"
      ],
      "execution_count": 38,
      "outputs": []
    },
    {
      "cell_type": "code",
      "metadata": {
        "colab": {
          "base_uri": "https://localhost:8080/"
        },
        "id": "VvdHHWasvdUT",
        "outputId": "2e003112-02c2-409e-d5ae-8168da8e0247"
      },
      "source": [
        "df_str_types"
      ],
      "execution_count": 39,
      "outputs": [
        {
          "output_type": "execute_result",
          "data": {
            "text/plain": [
              "['Gender',\n",
              " 'Married',\n",
              " 'Dependents',\n",
              " 'Education',\n",
              " 'Self_Employed',\n",
              " 'Property_Area',\n",
              " 'Loan_Status']"
            ]
          },
          "metadata": {
            "tags": []
          },
          "execution_count": 39
        }
      ]
    },
    {
      "cell_type": "code",
      "metadata": {
        "colab": {
          "base_uri": "https://localhost:8080/"
        },
        "id": "IQSEVahEvfPU",
        "outputId": "3b315a9a-0584-40fb-ab89-20b04e872b3c"
      },
      "source": [
        "from sklearn.preprocessing import LabelEncoder\n",
        "LE=LabelEncoder()\n",
        "for value in df_str_types:\n",
        "    df[value]=LE.fit_transform(df[value])\n",
        "    print(df[value].value_counts())"
      ],
      "execution_count": 40,
      "outputs": [
        {
          "output_type": "stream",
          "text": [
            "1    502\n",
            "0    112\n",
            "Name: Gender, dtype: int64\n",
            "1    401\n",
            "0    213\n",
            "Name: Married, dtype: int64\n",
            "0    360\n",
            "1    102\n",
            "2    101\n",
            "3     51\n",
            "Name: Dependents, dtype: int64\n",
            "0    480\n",
            "1    134\n",
            "Name: Education, dtype: int64\n",
            "0    532\n",
            "1     82\n",
            "Name: Self_Employed, dtype: int64\n",
            "1    233\n",
            "2    202\n",
            "0    179\n",
            "Name: Property_Area, dtype: int64\n",
            "1    422\n",
            "0    192\n",
            "Name: Loan_Status, dtype: int64\n"
          ],
          "name": "stdout"
        }
      ]
    },
    {
      "cell_type": "code",
      "metadata": {
        "colab": {
          "base_uri": "https://localhost:8080/",
          "height": 441
        },
        "id": "4-BKd4x4viY8",
        "outputId": "f5924f58-3d6b-44ac-a2fa-f9e7a995d886"
      },
      "source": [
        "dfcorr=df.corr()\n",
        "dfcorr"
      ],
      "execution_count": 41,
      "outputs": [
        {
          "output_type": "execute_result",
          "data": {
            "text/html": [
              "<div>\n",
              "<style scoped>\n",
              "    .dataframe tbody tr th:only-of-type {\n",
              "        vertical-align: middle;\n",
              "    }\n",
              "\n",
              "    .dataframe tbody tr th {\n",
              "        vertical-align: top;\n",
              "    }\n",
              "\n",
              "    .dataframe thead th {\n",
              "        text-align: right;\n",
              "    }\n",
              "</style>\n",
              "<table border=\"1\" class=\"dataframe\">\n",
              "  <thead>\n",
              "    <tr style=\"text-align: right;\">\n",
              "      <th></th>\n",
              "      <th>Gender</th>\n",
              "      <th>Married</th>\n",
              "      <th>Dependents</th>\n",
              "      <th>Education</th>\n",
              "      <th>Self_Employed</th>\n",
              "      <th>ApplicantIncome</th>\n",
              "      <th>CoapplicantIncome</th>\n",
              "      <th>LoanAmount</th>\n",
              "      <th>Loan_Amount_Term</th>\n",
              "      <th>Credit_History</th>\n",
              "      <th>Property_Area</th>\n",
              "      <th>Loan_Status</th>\n",
              "    </tr>\n",
              "  </thead>\n",
              "  <tbody>\n",
              "    <tr>\n",
              "      <th>Gender</th>\n",
              "      <td>1.000000</td>\n",
              "      <td>0.364569</td>\n",
              "      <td>0.172914</td>\n",
              "      <td>0.045364</td>\n",
              "      <td>-0.000525</td>\n",
              "      <td>0.058809</td>\n",
              "      <td>0.082912</td>\n",
              "      <td>0.107930</td>\n",
              "      <td>-0.074030</td>\n",
              "      <td>0.009170</td>\n",
              "      <td>-0.025752</td>\n",
              "      <td>0.017987</td>\n",
              "    </tr>\n",
              "    <tr>\n",
              "      <th>Married</th>\n",
              "      <td>0.364569</td>\n",
              "      <td>1.000000</td>\n",
              "      <td>0.334216</td>\n",
              "      <td>0.012304</td>\n",
              "      <td>0.004489</td>\n",
              "      <td>0.051708</td>\n",
              "      <td>0.075948</td>\n",
              "      <td>0.147141</td>\n",
              "      <td>-0.100912</td>\n",
              "      <td>0.010938</td>\n",
              "      <td>0.004257</td>\n",
              "      <td>0.091478</td>\n",
              "    </tr>\n",
              "    <tr>\n",
              "      <th>Dependents</th>\n",
              "      <td>0.172914</td>\n",
              "      <td>0.334216</td>\n",
              "      <td>1.000000</td>\n",
              "      <td>0.055752</td>\n",
              "      <td>0.056798</td>\n",
              "      <td>0.118202</td>\n",
              "      <td>0.030430</td>\n",
              "      <td>0.163106</td>\n",
              "      <td>-0.103864</td>\n",
              "      <td>-0.040160</td>\n",
              "      <td>-0.000244</td>\n",
              "      <td>0.010118</td>\n",
              "    </tr>\n",
              "    <tr>\n",
              "      <th>Education</th>\n",
              "      <td>0.045364</td>\n",
              "      <td>0.012304</td>\n",
              "      <td>0.055752</td>\n",
              "      <td>1.000000</td>\n",
              "      <td>-0.010383</td>\n",
              "      <td>-0.140760</td>\n",
              "      <td>-0.062290</td>\n",
              "      <td>-0.166998</td>\n",
              "      <td>-0.073928</td>\n",
              "      <td>-0.073658</td>\n",
              "      <td>-0.065243</td>\n",
              "      <td>-0.085884</td>\n",
              "    </tr>\n",
              "    <tr>\n",
              "      <th>Self_Employed</th>\n",
              "      <td>-0.000525</td>\n",
              "      <td>0.004489</td>\n",
              "      <td>0.056798</td>\n",
              "      <td>-0.010383</td>\n",
              "      <td>1.000000</td>\n",
              "      <td>0.127180</td>\n",
              "      <td>-0.016100</td>\n",
              "      <td>0.115260</td>\n",
              "      <td>-0.033739</td>\n",
              "      <td>-0.001550</td>\n",
              "      <td>-0.030860</td>\n",
              "      <td>-0.003700</td>\n",
              "    </tr>\n",
              "    <tr>\n",
              "      <th>ApplicantIncome</th>\n",
              "      <td>0.058809</td>\n",
              "      <td>0.051708</td>\n",
              "      <td>0.118202</td>\n",
              "      <td>-0.140760</td>\n",
              "      <td>0.127180</td>\n",
              "      <td>1.000000</td>\n",
              "      <td>-0.116605</td>\n",
              "      <td>0.565620</td>\n",
              "      <td>-0.046531</td>\n",
              "      <td>-0.018615</td>\n",
              "      <td>-0.009500</td>\n",
              "      <td>-0.004710</td>\n",
              "    </tr>\n",
              "    <tr>\n",
              "      <th>CoapplicantIncome</th>\n",
              "      <td>0.082912</td>\n",
              "      <td>0.075948</td>\n",
              "      <td>0.030430</td>\n",
              "      <td>-0.062290</td>\n",
              "      <td>-0.016100</td>\n",
              "      <td>-0.116605</td>\n",
              "      <td>1.000000</td>\n",
              "      <td>0.187828</td>\n",
              "      <td>-0.059383</td>\n",
              "      <td>0.011134</td>\n",
              "      <td>0.010522</td>\n",
              "      <td>-0.059187</td>\n",
              "    </tr>\n",
              "    <tr>\n",
              "      <th>LoanAmount</th>\n",
              "      <td>0.107930</td>\n",
              "      <td>0.147141</td>\n",
              "      <td>0.163106</td>\n",
              "      <td>-0.166998</td>\n",
              "      <td>0.115260</td>\n",
              "      <td>0.565620</td>\n",
              "      <td>0.187828</td>\n",
              "      <td>1.000000</td>\n",
              "      <td>0.036475</td>\n",
              "      <td>-0.001431</td>\n",
              "      <td>-0.044776</td>\n",
              "      <td>-0.036416</td>\n",
              "    </tr>\n",
              "    <tr>\n",
              "      <th>Loan_Amount_Term</th>\n",
              "      <td>-0.074030</td>\n",
              "      <td>-0.100912</td>\n",
              "      <td>-0.103864</td>\n",
              "      <td>-0.073928</td>\n",
              "      <td>-0.033739</td>\n",
              "      <td>-0.046531</td>\n",
              "      <td>-0.059383</td>\n",
              "      <td>0.036475</td>\n",
              "      <td>1.000000</td>\n",
              "      <td>-0.004705</td>\n",
              "      <td>-0.076120</td>\n",
              "      <td>-0.022549</td>\n",
              "    </tr>\n",
              "    <tr>\n",
              "      <th>Credit_History</th>\n",
              "      <td>0.009170</td>\n",
              "      <td>0.010938</td>\n",
              "      <td>-0.040160</td>\n",
              "      <td>-0.073658</td>\n",
              "      <td>-0.001550</td>\n",
              "      <td>-0.018615</td>\n",
              "      <td>0.011134</td>\n",
              "      <td>-0.001431</td>\n",
              "      <td>-0.004705</td>\n",
              "      <td>1.000000</td>\n",
              "      <td>0.001963</td>\n",
              "      <td>0.540556</td>\n",
              "    </tr>\n",
              "    <tr>\n",
              "      <th>Property_Area</th>\n",
              "      <td>-0.025752</td>\n",
              "      <td>0.004257</td>\n",
              "      <td>-0.000244</td>\n",
              "      <td>-0.065243</td>\n",
              "      <td>-0.030860</td>\n",
              "      <td>-0.009500</td>\n",
              "      <td>0.010522</td>\n",
              "      <td>-0.044776</td>\n",
              "      <td>-0.076120</td>\n",
              "      <td>0.001963</td>\n",
              "      <td>1.000000</td>\n",
              "      <td>0.032112</td>\n",
              "    </tr>\n",
              "    <tr>\n",
              "      <th>Loan_Status</th>\n",
              "      <td>0.017987</td>\n",
              "      <td>0.091478</td>\n",
              "      <td>0.010118</td>\n",
              "      <td>-0.085884</td>\n",
              "      <td>-0.003700</td>\n",
              "      <td>-0.004710</td>\n",
              "      <td>-0.059187</td>\n",
              "      <td>-0.036416</td>\n",
              "      <td>-0.022549</td>\n",
              "      <td>0.540556</td>\n",
              "      <td>0.032112</td>\n",
              "      <td>1.000000</td>\n",
              "    </tr>\n",
              "  </tbody>\n",
              "</table>\n",
              "</div>"
            ],
            "text/plain": [
              "                     Gender   Married  ...  Property_Area  Loan_Status\n",
              "Gender             1.000000  0.364569  ...      -0.025752     0.017987\n",
              "Married            0.364569  1.000000  ...       0.004257     0.091478\n",
              "Dependents         0.172914  0.334216  ...      -0.000244     0.010118\n",
              "Education          0.045364  0.012304  ...      -0.065243    -0.085884\n",
              "Self_Employed     -0.000525  0.004489  ...      -0.030860    -0.003700\n",
              "ApplicantIncome    0.058809  0.051708  ...      -0.009500    -0.004710\n",
              "CoapplicantIncome  0.082912  0.075948  ...       0.010522    -0.059187\n",
              "LoanAmount         0.107930  0.147141  ...      -0.044776    -0.036416\n",
              "Loan_Amount_Term  -0.074030 -0.100912  ...      -0.076120    -0.022549\n",
              "Credit_History     0.009170  0.010938  ...       0.001963     0.540556\n",
              "Property_Area     -0.025752  0.004257  ...       1.000000     0.032112\n",
              "Loan_Status        0.017987  0.091478  ...       0.032112     1.000000\n",
              "\n",
              "[12 rows x 12 columns]"
            ]
          },
          "metadata": {
            "tags": []
          },
          "execution_count": 41
        }
      ]
    },
    {
      "cell_type": "markdown",
      "metadata": {
        "id": "mkgEGcPZvo7X"
      },
      "source": [
        "## **Multivariate Analysis:**"
      ]
    },
    {
      "cell_type": "code",
      "metadata": {
        "colab": {
          "base_uri": "https://localhost:8080/",
          "height": 863
        },
        "id": "Rtu3mlBpvqxn",
        "outputId": "54138e0d-cfdb-45b1-b297-97f3c69e764f"
      },
      "source": [
        "plt.figure(figsize=(15,13))\n",
        "sns.heatmap(dfcorr,cmap='YlGnBu',annot=True)"
      ],
      "execution_count": 42,
      "outputs": [
        {
          "output_type": "execute_result",
          "data": {
            "text/plain": [
              "<matplotlib.axes._subplots.AxesSubplot at 0x7f85d14f1ed0>"
            ]
          },
          "metadata": {
            "tags": []
          },
          "execution_count": 42
        },
        {
          "output_type": "display_data",
          "data": {
            "image/png": "[encoded data removed]",
            "text/plain": [
              "<Figure size 1080x936 with 2 Axes>"
            ]
          },
          "metadata": {
            "tags": []
          }
        }
      ]
    },
    {
      "cell_type": "markdown",
      "metadata": {
        "id": "CtjRkljqvzRr"
      },
      "source": [
        "Observations :-\n",
        "\n",
        "1) Loan Status is highly positively correlated to the credit history of applicants.\n",
        "\n",
        "2) Credit history of applicants is highly negatively correlated to the education of applicants.\n",
        "\n",
        "3) Edcation of applicants is highly positively correlated to the number of dependents.\n",
        "\n",
        "4) Edcation of applicants is highly negatively correlated to the status of loan."
      ]
    },
    {
      "cell_type": "markdown",
      "metadata": {
        "id": "xKVSRLMmv2PZ"
      },
      "source": [
        "## **Plotting Outliers:**"
      ]
    },
    {
      "cell_type": "code",
      "metadata": {
        "colab": {
          "base_uri": "https://localhost:8080/"
        },
        "id": "cddN-_r2v49H",
        "outputId": "21a2c40d-d28f-497f-e3ec-cb9695cfb1db"
      },
      "source": [
        "df.shape"
      ],
      "execution_count": 43,
      "outputs": [
        {
          "output_type": "execute_result",
          "data": {
            "text/plain": [
              "(614, 12)"
            ]
          },
          "metadata": {
            "tags": []
          },
          "execution_count": 43
        }
      ]
    },
    {
      "cell_type": "code",
      "metadata": {
        "colab": {
          "base_uri": "https://localhost:8080/",
          "height": 913
        },
        "id": "zP8PZiB5wAfk",
        "outputId": "65b4d1d1-8b50-4831-8198-4b9f03679981"
      },
      "source": [
        "df.plot(kind='box',subplots=True,layout=(1,12),sharex=False,fontsize=1,figsize=(18,12))"
      ],
      "execution_count": 44,
      "outputs": [
        {
          "output_type": "execute_result",
          "data": {
            "text/plain": [
              "Gender                  AxesSubplot(0.125,0.125;0.0545775x0.755)\n",
              "Married              AxesSubplot(0.190493,0.125;0.0545775x0.755)\n",
              "Dependents           AxesSubplot(0.255986,0.125;0.0545775x0.755)\n",
              "Education            AxesSubplot(0.321479,0.125;0.0545775x0.755)\n",
              "Self_Employed        AxesSubplot(0.386972,0.125;0.0545775x0.755)\n",
              "ApplicantIncome      AxesSubplot(0.452465,0.125;0.0545775x0.755)\n",
              "CoapplicantIncome    AxesSubplot(0.517958,0.125;0.0545775x0.755)\n",
              "LoanAmount           AxesSubplot(0.583451,0.125;0.0545775x0.755)\n",
              "Loan_Amount_Term     AxesSubplot(0.648944,0.125;0.0545775x0.755)\n",
              "Credit_History       AxesSubplot(0.714437,0.125;0.0545775x0.755)\n",
              "Property_Area         AxesSubplot(0.77993,0.125;0.0545775x0.755)\n",
              "Loan_Status          AxesSubplot(0.845423,0.125;0.0545775x0.755)\n",
              "dtype: object"
            ]
          },
          "metadata": {
            "tags": []
          },
          "execution_count": 44
        },
        {
          "output_type": "display_data",
          "data": {
            "image/png": "[encoded data removed]",
            "text/plain": [
              "<Figure size 1296x864 with 12 Axes>"
            ]
          },
          "metadata": {
            "tags": []
          }
        }
      ]
    },
    {
      "cell_type": "markdown",
      "metadata": {
        "id": "-hEK0OLwwFb0"
      },
      "source": [
        "Observations :-\n",
        "\n",
        "Gender, Dependents, Education, Self_Employed, ApplicantIncome, CoapplicantIncome, LoanAmount, Loan_Amount_Term and Credit_History have outliers."
      ]
    },
    {
      "cell_type": "markdown",
      "metadata": {
        "id": "x06971SywIVZ"
      },
      "source": [
        "## **Removing Outliers:**"
      ]
    },
    {
      "cell_type": "code",
      "metadata": {
        "colab": {
          "base_uri": "https://localhost:8080/"
        },
        "id": "NhrrFDzvwJ1X",
        "outputId": "acf7dfae-9c1d-44fc-92b2-f5a465eb8fda"
      },
      "source": [
        "from scipy.stats import zscore\n",
        "z=np.abs(zscore(df))\n",
        "z"
      ],
      "execution_count": 45,
      "outputs": [
        {
          "output_type": "execute_result",
          "data": {
            "text/plain": [
              "array([[0.47234264, 1.37208932, 0.73780632, ..., 0.41173269, 1.22329839,\n",
              "        0.67451931],\n",
              "       [0.47234264, 0.72881553, 0.25346957, ..., 0.41173269, 1.31851281,\n",
              "        1.48253724],\n",
              "       [0.47234264, 0.72881553, 0.73780632, ..., 0.41173269, 1.22329839,\n",
              "        0.67451931],\n",
              "       ...,\n",
              "       [0.47234264, 0.72881553, 0.25346957, ..., 0.41173269, 1.22329839,\n",
              "        0.67451931],\n",
              "       [0.47234264, 0.72881553, 1.24474546, ..., 0.41173269, 1.22329839,\n",
              "        0.67451931],\n",
              "       [2.11710719, 1.37208932, 0.73780632, ..., 2.42876026, 0.04760721,\n",
              "        1.48253724]])"
            ]
          },
          "metadata": {
            "tags": []
          },
          "execution_count": 45
        }
      ]
    },
    {
      "cell_type": "code",
      "metadata": {
        "colab": {
          "base_uri": "https://localhost:8080/"
        },
        "id": "THRbxgMpwML8",
        "outputId": "927fa749-7e10-4d93-c36c-976ee2a49066"
      },
      "source": [
        "threshold=3\n",
        "print(np.where(z>3))"
      ],
      "execution_count": 46,
      "outputs": [
        {
          "output_type": "stream",
          "text": [
            "(array([  9,  14,  68,  94, 126, 130, 133, 155, 155, 171, 171, 177, 177,\n",
            "       183, 185, 242, 262, 278, 308, 313, 333, 333, 369, 402, 409, 417,\n",
            "       432, 443, 487, 495, 497, 506, 523, 525, 546, 561, 575, 581, 585,\n",
            "       600, 604]), array([6, 8, 8, 8, 5, 7, 8, 5, 7, 5, 7, 6, 7, 5, 5, 8, 8, 7, 7, 8, 5, 7,\n",
            "       7, 6, 5, 6, 7, 5, 7, 8, 8, 7, 7, 7, 8, 7, 8, 6, 8, 6, 7]))\n"
          ],
          "name": "stdout"
        }
      ]
    },
    {
      "cell_type": "code",
      "metadata": {
        "id": "lNVDW0UcwPak"
      },
      "source": [
        "df_new=df[(z<3).all(axis=1)]"
      ],
      "execution_count": 47,
      "outputs": []
    },
    {
      "cell_type": "code",
      "metadata": {
        "colab": {
          "base_uri": "https://localhost:8080/"
        },
        "id": "GjRqqWTEwRuU",
        "outputId": "9ef3ea7f-bbd7-4d23-9141-9341e8bc2f2b"
      },
      "source": [
        "\n",
        "df_new.shape"
      ],
      "execution_count": 48,
      "outputs": [
        {
          "output_type": "execute_result",
          "data": {
            "text/plain": [
              "(577, 12)"
            ]
          },
          "metadata": {
            "tags": []
          },
          "execution_count": 48
        }
      ]
    },
    {
      "cell_type": "code",
      "metadata": {
        "colab": {
          "base_uri": "https://localhost:8080/"
        },
        "id": "cpv19XHywTsF",
        "outputId": "5e7a44d0-f117-4147-ad7d-c412dbae0ed7"
      },
      "source": [
        "df.shape"
      ],
      "execution_count": 49,
      "outputs": [
        {
          "output_type": "execute_result",
          "data": {
            "text/plain": [
              "(614, 12)"
            ]
          },
          "metadata": {
            "tags": []
          },
          "execution_count": 49
        }
      ]
    },
    {
      "cell_type": "code",
      "metadata": {
        "id": "IQtDpl0AwWXN"
      },
      "source": [
        "df=df_new"
      ],
      "execution_count": 50,
      "outputs": []
    },
    {
      "cell_type": "code",
      "metadata": {
        "colab": {
          "base_uri": "https://localhost:8080/"
        },
        "id": "nG41xXTFwYws",
        "outputId": "38f1127c-1a49-4713-f477-fba74cae86df"
      },
      "source": [
        "((614-577)/614)*100"
      ],
      "execution_count": 51,
      "outputs": [
        {
          "output_type": "execute_result",
          "data": {
            "text/plain": [
              "6.026058631921824"
            ]
          },
          "metadata": {
            "tags": []
          },
          "execution_count": 51
        }
      ]
    },
    {
      "cell_type": "markdown",
      "metadata": {
        "id": "atSanoXLwfxb"
      },
      "source": [
        "## **checking Skewness:**"
      ]
    },
    {
      "cell_type": "code",
      "metadata": {
        "colab": {
          "base_uri": "https://localhost:8080/",
          "height": 912
        },
        "id": "LxW0SEJ4whfv",
        "outputId": "c5493ea8-ffc6-4836-8484-cbbf0df8cadf"
      },
      "source": [
        "df.plot(kind='density',subplots=True,layout=(1,12),sharex=False,fontsize=1,figsize=(18,12))"
      ],
      "execution_count": 52,
      "outputs": [
        {
          "output_type": "execute_result",
          "data": {
            "text/plain": [
              "array([[<matplotlib.axes._subplots.AxesSubplot object at 0x7f85d1427dd0>,\n",
              "        <matplotlib.axes._subplots.AxesSubplot object at 0x7f85cf977850>,\n",
              "        <matplotlib.axes._subplots.AxesSubplot object at 0x7f85cf5cd910>,\n",
              "        <matplotlib.axes._subplots.AxesSubplot object at 0x7f85d49e6250>,\n",
              "        <matplotlib.axes._subplots.AxesSubplot object at 0x7f85d49654d0>,\n",
              "        <matplotlib.axes._subplots.AxesSubplot object at 0x7f85d4b63a50>,\n",
              "        <matplotlib.axes._subplots.AxesSubplot object at 0x7f85d4c73c90>,\n",
              "        <matplotlib.axes._subplots.AxesSubplot object at 0x7f85d4c9aa90>,\n",
              "        <matplotlib.axes._subplots.AxesSubplot object at 0x7f85dd5cef10>,\n",
              "        <matplotlib.axes._subplots.AxesSubplot object at 0x7f85d4b3fdd0>,\n",
              "        <matplotlib.axes._subplots.AxesSubplot object at 0x7f85dd21dd90>,\n",
              "        <matplotlib.axes._subplots.AxesSubplot object at 0x7f85d1581510>]],\n",
              "      dtype=object)"
            ]
          },
          "metadata": {
            "tags": []
          },
          "execution_count": 52
        },
        {
          "output_type": "display_data",
          "data": {
            "image/png": "[encoded data removed]",
            "text/plain": [
              "<Figure size 1296x864 with 12 Axes>"
            ]
          },
          "metadata": {
            "tags": []
          }
        }
      ]
    },
    {
      "cell_type": "markdown",
      "metadata": {
        "id": "cUnc8LiKwo4-"
      },
      "source": [
        "Observations :-\n",
        "\n",
        "1) Dependents, Education, Self_Employed, ApplicantIncome, CoapplicantIncome and LoanAmount are right skewed.\n",
        "\n",
        "2) Gender, Married, Loan_Amount_Term, Credit_History and Loan_Status are left skewed."
      ]
    },
    {
      "cell_type": "code",
      "metadata": {
        "colab": {
          "base_uri": "https://localhost:8080/"
        },
        "id": "msfTHI_7wpt7",
        "outputId": "ac08a2b5-a7bd-433d-bd6a-50744e133311"
      },
      "source": [
        "df.skew()"
      ],
      "execution_count": 53,
      "outputs": [
        {
          "output_type": "execute_result",
          "data": {
            "text/plain": [
              "Gender              -1.622920\n",
              "Married             -0.630211\n",
              "Dependents           1.052106\n",
              "Education            1.306588\n",
              "Self_Employed        2.252848\n",
              "ApplicantIncome      2.148522\n",
              "CoapplicantIncome    1.350517\n",
              "LoanAmount           1.113132\n",
              "Loan_Amount_Term    -2.098806\n",
              "Credit_History      -1.976043\n",
              "Property_Area       -0.055332\n",
              "Loan_Status         -0.822635\n",
              "dtype: float64"
            ]
          },
          "metadata": {
            "tags": []
          },
          "execution_count": 53
        }
      ]
    },
    {
      "cell_type": "code",
      "metadata": {
        "id": "r56lx7afwtvk"
      },
      "source": [
        "df_rs=['Dependents', 'Education',\n",
        "       'Self_Employed', 'ApplicantIncome', 'CoapplicantIncome', 'LoanAmount']\n",
        "for val in df_rs:\n",
        "    if df.skew().loc[val]>0.55:\n",
        "        df[val]=np.sqrt(df[val])"
      ],
      "execution_count": 54,
      "outputs": []
    },
    {
      "cell_type": "code",
      "metadata": {
        "colab": {
          "base_uri": "https://localhost:8080/"
        },
        "id": "WlBNi6adw1aU",
        "outputId": "a88df298-31a4-4af9-8061-2364bb62683a"
      },
      "source": [
        "df.skew()"
      ],
      "execution_count": 55,
      "outputs": [
        {
          "output_type": "execute_result",
          "data": {
            "text/plain": [
              "Gender              -1.622920\n",
              "Married             -0.630211\n",
              "Dependents           0.610338\n",
              "Education            1.306588\n",
              "Self_Employed        2.252848\n",
              "ApplicantIncome      1.208613\n",
              "CoapplicantIncome    0.207591\n",
              "LoanAmount           0.320372\n",
              "Loan_Amount_Term    -2.098806\n",
              "Credit_History      -1.976043\n",
              "Property_Area       -0.055332\n",
              "Loan_Status         -0.822635\n",
              "dtype: float64"
            ]
          },
          "metadata": {
            "tags": []
          },
          "execution_count": 55
        }
      ]
    },
    {
      "cell_type": "code",
      "metadata": {
        "id": "wLLdBD8zw44N"
      },
      "source": [
        "df_rs=['Dependents', 'Education',\n",
        "       'Self_Employed', 'ApplicantIncome']\n",
        "for val in df_rs:\n",
        "    if df.skew().loc[val]>0.55:\n",
        "        df[val]=np.sqrt(df[val])"
      ],
      "execution_count": 56,
      "outputs": []
    },
    {
      "cell_type": "code",
      "metadata": {
        "colab": {
          "base_uri": "https://localhost:8080/"
        },
        "id": "Gn7Y5-4Rw7Tt",
        "outputId": "be4d0ffe-c249-44e6-bce7-f1f4a9970c81"
      },
      "source": [
        "df.skew()"
      ],
      "execution_count": 57,
      "outputs": [
        {
          "output_type": "execute_result",
          "data": {
            "text/plain": [
              "Gender              -1.622920\n",
              "Married             -0.630211\n",
              "Dependents           0.457371\n",
              "Education            1.306588\n",
              "Self_Employed        2.252848\n",
              "ApplicantIncome      0.638310\n",
              "CoapplicantIncome    0.207591\n",
              "LoanAmount           0.320372\n",
              "Loan_Amount_Term    -2.098806\n",
              "Credit_History      -1.976043\n",
              "Property_Area       -0.055332\n",
              "Loan_Status         -0.822635\n",
              "dtype: float64"
            ]
          },
          "metadata": {
            "tags": []
          },
          "execution_count": 57
        }
      ]
    },
    {
      "cell_type": "code",
      "metadata": {
        "colab": {
          "base_uri": "https://localhost:8080/"
        },
        "id": "2IP01OpUw9jd",
        "outputId": "0bce3b64-7a5e-43b3-b1fa-acad28738f30"
      },
      "source": [
        "df.columns"
      ],
      "execution_count": 58,
      "outputs": [
        {
          "output_type": "execute_result",
          "data": {
            "text/plain": [
              "Index(['Gender', 'Married', 'Dependents', 'Education', 'Self_Employed',\n",
              "       'ApplicantIncome', 'CoapplicantIncome', 'LoanAmount',\n",
              "       'Loan_Amount_Term', 'Credit_History', 'Property_Area', 'Loan_Status'],\n",
              "      dtype='object')"
            ]
          },
          "metadata": {
            "tags": []
          },
          "execution_count": 58
        }
      ]
    },
    {
      "cell_type": "markdown",
      "metadata": {
        "id": "y3gAuBxYxCZh"
      },
      "source": [
        "## **Train Test Split:**"
      ]
    },
    {
      "cell_type": "code",
      "metadata": {
        "id": "UpmNpr2qxEMw"
      },
      "source": [
        "x=df[['Gender', 'Married', 'Dependents', 'Education', 'Self_Employed',\n",
        "       'ApplicantIncome', 'CoapplicantIncome', 'LoanAmount',\n",
        "       'Loan_Amount_Term', 'Credit_History', 'Property_Area']]\n",
        "\n",
        "y=df['Loan_Status']"
      ],
      "execution_count": 59,
      "outputs": []
    },
    {
      "cell_type": "markdown",
      "metadata": {
        "id": "Em2b_uSCxL2T"
      },
      "source": [
        "## **Scaling of Data:**"
      ]
    },
    {
      "cell_type": "code",
      "metadata": {
        "id": "e3jKjj3SxN3g"
      },
      "source": [
        "from sklearn.preprocessing import StandardScaler\n",
        "SC=StandardScaler()\n",
        "x=SC.fit_transform(x)"
      ],
      "execution_count": 60,
      "outputs": []
    },
    {
      "cell_type": "code",
      "metadata": {
        "colab": {
          "base_uri": "https://localhost:8080/"
        },
        "id": "1XUe3jH1xQn8",
        "outputId": "3c2f2d52-2d8d-4bfe-e9cc-97bb97e2e403"
      },
      "source": [
        "x"
      ],
      "execution_count": 61,
      "outputs": [
        {
          "output_type": "execute_result",
          "data": {
            "text/plain": [
              "array([[ 0.47713685, -1.36251079, -0.8123454 , ...,  0.23085296,\n",
              "         0.41851254,  1.22747207],\n",
              "       [ 0.47713685,  0.73393914,  0.96391602, ...,  0.23085296,\n",
              "         0.41851254, -1.30652215],\n",
              "       [ 0.47713685,  0.73393914, -0.8123454 , ...,  0.23085296,\n",
              "         0.41851254,  1.22747207],\n",
              "       ...,\n",
              "       [ 0.47713685,  0.73393914,  0.96391602, ...,  0.23085296,\n",
              "         0.41851254,  1.22747207],\n",
              "       [ 0.47713685,  0.73393914,  1.29999732, ...,  0.23085296,\n",
              "         0.41851254,  1.22747207],\n",
              "       [-2.09583477, -1.36251079, -0.8123454 , ...,  0.23085296,\n",
              "        -2.38941464, -0.03952504]])"
            ]
          },
          "metadata": {
            "tags": []
          },
          "execution_count": 61
        }
      ]
    },
    {
      "cell_type": "code",
      "metadata": {
        "id": "yI2AitvaxSLm"
      },
      "source": [
        "x=pd.DataFrame(x)"
      ],
      "execution_count": 62,
      "outputs": []
    },
    {
      "cell_type": "code",
      "metadata": {
        "colab": {
          "base_uri": "https://localhost:8080/",
          "height": 419
        },
        "id": "v_TNL8zRxUuM",
        "outputId": "473ce6fc-e5ee-41f2-841c-62cf9d0a2959"
      },
      "source": [
        "x"
      ],
      "execution_count": 63,
      "outputs": [
        {
          "output_type": "execute_result",
          "data": {
            "text/html": [
              "<div>\n",
              "<style scoped>\n",
              "    .dataframe tbody tr th:only-of-type {\n",
              "        vertical-align: middle;\n",
              "    }\n",
              "\n",
              "    .dataframe tbody tr th {\n",
              "        vertical-align: top;\n",
              "    }\n",
              "\n",
              "    .dataframe thead th {\n",
              "        text-align: right;\n",
              "    }\n",
              "</style>\n",
              "<table border=\"1\" class=\"dataframe\">\n",
              "  <thead>\n",
              "    <tr style=\"text-align: right;\">\n",
              "      <th></th>\n",
              "      <th>0</th>\n",
              "      <th>1</th>\n",
              "      <th>2</th>\n",
              "      <th>3</th>\n",
              "      <th>4</th>\n",
              "      <th>5</th>\n",
              "      <th>6</th>\n",
              "      <th>7</th>\n",
              "      <th>8</th>\n",
              "      <th>9</th>\n",
              "      <th>10</th>\n",
              "    </tr>\n",
              "  </thead>\n",
              "  <tbody>\n",
              "    <tr>\n",
              "      <th>0</th>\n",
              "      <td>0.477137</td>\n",
              "      <td>-1.362511</td>\n",
              "      <td>-0.812345</td>\n",
              "      <td>-0.541961</td>\n",
              "      <td>-0.380580</td>\n",
              "      <td>0.644091</td>\n",
              "      <td>-1.048379</td>\n",
              "      <td>0.287444</td>\n",
              "      <td>0.230853</td>\n",
              "      <td>0.418513</td>\n",
              "      <td>1.227472</td>\n",
              "    </tr>\n",
              "    <tr>\n",
              "      <th>1</th>\n",
              "      <td>0.477137</td>\n",
              "      <td>0.733939</td>\n",
              "      <td>0.963916</td>\n",
              "      <td>-0.541961</td>\n",
              "      <td>-0.380580</td>\n",
              "      <td>0.181506</td>\n",
              "      <td>0.444242</td>\n",
              "      <td>-0.047549</td>\n",
              "      <td>0.230853</td>\n",
              "      <td>0.418513</td>\n",
              "      <td>-1.306522</td>\n",
              "    </tr>\n",
              "    <tr>\n",
              "      <th>2</th>\n",
              "      <td>0.477137</td>\n",
              "      <td>0.733939</td>\n",
              "      <td>-0.812345</td>\n",
              "      <td>-0.541961</td>\n",
              "      <td>2.627567</td>\n",
              "      <td>-0.558001</td>\n",
              "      <td>-1.048379</td>\n",
              "      <td>-1.406327</td>\n",
              "      <td>0.230853</td>\n",
              "      <td>0.418513</td>\n",
              "      <td>1.227472</td>\n",
              "    </tr>\n",
              "    <tr>\n",
              "      <th>3</th>\n",
              "      <td>0.477137</td>\n",
              "      <td>0.733939</td>\n",
              "      <td>-0.812345</td>\n",
              "      <td>1.845150</td>\n",
              "      <td>-0.380580</td>\n",
              "      <td>-0.801022</td>\n",
              "      <td>0.818090</td>\n",
              "      <td>-0.200590</td>\n",
              "      <td>0.230853</td>\n",
              "      <td>0.418513</td>\n",
              "      <td>1.227472</td>\n",
              "    </tr>\n",
              "    <tr>\n",
              "      <th>4</th>\n",
              "      <td>0.477137</td>\n",
              "      <td>-1.362511</td>\n",
              "      <td>-0.812345</td>\n",
              "      <td>-0.541961</td>\n",
              "      <td>-0.380580</td>\n",
              "      <td>0.694078</td>\n",
              "      <td>-1.048379</td>\n",
              "      <td>0.191277</td>\n",
              "      <td>0.230853</td>\n",
              "      <td>0.418513</td>\n",
              "      <td>1.227472</td>\n",
              "    </tr>\n",
              "    <tr>\n",
              "      <th>...</th>\n",
              "      <td>...</td>\n",
              "      <td>...</td>\n",
              "      <td>...</td>\n",
              "      <td>...</td>\n",
              "      <td>...</td>\n",
              "      <td>...</td>\n",
              "      <td>...</td>\n",
              "      <td>...</td>\n",
              "      <td>...</td>\n",
              "      <td>...</td>\n",
              "      <td>...</td>\n",
              "    </tr>\n",
              "    <tr>\n",
              "      <th>572</th>\n",
              "      <td>-2.095835</td>\n",
              "      <td>-1.362511</td>\n",
              "      <td>-0.812345</td>\n",
              "      <td>-0.541961</td>\n",
              "      <td>-0.380580</td>\n",
              "      <td>-0.613850</td>\n",
              "      <td>-1.048379</td>\n",
              "      <td>-1.277630</td>\n",
              "      <td>0.230853</td>\n",
              "      <td>0.418513</td>\n",
              "      <td>-1.306522</td>\n",
              "    </tr>\n",
              "    <tr>\n",
              "      <th>573</th>\n",
              "      <td>0.477137</td>\n",
              "      <td>0.733939</td>\n",
              "      <td>1.525346</td>\n",
              "      <td>-0.541961</td>\n",
              "      <td>-0.380580</td>\n",
              "      <td>-0.017885</td>\n",
              "      <td>-1.048379</td>\n",
              "      <td>-2.172895</td>\n",
              "      <td>-3.243986</td>\n",
              "      <td>0.418513</td>\n",
              "      <td>-1.306522</td>\n",
              "    </tr>\n",
              "    <tr>\n",
              "      <th>574</th>\n",
              "      <td>0.477137</td>\n",
              "      <td>0.733939</td>\n",
              "      <td>0.963916</td>\n",
              "      <td>-0.541961</td>\n",
              "      <td>-0.380580</td>\n",
              "      <td>1.299876</td>\n",
              "      <td>-0.452917</td>\n",
              "      <td>1.908726</td>\n",
              "      <td>0.230853</td>\n",
              "      <td>0.418513</td>\n",
              "      <td>1.227472</td>\n",
              "    </tr>\n",
              "    <tr>\n",
              "      <th>575</th>\n",
              "      <td>0.477137</td>\n",
              "      <td>0.733939</td>\n",
              "      <td>1.299997</td>\n",
              "      <td>-0.541961</td>\n",
              "      <td>-0.380580</td>\n",
              "      <td>1.168493</td>\n",
              "      <td>-1.048379</td>\n",
              "      <td>0.958258</td>\n",
              "      <td>0.230853</td>\n",
              "      <td>0.418513</td>\n",
              "      <td>1.227472</td>\n",
              "    </tr>\n",
              "    <tr>\n",
              "      <th>576</th>\n",
              "      <td>-2.095835</td>\n",
              "      <td>-1.362511</td>\n",
              "      <td>-0.812345</td>\n",
              "      <td>-0.541961</td>\n",
              "      <td>2.627567</td>\n",
              "      <td>0.181506</td>\n",
              "      <td>-1.048379</td>\n",
              "      <td>0.045682</td>\n",
              "      <td>0.230853</td>\n",
              "      <td>-2.389415</td>\n",
              "      <td>-0.039525</td>\n",
              "    </tr>\n",
              "  </tbody>\n",
              "</table>\n",
              "<p>577 rows × 11 columns</p>\n",
              "</div>"
            ],
            "text/plain": [
              "           0         1         2   ...        8         9         10\n",
              "0    0.477137 -1.362511 -0.812345  ...  0.230853  0.418513  1.227472\n",
              "1    0.477137  0.733939  0.963916  ...  0.230853  0.418513 -1.306522\n",
              "2    0.477137  0.733939 -0.812345  ...  0.230853  0.418513  1.227472\n",
              "3    0.477137  0.733939 -0.812345  ...  0.230853  0.418513  1.227472\n",
              "4    0.477137 -1.362511 -0.812345  ...  0.230853  0.418513  1.227472\n",
              "..        ...       ...       ...  ...       ...       ...       ...\n",
              "572 -2.095835 -1.362511 -0.812345  ...  0.230853  0.418513 -1.306522\n",
              "573  0.477137  0.733939  1.525346  ... -3.243986  0.418513 -1.306522\n",
              "574  0.477137  0.733939  0.963916  ...  0.230853  0.418513  1.227472\n",
              "575  0.477137  0.733939  1.299997  ...  0.230853  0.418513  1.227472\n",
              "576 -2.095835 -1.362511 -0.812345  ...  0.230853 -2.389415 -0.039525\n",
              "\n",
              "[577 rows x 11 columns]"
            ]
          },
          "metadata": {
            "tags": []
          },
          "execution_count": 63
        }
      ]
    },
    {
      "cell_type": "code",
      "metadata": {
        "id": "lmqFU8LgxWnX"
      },
      "source": [
        "x.columns=['Gender', 'Married', 'Dependents', 'Education', 'Self_Employed',\n",
        "       'ApplicantIncome', 'CoapplicantIncome', 'LoanAmount',\n",
        "       'Loan_Amount_Term', 'Credit_History', 'Property_Area']"
      ],
      "execution_count": 64,
      "outputs": []
    },
    {
      "cell_type": "code",
      "metadata": {
        "colab": {
          "base_uri": "https://localhost:8080/",
          "height": 204
        },
        "id": "VyaTb8a-xZzn",
        "outputId": "9ca8102e-4f9f-47b1-b135-1d1bf90c7fc3"
      },
      "source": [
        "x.head()"
      ],
      "execution_count": 65,
      "outputs": [
        {
          "output_type": "execute_result",
          "data": {
            "text/html": [
              "<div>\n",
              "<style scoped>\n",
              "    .dataframe tbody tr th:only-of-type {\n",
              "        vertical-align: middle;\n",
              "    }\n",
              "\n",
              "    .dataframe tbody tr th {\n",
              "        vertical-align: top;\n",
              "    }\n",
              "\n",
              "    .dataframe thead th {\n",
              "        text-align: right;\n",
              "    }\n",
              "</style>\n",
              "<table border=\"1\" class=\"dataframe\">\n",
              "  <thead>\n",
              "    <tr style=\"text-align: right;\">\n",
              "      <th></th>\n",
              "      <th>Gender</th>\n",
              "      <th>Married</th>\n",
              "      <th>Dependents</th>\n",
              "      <th>Education</th>\n",
              "      <th>Self_Employed</th>\n",
              "      <th>ApplicantIncome</th>\n",
              "      <th>CoapplicantIncome</th>\n",
              "      <th>LoanAmount</th>\n",
              "      <th>Loan_Amount_Term</th>\n",
              "      <th>Credit_History</th>\n",
              "      <th>Property_Area</th>\n",
              "    </tr>\n",
              "  </thead>\n",
              "  <tbody>\n",
              "    <tr>\n",
              "      <th>0</th>\n",
              "      <td>0.477137</td>\n",
              "      <td>-1.362511</td>\n",
              "      <td>-0.812345</td>\n",
              "      <td>-0.541961</td>\n",
              "      <td>-0.380580</td>\n",
              "      <td>0.644091</td>\n",
              "      <td>-1.048379</td>\n",
              "      <td>0.287444</td>\n",
              "      <td>0.230853</td>\n",
              "      <td>0.418513</td>\n",
              "      <td>1.227472</td>\n",
              "    </tr>\n",
              "    <tr>\n",
              "      <th>1</th>\n",
              "      <td>0.477137</td>\n",
              "      <td>0.733939</td>\n",
              "      <td>0.963916</td>\n",
              "      <td>-0.541961</td>\n",
              "      <td>-0.380580</td>\n",
              "      <td>0.181506</td>\n",
              "      <td>0.444242</td>\n",
              "      <td>-0.047549</td>\n",
              "      <td>0.230853</td>\n",
              "      <td>0.418513</td>\n",
              "      <td>-1.306522</td>\n",
              "    </tr>\n",
              "    <tr>\n",
              "      <th>2</th>\n",
              "      <td>0.477137</td>\n",
              "      <td>0.733939</td>\n",
              "      <td>-0.812345</td>\n",
              "      <td>-0.541961</td>\n",
              "      <td>2.627567</td>\n",
              "      <td>-0.558001</td>\n",
              "      <td>-1.048379</td>\n",
              "      <td>-1.406327</td>\n",
              "      <td>0.230853</td>\n",
              "      <td>0.418513</td>\n",
              "      <td>1.227472</td>\n",
              "    </tr>\n",
              "    <tr>\n",
              "      <th>3</th>\n",
              "      <td>0.477137</td>\n",
              "      <td>0.733939</td>\n",
              "      <td>-0.812345</td>\n",
              "      <td>1.845150</td>\n",
              "      <td>-0.380580</td>\n",
              "      <td>-0.801022</td>\n",
              "      <td>0.818090</td>\n",
              "      <td>-0.200590</td>\n",
              "      <td>0.230853</td>\n",
              "      <td>0.418513</td>\n",
              "      <td>1.227472</td>\n",
              "    </tr>\n",
              "    <tr>\n",
              "      <th>4</th>\n",
              "      <td>0.477137</td>\n",
              "      <td>-1.362511</td>\n",
              "      <td>-0.812345</td>\n",
              "      <td>-0.541961</td>\n",
              "      <td>-0.380580</td>\n",
              "      <td>0.694078</td>\n",
              "      <td>-1.048379</td>\n",
              "      <td>0.191277</td>\n",
              "      <td>0.230853</td>\n",
              "      <td>0.418513</td>\n",
              "      <td>1.227472</td>\n",
              "    </tr>\n",
              "  </tbody>\n",
              "</table>\n",
              "</div>"
            ],
            "text/plain": [
              "     Gender   Married  ...  Credit_History  Property_Area\n",
              "0  0.477137 -1.362511  ...        0.418513       1.227472\n",
              "1  0.477137  0.733939  ...        0.418513      -1.306522\n",
              "2  0.477137  0.733939  ...        0.418513       1.227472\n",
              "3  0.477137  0.733939  ...        0.418513       1.227472\n",
              "4  0.477137 -1.362511  ...        0.418513       1.227472\n",
              "\n",
              "[5 rows x 11 columns]"
            ]
          },
          "metadata": {
            "tags": []
          },
          "execution_count": 65
        }
      ]
    },
    {
      "cell_type": "markdown",
      "metadata": {
        "id": "f4KePzKIxfMK"
      },
      "source": [
        "## **Algorithm:**"
      ]
    },
    {
      "cell_type": "code",
      "metadata": {
        "colab": {
          "base_uri": "https://localhost:8080/"
        },
        "id": "bWtigq99xhZI",
        "outputId": "b22866e6-406e-44df-c2b1-b16e69618caa"
      },
      "source": [
        "from sklearn.model_selection import train_test_split\n",
        "maxAccu=0\n",
        "maxRS=0\n",
        "for i in range(1,200):\n",
        "    x_train,x_test,y_train,y_test=train_test_split(x,y,test_size=0.22,random_state=i)\n",
        "    lm=LogisticRegression()\n",
        "    lm.fit(x_train,y_train)\n",
        "    pred=lm.predict(x_test)\n",
        "    print('Accuracy score of Logistic Regression','is:')\n",
        "    accu_score=accuracy_score(y_test,pred)\n",
        "    print(accuracy_score(y_test,pred))\n",
        "    print(confusion_matrix(y_test,pred))\n",
        "    print(classification_report(y_test,pred))\n",
        "    if accu_score>maxAccu:\n",
        "        maxAccu=accu_score\n",
        "        maxRS=i\n",
        "        \n",
        "print(\"Best accuracy is\",maxAccu,\"on Random_state\",maxRS)"
      ],
      "execution_count": 66,
      "outputs": [
        {
          "output_type": "stream",
          "text": [
            "Accuracy score of Logistic Regression is:\n",
            "0.8346456692913385\n",
            "[[14 20]\n",
            " [ 1 92]]\n",
            "              precision    recall  f1-score   support\n",
            "\n",
            "           0       0.93      0.41      0.57        34\n",
            "           1       0.82      0.99      0.90        93\n",
            "\n",
            "    accuracy                           0.83       127\n",
            "   macro avg       0.88      0.70      0.73       127\n",
            "weighted avg       0.85      0.83      0.81       127\n",
            "\n",
            "Accuracy score of Logistic Regression is:\n",
            "0.7952755905511811\n",
            "[[19 25]\n",
            " [ 1 82]]\n",
            "              precision    recall  f1-score   support\n",
            "\n",
            "           0       0.95      0.43      0.59        44\n",
            "           1       0.77      0.99      0.86        83\n",
            "\n",
            "    accuracy                           0.80       127\n",
            "   macro avg       0.86      0.71      0.73       127\n",
            "weighted avg       0.83      0.80      0.77       127\n",
            "\n",
            "Accuracy score of Logistic Regression is:\n",
            "0.8110236220472441\n",
            "[[14 23]\n",
            " [ 1 89]]\n",
            "              precision    recall  f1-score   support\n",
            "\n",
            "           0       0.93      0.38      0.54        37\n",
            "           1       0.79      0.99      0.88        90\n",
            "\n",
            "    accuracy                           0.81       127\n",
            "   macro avg       0.86      0.68      0.71       127\n",
            "weighted avg       0.84      0.81      0.78       127\n",
            "\n",
            "Accuracy score of Logistic Regression is:\n",
            "0.7874015748031497\n",
            "[[21 25]\n",
            " [ 2 79]]\n",
            "              precision    recall  f1-score   support\n",
            "\n",
            "           0       0.91      0.46      0.61        46\n",
            "           1       0.76      0.98      0.85        81\n",
            "\n",
            "    accuracy                           0.79       127\n",
            "   macro avg       0.84      0.72      0.73       127\n",
            "weighted avg       0.82      0.79      0.77       127\n",
            "\n",
            "Accuracy score of Logistic Regression is:\n",
            "0.7874015748031497\n",
            "[[17 25]\n",
            " [ 2 83]]\n",
            "              precision    recall  f1-score   support\n",
            "\n",
            "           0       0.89      0.40      0.56        42\n",
            "           1       0.77      0.98      0.86        85\n",
            "\n",
            "    accuracy                           0.79       127\n",
            "   macro avg       0.83      0.69      0.71       127\n",
            "weighted avg       0.81      0.79      0.76       127\n",
            "\n",
            "Accuracy score of Logistic Regression is:\n",
            "0.8346456692913385\n",
            "[[15 18]\n",
            " [ 3 91]]\n",
            "              precision    recall  f1-score   support\n",
            "\n",
            "           0       0.83      0.45      0.59        33\n",
            "           1       0.83      0.97      0.90        94\n",
            "\n",
            "    accuracy                           0.83       127\n",
            "   macro avg       0.83      0.71      0.74       127\n",
            "weighted avg       0.83      0.83      0.82       127\n",
            "\n",
            "Accuracy score of Logistic Regression is:\n",
            "0.7952755905511811\n",
            "[[19 26]\n",
            " [ 0 82]]\n",
            "              precision    recall  f1-score   support\n",
            "\n",
            "           0       1.00      0.42      0.59        45\n",
            "           1       0.76      1.00      0.86        82\n",
            "\n",
            "    accuracy                           0.80       127\n",
            "   macro avg       0.88      0.71      0.73       127\n",
            "weighted avg       0.84      0.80      0.77       127\n",
            "\n",
            "Accuracy score of Logistic Regression is:\n",
            "0.7716535433070866\n",
            "[[19 27]\n",
            " [ 2 79]]\n",
            "              precision    recall  f1-score   support\n",
            "\n",
            "           0       0.90      0.41      0.57        46\n",
            "           1       0.75      0.98      0.84        81\n",
            "\n",
            "    accuracy                           0.77       127\n",
            "   macro avg       0.83      0.69      0.71       127\n",
            "weighted avg       0.80      0.77      0.74       127\n",
            "\n",
            "Accuracy score of Logistic Regression is:\n",
            "0.7952755905511811\n",
            "[[14 25]\n",
            " [ 1 87]]\n",
            "              precision    recall  f1-score   support\n",
            "\n",
            "           0       0.93      0.36      0.52        39\n",
            "           1       0.78      0.99      0.87        88\n",
            "\n",
            "    accuracy                           0.80       127\n",
            "   macro avg       0.86      0.67      0.69       127\n",
            "weighted avg       0.82      0.80      0.76       127\n",
            "\n",
            "Accuracy score of Logistic Regression is:\n",
            "0.8267716535433071\n",
            "[[16 21]\n",
            " [ 1 89]]\n",
            "              precision    recall  f1-score   support\n",
            "\n",
            "           0       0.94      0.43      0.59        37\n",
            "           1       0.81      0.99      0.89        90\n",
            "\n",
            "    accuracy                           0.83       127\n",
            "   macro avg       0.88      0.71      0.74       127\n",
            "weighted avg       0.85      0.83      0.80       127\n",
            "\n",
            "Accuracy score of Logistic Regression is:\n",
            "0.8031496062992126\n",
            "[[23 23]\n",
            " [ 2 79]]\n",
            "              precision    recall  f1-score   support\n",
            "\n",
            "           0       0.92      0.50      0.65        46\n",
            "           1       0.77      0.98      0.86        81\n",
            "\n",
            "    accuracy                           0.80       127\n",
            "   macro avg       0.85      0.74      0.76       127\n",
            "weighted avg       0.83      0.80      0.79       127\n",
            "\n",
            "Accuracy score of Logistic Regression is:\n",
            "0.905511811023622\n",
            "[[19 11]\n",
            " [ 1 96]]\n",
            "              precision    recall  f1-score   support\n",
            "\n",
            "           0       0.95      0.63      0.76        30\n",
            "           1       0.90      0.99      0.94        97\n",
            "\n",
            "    accuracy                           0.91       127\n",
            "   macro avg       0.92      0.81      0.85       127\n",
            "weighted avg       0.91      0.91      0.90       127\n",
            "\n",
            "Accuracy score of Logistic Regression is:\n",
            "0.7952755905511811\n",
            "[[13 25]\n",
            " [ 1 88]]\n",
            "              precision    recall  f1-score   support\n",
            "\n",
            "           0       0.93      0.34      0.50        38\n",
            "           1       0.78      0.99      0.87        89\n",
            "\n",
            "    accuracy                           0.80       127\n",
            "   macro avg       0.85      0.67      0.69       127\n",
            "weighted avg       0.82      0.80      0.76       127\n",
            "\n",
            "Accuracy score of Logistic Regression is:\n",
            "0.7322834645669292\n",
            "[[20 33]\n",
            " [ 1 73]]\n",
            "              precision    recall  f1-score   support\n",
            "\n",
            "           0       0.95      0.38      0.54        53\n",
            "           1       0.69      0.99      0.81        74\n",
            "\n",
            "    accuracy                           0.73       127\n",
            "   macro avg       0.82      0.68      0.68       127\n",
            "weighted avg       0.80      0.73      0.70       127\n",
            "\n",
            "Accuracy score of Logistic Regression is:\n",
            "0.8267716535433071\n",
            "[[13 21]\n",
            " [ 1 92]]\n",
            "              precision    recall  f1-score   support\n",
            "\n",
            "           0       0.93      0.38      0.54        34\n",
            "           1       0.81      0.99      0.89        93\n",
            "\n",
            "    accuracy                           0.83       127\n",
            "   macro avg       0.87      0.69      0.72       127\n",
            "weighted avg       0.84      0.83      0.80       127\n",
            "\n",
            "Accuracy score of Logistic Regression is:\n",
            "0.7795275590551181\n",
            "[[22 26]\n",
            " [ 2 77]]\n",
            "              precision    recall  f1-score   support\n",
            "\n",
            "           0       0.92      0.46      0.61        48\n",
            "           1       0.75      0.97      0.85        79\n",
            "\n",
            "    accuracy                           0.78       127\n",
            "   macro avg       0.83      0.72      0.73       127\n",
            "weighted avg       0.81      0.78      0.76       127\n",
            "\n",
            "Accuracy score of Logistic Regression is:\n",
            "0.8267716535433071\n",
            "[[15 20]\n",
            " [ 2 90]]\n",
            "              precision    recall  f1-score   support\n",
            "\n",
            "           0       0.88      0.43      0.58        35\n",
            "           1       0.82      0.98      0.89        92\n",
            "\n",
            "    accuracy                           0.83       127\n",
            "   macro avg       0.85      0.70      0.73       127\n",
            "weighted avg       0.84      0.83      0.80       127\n",
            "\n",
            "Accuracy score of Logistic Regression is:\n",
            "0.7559055118110236\n",
            "[[15 30]\n",
            " [ 1 81]]\n",
            "              precision    recall  f1-score   support\n",
            "\n",
            "           0       0.94      0.33      0.49        45\n",
            "           1       0.73      0.99      0.84        82\n",
            "\n",
            "    accuracy                           0.76       127\n",
            "   macro avg       0.83      0.66      0.67       127\n",
            "weighted avg       0.80      0.76      0.72       127\n",
            "\n",
            "Accuracy score of Logistic Regression is:\n",
            "0.8267716535433071\n",
            "[[20 21]\n",
            " [ 1 85]]\n",
            "              precision    recall  f1-score   support\n",
            "\n",
            "           0       0.95      0.49      0.65        41\n",
            "           1       0.80      0.99      0.89        86\n",
            "\n",
            "    accuracy                           0.83       127\n",
            "   macro avg       0.88      0.74      0.77       127\n",
            "weighted avg       0.85      0.83      0.81       127\n",
            "\n",
            "Accuracy score of Logistic Regression is:\n",
            "0.8110236220472441\n",
            "[[16 23]\n",
            " [ 1 87]]\n",
            "              precision    recall  f1-score   support\n",
            "\n",
            "           0       0.94      0.41      0.57        39\n",
            "           1       0.79      0.99      0.88        88\n",
            "\n",
            "    accuracy                           0.81       127\n",
            "   macro avg       0.87      0.70      0.73       127\n",
            "weighted avg       0.84      0.81      0.78       127\n",
            "\n",
            "Accuracy score of Logistic Regression is:\n",
            "0.8503937007874016\n",
            "[[19 19]\n",
            " [ 0 89]]\n",
            "              precision    recall  f1-score   support\n",
            "\n",
            "           0       1.00      0.50      0.67        38\n",
            "           1       0.82      1.00      0.90        89\n",
            "\n",
            "    accuracy                           0.85       127\n",
            "   macro avg       0.91      0.75      0.79       127\n",
            "weighted avg       0.88      0.85      0.83       127\n",
            "\n",
            "Accuracy score of Logistic Regression is:\n",
            "0.8110236220472441\n",
            "[[14 22]\n",
            " [ 2 89]]\n",
            "              precision    recall  f1-score   support\n",
            "\n",
            "           0       0.88      0.39      0.54        36\n",
            "           1       0.80      0.98      0.88        91\n",
            "\n",
            "    accuracy                           0.81       127\n",
            "   macro avg       0.84      0.68      0.71       127\n",
            "weighted avg       0.82      0.81      0.78       127\n",
            "\n",
            "Accuracy score of Logistic Regression is:\n",
            "0.7795275590551181\n",
            "[[17 28]\n",
            " [ 0 82]]\n",
            "              precision    recall  f1-score   support\n",
            "\n",
            "           0       1.00      0.38      0.55        45\n",
            "           1       0.75      1.00      0.85        82\n",
            "\n",
            "    accuracy                           0.78       127\n",
            "   macro avg       0.87      0.69      0.70       127\n",
            "weighted avg       0.84      0.78      0.75       127\n",
            "\n",
            "Accuracy score of Logistic Regression is:\n",
            "0.8661417322834646\n",
            "[[21 17]\n",
            " [ 0 89]]\n",
            "              precision    recall  f1-score   support\n",
            "\n",
            "           0       1.00      0.55      0.71        38\n",
            "           1       0.84      1.00      0.91        89\n",
            "\n",
            "    accuracy                           0.87       127\n",
            "   macro avg       0.92      0.78      0.81       127\n",
            "weighted avg       0.89      0.87      0.85       127\n",
            "\n",
            "Accuracy score of Logistic Regression is:\n",
            "0.8267716535433071\n",
            "[[ 8 20]\n",
            " [ 2 97]]\n",
            "              precision    recall  f1-score   support\n",
            "\n",
            "           0       0.80      0.29      0.42        28\n",
            "           1       0.83      0.98      0.90        99\n",
            "\n",
            "    accuracy                           0.83       127\n",
            "   macro avg       0.81      0.63      0.66       127\n",
            "weighted avg       0.82      0.83      0.79       127\n",
            "\n",
            "Accuracy score of Logistic Regression is:\n",
            "0.8582677165354331\n",
            "[[23 18]\n",
            " [ 0 86]]\n",
            "              precision    recall  f1-score   support\n",
            "\n",
            "           0       1.00      0.56      0.72        41\n",
            "           1       0.83      1.00      0.91        86\n",
            "\n",
            "    accuracy                           0.86       127\n",
            "   macro avg       0.91      0.78      0.81       127\n",
            "weighted avg       0.88      0.86      0.85       127\n",
            "\n",
            "Accuracy score of Logistic Regression is:\n",
            "0.8031496062992126\n",
            "[[18 24]\n",
            " [ 1 84]]\n",
            "              precision    recall  f1-score   support\n",
            "\n",
            "           0       0.95      0.43      0.59        42\n",
            "           1       0.78      0.99      0.87        85\n",
            "\n",
            "    accuracy                           0.80       127\n",
            "   macro avg       0.86      0.71      0.73       127\n",
            "weighted avg       0.83      0.80      0.78       127\n",
            "\n",
            "Accuracy score of Logistic Regression is:\n",
            "0.8188976377952756\n",
            "[[17 19]\n",
            " [ 4 87]]\n",
            "              precision    recall  f1-score   support\n",
            "\n",
            "           0       0.81      0.47      0.60        36\n",
            "           1       0.82      0.96      0.88        91\n",
            "\n",
            "    accuracy                           0.82       127\n",
            "   macro avg       0.82      0.71      0.74       127\n",
            "weighted avg       0.82      0.82      0.80       127\n",
            "\n",
            "Accuracy score of Logistic Regression is:\n",
            "0.7874015748031497\n",
            "[[24 26]\n",
            " [ 1 76]]\n",
            "              precision    recall  f1-score   support\n",
            "\n",
            "           0       0.96      0.48      0.64        50\n",
            "           1       0.75      0.99      0.85        77\n",
            "\n",
            "    accuracy                           0.79       127\n",
            "   macro avg       0.85      0.73      0.74       127\n",
            "weighted avg       0.83      0.79      0.77       127\n",
            "\n",
            "Accuracy score of Logistic Regression is:\n",
            "0.7952755905511811\n",
            "[[15 25]\n",
            " [ 1 86]]\n",
            "              precision    recall  f1-score   support\n",
            "\n",
            "           0       0.94      0.38      0.54        40\n",
            "           1       0.77      0.99      0.87        87\n",
            "\n",
            "    accuracy                           0.80       127\n",
            "   macro avg       0.86      0.68      0.70       127\n",
            "weighted avg       0.83      0.80      0.76       127\n",
            "\n",
            "Accuracy score of Logistic Regression is:\n",
            "0.8346456692913385\n",
            "[[23 20]\n",
            " [ 1 83]]\n",
            "              precision    recall  f1-score   support\n",
            "\n",
            "           0       0.96      0.53      0.69        43\n",
            "           1       0.81      0.99      0.89        84\n",
            "\n",
            "    accuracy                           0.83       127\n",
            "   macro avg       0.88      0.76      0.79       127\n",
            "weighted avg       0.86      0.83      0.82       127\n",
            "\n",
            "Accuracy score of Logistic Regression is:\n",
            "0.8031496062992126\n",
            "[[15 25]\n",
            " [ 0 87]]\n",
            "              precision    recall  f1-score   support\n",
            "\n",
            "           0       1.00      0.38      0.55        40\n",
            "           1       0.78      1.00      0.87        87\n",
            "\n",
            "    accuracy                           0.80       127\n",
            "   macro avg       0.89      0.69      0.71       127\n",
            "weighted avg       0.85      0.80      0.77       127\n",
            "\n",
            "Accuracy score of Logistic Regression is:\n",
            "0.84251968503937\n",
            "[[15 18]\n",
            " [ 2 92]]\n",
            "              precision    recall  f1-score   support\n",
            "\n",
            "           0       0.88      0.45      0.60        33\n",
            "           1       0.84      0.98      0.90        94\n",
            "\n",
            "    accuracy                           0.84       127\n",
            "   macro avg       0.86      0.72      0.75       127\n",
            "weighted avg       0.85      0.84      0.82       127\n",
            "\n",
            "Accuracy score of Logistic Regression is:\n",
            "0.7795275590551181\n",
            "[[27 27]\n",
            " [ 1 72]]\n",
            "              precision    recall  f1-score   support\n",
            "\n",
            "           0       0.96      0.50      0.66        54\n",
            "           1       0.73      0.99      0.84        73\n",
            "\n",
            "    accuracy                           0.78       127\n",
            "   macro avg       0.85      0.74      0.75       127\n",
            "weighted avg       0.83      0.78      0.76       127\n",
            "\n",
            "Accuracy score of Logistic Regression is:\n",
            "0.8188976377952756\n",
            "[[16 22]\n",
            " [ 1 88]]\n",
            "              precision    recall  f1-score   support\n",
            "\n",
            "           0       0.94      0.42      0.58        38\n",
            "           1       0.80      0.99      0.88        89\n",
            "\n",
            "    accuracy                           0.82       127\n",
            "   macro avg       0.87      0.70      0.73       127\n",
            "weighted avg       0.84      0.82      0.79       127\n",
            "\n",
            "Accuracy score of Logistic Regression is:\n",
            "0.8110236220472441\n",
            "[[15 24]\n",
            " [ 0 88]]\n",
            "              precision    recall  f1-score   support\n",
            "\n",
            "           0       1.00      0.38      0.56        39\n",
            "           1       0.79      1.00      0.88        88\n",
            "\n",
            "    accuracy                           0.81       127\n",
            "   macro avg       0.89      0.69      0.72       127\n",
            "weighted avg       0.85      0.81      0.78       127\n",
            "\n",
            "Accuracy score of Logistic Regression is:\n",
            "0.7874015748031497\n",
            "[[17 26]\n",
            " [ 1 83]]\n",
            "              precision    recall  f1-score   support\n",
            "\n",
            "           0       0.94      0.40      0.56        43\n",
            "           1       0.76      0.99      0.86        84\n",
            "\n",
            "    accuracy                           0.79       127\n",
            "   macro avg       0.85      0.69      0.71       127\n",
            "weighted avg       0.82      0.79      0.76       127\n",
            "\n",
            "Accuracy score of Logistic Regression is:\n",
            "0.8582677165354331\n",
            "[[21 18]\n",
            " [ 0 88]]\n",
            "              precision    recall  f1-score   support\n",
            "\n",
            "           0       1.00      0.54      0.70        39\n",
            "           1       0.83      1.00      0.91        88\n",
            "\n",
            "    accuracy                           0.86       127\n",
            "   macro avg       0.92      0.77      0.80       127\n",
            "weighted avg       0.88      0.86      0.84       127\n",
            "\n",
            "Accuracy score of Logistic Regression is:\n",
            "0.889763779527559\n",
            "[[22 14]\n",
            " [ 0 91]]\n",
            "              precision    recall  f1-score   support\n",
            "\n",
            "           0       1.00      0.61      0.76        36\n",
            "           1       0.87      1.00      0.93        91\n",
            "\n",
            "    accuracy                           0.89       127\n",
            "   macro avg       0.93      0.81      0.84       127\n",
            "weighted avg       0.90      0.89      0.88       127\n",
            "\n",
            "Accuracy score of Logistic Regression is:\n",
            "0.7952755905511811\n",
            "[[12 23]\n",
            " [ 3 89]]\n",
            "              precision    recall  f1-score   support\n",
            "\n",
            "           0       0.80      0.34      0.48        35\n",
            "           1       0.79      0.97      0.87        92\n",
            "\n",
            "    accuracy                           0.80       127\n",
            "   macro avg       0.80      0.66      0.68       127\n",
            "weighted avg       0.80      0.80      0.76       127\n",
            "\n",
            "Accuracy score of Logistic Regression is:\n",
            "0.8346456692913385\n",
            "[[15 19]\n",
            " [ 2 91]]\n",
            "              precision    recall  f1-score   support\n",
            "\n",
            "           0       0.88      0.44      0.59        34\n",
            "           1       0.83      0.98      0.90        93\n",
            "\n",
            "    accuracy                           0.83       127\n",
            "   macro avg       0.85      0.71      0.74       127\n",
            "weighted avg       0.84      0.83      0.81       127\n",
            "\n",
            "Accuracy score of Logistic Regression is:\n",
            "0.8267716535433071\n",
            "[[15 21]\n",
            " [ 1 90]]\n",
            "              precision    recall  f1-score   support\n",
            "\n",
            "           0       0.94      0.42      0.58        36\n",
            "           1       0.81      0.99      0.89        91\n",
            "\n",
            "    accuracy                           0.83       127\n",
            "   macro avg       0.87      0.70      0.73       127\n",
            "weighted avg       0.85      0.83      0.80       127\n",
            "\n",
            "Accuracy score of Logistic Regression is:\n",
            "0.7874015748031497\n",
            "[[16 24]\n",
            " [ 3 84]]\n",
            "              precision    recall  f1-score   support\n",
            "\n",
            "           0       0.84      0.40      0.54        40\n",
            "           1       0.78      0.97      0.86        87\n",
            "\n",
            "    accuracy                           0.79       127\n",
            "   macro avg       0.81      0.68      0.70       127\n",
            "weighted avg       0.80      0.79      0.76       127\n",
            "\n",
            "Accuracy score of Logistic Regression is:\n",
            "0.8188976377952756\n",
            "[[11 22]\n",
            " [ 1 93]]\n",
            "              precision    recall  f1-score   support\n",
            "\n",
            "           0       0.92      0.33      0.49        33\n",
            "           1       0.81      0.99      0.89        94\n",
            "\n",
            "    accuracy                           0.82       127\n",
            "   macro avg       0.86      0.66      0.69       127\n",
            "weighted avg       0.84      0.82      0.79       127\n",
            "\n",
            "Accuracy score of Logistic Regression is:\n",
            "0.8031496062992126\n",
            "[[19 25]\n",
            " [ 0 83]]\n",
            "              precision    recall  f1-score   support\n",
            "\n",
            "           0       1.00      0.43      0.60        44\n",
            "           1       0.77      1.00      0.87        83\n",
            "\n",
            "    accuracy                           0.80       127\n",
            "   macro avg       0.88      0.72      0.74       127\n",
            "weighted avg       0.85      0.80      0.78       127\n",
            "\n",
            "Accuracy score of Logistic Regression is:\n",
            "0.8267716535433071\n",
            "[[15 21]\n",
            " [ 1 90]]\n",
            "              precision    recall  f1-score   support\n",
            "\n",
            "           0       0.94      0.42      0.58        36\n",
            "           1       0.81      0.99      0.89        91\n",
            "\n",
            "    accuracy                           0.83       127\n",
            "   macro avg       0.87      0.70      0.73       127\n",
            "weighted avg       0.85      0.83      0.80       127\n",
            "\n",
            "Accuracy score of Logistic Regression is:\n",
            "0.8031496062992126\n",
            "[[23 24]\n",
            " [ 1 79]]\n",
            "              precision    recall  f1-score   support\n",
            "\n",
            "           0       0.96      0.49      0.65        47\n",
            "           1       0.77      0.99      0.86        80\n",
            "\n",
            "    accuracy                           0.80       127\n",
            "   macro avg       0.86      0.74      0.76       127\n",
            "weighted avg       0.84      0.80      0.78       127\n",
            "\n",
            "Accuracy score of Logistic Regression is:\n",
            "0.8110236220472441\n",
            "[[17 23]\n",
            " [ 1 86]]\n",
            "              precision    recall  f1-score   support\n",
            "\n",
            "           0       0.94      0.42      0.59        40\n",
            "           1       0.79      0.99      0.88        87\n",
            "\n",
            "    accuracy                           0.81       127\n",
            "   macro avg       0.87      0.71      0.73       127\n",
            "weighted avg       0.84      0.81      0.79       127\n",
            "\n",
            "Accuracy score of Logistic Regression is:\n",
            "0.7952755905511811\n",
            "[[20 23]\n",
            " [ 3 81]]\n",
            "              precision    recall  f1-score   support\n",
            "\n",
            "           0       0.87      0.47      0.61        43\n",
            "           1       0.78      0.96      0.86        84\n",
            "\n",
            "    accuracy                           0.80       127\n",
            "   macro avg       0.82      0.71      0.73       127\n",
            "weighted avg       0.81      0.80      0.78       127\n",
            "\n",
            "Accuracy score of Logistic Regression is:\n",
            "0.8188976377952756\n",
            "[[18 21]\n",
            " [ 2 86]]\n",
            "              precision    recall  f1-score   support\n",
            "\n",
            "           0       0.90      0.46      0.61        39\n",
            "           1       0.80      0.98      0.88        88\n",
            "\n",
            "    accuracy                           0.82       127\n",
            "   macro avg       0.85      0.72      0.75       127\n",
            "weighted avg       0.83      0.82      0.80       127\n",
            "\n",
            "Accuracy score of Logistic Regression is:\n",
            "0.8110236220472441\n",
            "[[12 22]\n",
            " [ 2 91]]\n",
            "              precision    recall  f1-score   support\n",
            "\n",
            "           0       0.86      0.35      0.50        34\n",
            "           1       0.81      0.98      0.88        93\n",
            "\n",
            "    accuracy                           0.81       127\n",
            "   macro avg       0.83      0.67      0.69       127\n",
            "weighted avg       0.82      0.81      0.78       127\n",
            "\n",
            "Accuracy score of Logistic Regression is:\n",
            "0.8503937007874016\n",
            "[[19 19]\n",
            " [ 0 89]]\n",
            "              precision    recall  f1-score   support\n",
            "\n",
            "           0       1.00      0.50      0.67        38\n",
            "           1       0.82      1.00      0.90        89\n",
            "\n",
            "    accuracy                           0.85       127\n",
            "   macro avg       0.91      0.75      0.79       127\n",
            "weighted avg       0.88      0.85      0.83       127\n",
            "\n",
            "Accuracy score of Logistic Regression is:\n",
            "0.7952755905511811\n",
            "[[19 25]\n",
            " [ 1 82]]\n",
            "              precision    recall  f1-score   support\n",
            "\n",
            "           0       0.95      0.43      0.59        44\n",
            "           1       0.77      0.99      0.86        83\n",
            "\n",
            "    accuracy                           0.80       127\n",
            "   macro avg       0.86      0.71      0.73       127\n",
            "weighted avg       0.83      0.80      0.77       127\n",
            "\n",
            "Accuracy score of Logistic Regression is:\n",
            "0.7795275590551181\n",
            "[[17 26]\n",
            " [ 2 82]]\n",
            "              precision    recall  f1-score   support\n",
            "\n",
            "           0       0.89      0.40      0.55        43\n",
            "           1       0.76      0.98      0.85        84\n",
            "\n",
            "    accuracy                           0.78       127\n",
            "   macro avg       0.83      0.69      0.70       127\n",
            "weighted avg       0.81      0.78      0.75       127\n",
            "\n",
            "Accuracy score of Logistic Regression is:\n",
            "0.8503937007874016\n",
            "[[22 18]\n",
            " [ 1 86]]\n",
            "              precision    recall  f1-score   support\n",
            "\n",
            "           0       0.96      0.55      0.70        40\n",
            "           1       0.83      0.99      0.90        87\n",
            "\n",
            "    accuracy                           0.85       127\n",
            "   macro avg       0.89      0.77      0.80       127\n",
            "weighted avg       0.87      0.85      0.84       127\n",
            "\n",
            "Accuracy score of Logistic Regression is:\n",
            "0.84251968503937\n",
            "[[12 19]\n",
            " [ 1 95]]\n",
            "              precision    recall  f1-score   support\n",
            "\n",
            "           0       0.92      0.39      0.55        31\n",
            "           1       0.83      0.99      0.90        96\n",
            "\n",
            "    accuracy                           0.84       127\n",
            "   macro avg       0.88      0.69      0.73       127\n",
            "weighted avg       0.86      0.84      0.82       127\n",
            "\n",
            "Accuracy score of Logistic Regression is:\n",
            "0.7952755905511811\n",
            "[[23 24]\n",
            " [ 2 78]]\n",
            "              precision    recall  f1-score   support\n",
            "\n",
            "           0       0.92      0.49      0.64        47\n",
            "           1       0.76      0.97      0.86        80\n",
            "\n",
            "    accuracy                           0.80       127\n",
            "   macro avg       0.84      0.73      0.75       127\n",
            "weighted avg       0.82      0.80      0.78       127\n",
            "\n",
            "Accuracy score of Logistic Regression is:\n",
            "0.84251968503937\n",
            "[[17 20]\n",
            " [ 0 90]]\n",
            "              precision    recall  f1-score   support\n",
            "\n",
            "           0       1.00      0.46      0.63        37\n",
            "           1       0.82      1.00      0.90        90\n",
            "\n",
            "    accuracy                           0.84       127\n",
            "   macro avg       0.91      0.73      0.76       127\n",
            "weighted avg       0.87      0.84      0.82       127\n",
            "\n",
            "Accuracy score of Logistic Regression is:\n",
            "0.7952755905511811\n",
            "[[11 24]\n",
            " [ 2 90]]\n",
            "              precision    recall  f1-score   support\n",
            "\n",
            "           0       0.85      0.31      0.46        35\n",
            "           1       0.79      0.98      0.87        92\n",
            "\n",
            "    accuracy                           0.80       127\n",
            "   macro avg       0.82      0.65      0.67       127\n",
            "weighted avg       0.81      0.80      0.76       127\n",
            "\n",
            "Accuracy score of Logistic Regression is:\n",
            "0.8267716535433071\n",
            "[[14 22]\n",
            " [ 0 91]]\n",
            "              precision    recall  f1-score   support\n",
            "\n",
            "           0       1.00      0.39      0.56        36\n",
            "           1       0.81      1.00      0.89        91\n",
            "\n",
            "    accuracy                           0.83       127\n",
            "   macro avg       0.90      0.69      0.73       127\n",
            "weighted avg       0.86      0.83      0.80       127\n",
            "\n",
            "Accuracy score of Logistic Regression is:\n",
            "0.8031496062992126\n",
            "[[15 24]\n",
            " [ 1 87]]\n",
            "              precision    recall  f1-score   support\n",
            "\n",
            "           0       0.94      0.38      0.55        39\n",
            "           1       0.78      0.99      0.87        88\n",
            "\n",
            "    accuracy                           0.80       127\n",
            "   macro avg       0.86      0.69      0.71       127\n",
            "weighted avg       0.83      0.80      0.77       127\n",
            "\n",
            "Accuracy score of Logistic Regression is:\n",
            "0.8188976377952756\n",
            "[[17 22]\n",
            " [ 1 87]]\n",
            "              precision    recall  f1-score   support\n",
            "\n",
            "           0       0.94      0.44      0.60        39\n",
            "           1       0.80      0.99      0.88        88\n",
            "\n",
            "    accuracy                           0.82       127\n",
            "   macro avg       0.87      0.71      0.74       127\n",
            "weighted avg       0.84      0.82      0.80       127\n",
            "\n",
            "Accuracy score of Logistic Regression is:\n",
            "0.8031496062992126\n",
            "[[18 24]\n",
            " [ 1 84]]\n",
            "              precision    recall  f1-score   support\n",
            "\n",
            "           0       0.95      0.43      0.59        42\n",
            "           1       0.78      0.99      0.87        85\n",
            "\n",
            "    accuracy                           0.80       127\n",
            "   macro avg       0.86      0.71      0.73       127\n",
            "weighted avg       0.83      0.80      0.78       127\n",
            "\n",
            "Accuracy score of Logistic Regression is:\n",
            "0.7952755905511811\n",
            "[[15 24]\n",
            " [ 2 86]]\n",
            "              precision    recall  f1-score   support\n",
            "\n",
            "           0       0.88      0.38      0.54        39\n",
            "           1       0.78      0.98      0.87        88\n",
            "\n",
            "    accuracy                           0.80       127\n",
            "   macro avg       0.83      0.68      0.70       127\n",
            "weighted avg       0.81      0.80      0.77       127\n",
            "\n",
            "Accuracy score of Logistic Regression is:\n",
            "0.7874015748031497\n",
            "[[20 27]\n",
            " [ 0 80]]\n",
            "              precision    recall  f1-score   support\n",
            "\n",
            "           0       1.00      0.43      0.60        47\n",
            "           1       0.75      1.00      0.86        80\n",
            "\n",
            "    accuracy                           0.79       127\n",
            "   macro avg       0.87      0.71      0.73       127\n",
            "weighted avg       0.84      0.79      0.76       127\n",
            "\n",
            "Accuracy score of Logistic Regression is:\n",
            "0.8188976377952756\n",
            "[[15 21]\n",
            " [ 2 89]]\n",
            "              precision    recall  f1-score   support\n",
            "\n",
            "           0       0.88      0.42      0.57        36\n",
            "           1       0.81      0.98      0.89        91\n",
            "\n",
            "    accuracy                           0.82       127\n",
            "   macro avg       0.85      0.70      0.73       127\n",
            "weighted avg       0.83      0.82      0.79       127\n",
            "\n",
            "Accuracy score of Logistic Regression is:\n",
            "0.7480314960629921\n",
            "[[18 29]\n",
            " [ 3 77]]\n",
            "              precision    recall  f1-score   support\n",
            "\n",
            "           0       0.86      0.38      0.53        47\n",
            "           1       0.73      0.96      0.83        80\n",
            "\n",
            "    accuracy                           0.75       127\n",
            "   macro avg       0.79      0.67      0.68       127\n",
            "weighted avg       0.77      0.75      0.72       127\n",
            "\n",
            "Accuracy score of Logistic Regression is:\n",
            "0.8740157480314961\n",
            "[[19 13]\n",
            " [ 3 92]]\n",
            "              precision    recall  f1-score   support\n",
            "\n",
            "           0       0.86      0.59      0.70        32\n",
            "           1       0.88      0.97      0.92        95\n",
            "\n",
            "    accuracy                           0.87       127\n",
            "   macro avg       0.87      0.78      0.81       127\n",
            "weighted avg       0.87      0.87      0.87       127\n",
            "\n",
            "Accuracy score of Logistic Regression is:\n",
            "0.8110236220472441\n",
            "[[16 24]\n",
            " [ 0 87]]\n",
            "              precision    recall  f1-score   support\n",
            "\n",
            "           0       1.00      0.40      0.57        40\n",
            "           1       0.78      1.00      0.88        87\n",
            "\n",
            "    accuracy                           0.81       127\n",
            "   macro avg       0.89      0.70      0.73       127\n",
            "weighted avg       0.85      0.81      0.78       127\n",
            "\n",
            "Accuracy score of Logistic Regression is:\n",
            "0.7401574803149606\n",
            "[[18 29]\n",
            " [ 4 76]]\n",
            "              precision    recall  f1-score   support\n",
            "\n",
            "           0       0.82      0.38      0.52        47\n",
            "           1       0.72      0.95      0.82        80\n",
            "\n",
            "    accuracy                           0.74       127\n",
            "   macro avg       0.77      0.67      0.67       127\n",
            "weighted avg       0.76      0.74      0.71       127\n",
            "\n",
            "Accuracy score of Logistic Regression is:\n",
            "0.8346456692913385\n",
            "[[24 21]\n",
            " [ 0 82]]\n",
            "              precision    recall  f1-score   support\n",
            "\n",
            "           0       1.00      0.53      0.70        45\n",
            "           1       0.80      1.00      0.89        82\n",
            "\n",
            "    accuracy                           0.83       127\n",
            "   macro avg       0.90      0.77      0.79       127\n",
            "weighted avg       0.87      0.83      0.82       127\n",
            "\n",
            "Accuracy score of Logistic Regression is:\n",
            "0.8031496062992126\n",
            "[[14 24]\n",
            " [ 1 88]]\n",
            "              precision    recall  f1-score   support\n",
            "\n",
            "           0       0.93      0.37      0.53        38\n",
            "           1       0.79      0.99      0.88        89\n",
            "\n",
            "    accuracy                           0.80       127\n",
            "   macro avg       0.86      0.68      0.70       127\n",
            "weighted avg       0.83      0.80      0.77       127\n",
            "\n",
            "Accuracy score of Logistic Regression is:\n",
            "0.7795275590551181\n",
            "[[17 27]\n",
            " [ 1 82]]\n",
            "              precision    recall  f1-score   support\n",
            "\n",
            "           0       0.94      0.39      0.55        44\n",
            "           1       0.75      0.99      0.85        83\n",
            "\n",
            "    accuracy                           0.78       127\n",
            "   macro avg       0.85      0.69      0.70       127\n",
            "weighted avg       0.82      0.78      0.75       127\n",
            "\n",
            "Accuracy score of Logistic Regression is:\n",
            "0.7952755905511811\n",
            "[[23 25]\n",
            " [ 1 78]]\n",
            "              precision    recall  f1-score   support\n",
            "\n",
            "           0       0.96      0.48      0.64        48\n",
            "           1       0.76      0.99      0.86        79\n",
            "\n",
            "    accuracy                           0.80       127\n",
            "   macro avg       0.86      0.73      0.75       127\n",
            "weighted avg       0.83      0.80      0.77       127\n",
            "\n",
            "Accuracy score of Logistic Regression is:\n",
            "0.8031496062992126\n",
            "[[14 23]\n",
            " [ 2 88]]\n",
            "              precision    recall  f1-score   support\n",
            "\n",
            "           0       0.88      0.38      0.53        37\n",
            "           1       0.79      0.98      0.88        90\n",
            "\n",
            "    accuracy                           0.80       127\n",
            "   macro avg       0.83      0.68      0.70       127\n",
            "weighted avg       0.82      0.80      0.77       127\n",
            "\n",
            "Accuracy score of Logistic Regression is:\n",
            "0.7874015748031497\n",
            "[[21 27]\n",
            " [ 0 79]]\n",
            "              precision    recall  f1-score   support\n",
            "\n",
            "           0       1.00      0.44      0.61        48\n",
            "           1       0.75      1.00      0.85        79\n",
            "\n",
            "    accuracy                           0.79       127\n",
            "   macro avg       0.87      0.72      0.73       127\n",
            "weighted avg       0.84      0.79      0.76       127\n",
            "\n",
            "Accuracy score of Logistic Regression is:\n",
            "0.7952755905511811\n",
            "[[20 25]\n",
            " [ 1 81]]\n",
            "              precision    recall  f1-score   support\n",
            "\n",
            "           0       0.95      0.44      0.61        45\n",
            "           1       0.76      0.99      0.86        82\n",
            "\n",
            "    accuracy                           0.80       127\n",
            "   macro avg       0.86      0.72      0.73       127\n",
            "weighted avg       0.83      0.80      0.77       127\n",
            "\n",
            "Accuracy score of Logistic Regression is:\n",
            "0.8346456692913385\n",
            "[[15 20]\n",
            " [ 1 91]]\n",
            "              precision    recall  f1-score   support\n",
            "\n",
            "           0       0.94      0.43      0.59        35\n",
            "           1       0.82      0.99      0.90        92\n",
            "\n",
            "    accuracy                           0.83       127\n",
            "   macro avg       0.88      0.71      0.74       127\n",
            "weighted avg       0.85      0.83      0.81       127\n",
            "\n",
            "Accuracy score of Logistic Regression is:\n",
            "0.8267716535433071\n",
            "[[13 21]\n",
            " [ 1 92]]\n",
            "              precision    recall  f1-score   support\n",
            "\n",
            "           0       0.93      0.38      0.54        34\n",
            "           1       0.81      0.99      0.89        93\n",
            "\n",
            "    accuracy                           0.83       127\n",
            "   macro avg       0.87      0.69      0.72       127\n",
            "weighted avg       0.84      0.83      0.80       127\n",
            "\n",
            "Accuracy score of Logistic Regression is:\n",
            "0.7952755905511811\n",
            "[[20 24]\n",
            " [ 2 81]]\n",
            "              precision    recall  f1-score   support\n",
            "\n",
            "           0       0.91      0.45      0.61        44\n",
            "           1       0.77      0.98      0.86        83\n",
            "\n",
            "    accuracy                           0.80       127\n",
            "   macro avg       0.84      0.72      0.73       127\n",
            "weighted avg       0.82      0.80      0.77       127\n",
            "\n",
            "Accuracy score of Logistic Regression is:\n",
            "0.7952755905511811\n",
            "[[17 22]\n",
            " [ 4 84]]\n",
            "              precision    recall  f1-score   support\n",
            "\n",
            "           0       0.81      0.44      0.57        39\n",
            "           1       0.79      0.95      0.87        88\n",
            "\n",
            "    accuracy                           0.80       127\n",
            "   macro avg       0.80      0.70      0.72       127\n",
            "weighted avg       0.80      0.80      0.77       127\n",
            "\n",
            "Accuracy score of Logistic Regression is:\n",
            "0.8661417322834646\n",
            "[[17 15]\n",
            " [ 2 93]]\n",
            "              precision    recall  f1-score   support\n",
            "\n",
            "           0       0.89      0.53      0.67        32\n",
            "           1       0.86      0.98      0.92        95\n",
            "\n",
            "    accuracy                           0.87       127\n",
            "   macro avg       0.88      0.76      0.79       127\n",
            "weighted avg       0.87      0.87      0.85       127\n",
            "\n",
            "Accuracy score of Logistic Regression is:\n",
            "0.8346456692913385\n",
            "[[20 18]\n",
            " [ 3 86]]\n",
            "              precision    recall  f1-score   support\n",
            "\n",
            "           0       0.87      0.53      0.66        38\n",
            "           1       0.83      0.97      0.89        89\n",
            "\n",
            "    accuracy                           0.83       127\n",
            "   macro avg       0.85      0.75      0.77       127\n",
            "weighted avg       0.84      0.83      0.82       127\n",
            "\n",
            "Accuracy score of Logistic Regression is:\n",
            "0.889763779527559\n",
            "[[15 14]\n",
            " [ 0 98]]\n",
            "              precision    recall  f1-score   support\n",
            "\n",
            "           0       1.00      0.52      0.68        29\n",
            "           1       0.88      1.00      0.93        98\n",
            "\n",
            "    accuracy                           0.89       127\n",
            "   macro avg       0.94      0.76      0.81       127\n",
            "weighted avg       0.90      0.89      0.88       127\n",
            "\n",
            "Accuracy score of Logistic Regression is:\n",
            "0.7952755905511811\n",
            "[[16 26]\n",
            " [ 0 85]]\n",
            "              precision    recall  f1-score   support\n",
            "\n",
            "           0       1.00      0.38      0.55        42\n",
            "           1       0.77      1.00      0.87        85\n",
            "\n",
            "    accuracy                           0.80       127\n",
            "   macro avg       0.88      0.69      0.71       127\n",
            "weighted avg       0.84      0.80      0.76       127\n",
            "\n",
            "Accuracy score of Logistic Regression is:\n",
            "0.84251968503937\n",
            "[[21 20]\n",
            " [ 0 86]]\n",
            "              precision    recall  f1-score   support\n",
            "\n",
            "           0       1.00      0.51      0.68        41\n",
            "           1       0.81      1.00      0.90        86\n",
            "\n",
            "    accuracy                           0.84       127\n",
            "   macro avg       0.91      0.76      0.79       127\n",
            "weighted avg       0.87      0.84      0.83       127\n",
            "\n",
            "Accuracy score of Logistic Regression is:\n",
            "0.8110236220472441\n",
            "[[21 24]\n",
            " [ 0 82]]\n",
            "              precision    recall  f1-score   support\n",
            "\n",
            "           0       1.00      0.47      0.64        45\n",
            "           1       0.77      1.00      0.87        82\n",
            "\n",
            "    accuracy                           0.81       127\n",
            "   macro avg       0.89      0.73      0.75       127\n",
            "weighted avg       0.85      0.81      0.79       127\n",
            "\n",
            "Accuracy score of Logistic Regression is:\n",
            "0.7716535433070866\n",
            "[[17 27]\n",
            " [ 2 81]]\n",
            "              precision    recall  f1-score   support\n",
            "\n",
            "           0       0.89      0.39      0.54        44\n",
            "           1       0.75      0.98      0.85        83\n",
            "\n",
            "    accuracy                           0.77       127\n",
            "   macro avg       0.82      0.68      0.69       127\n",
            "weighted avg       0.80      0.77      0.74       127\n",
            "\n",
            "Accuracy score of Logistic Regression is:\n",
            "0.7795275590551181\n",
            "[[13 27]\n",
            " [ 1 86]]\n",
            "              precision    recall  f1-score   support\n",
            "\n",
            "           0       0.93      0.33      0.48        40\n",
            "           1       0.76      0.99      0.86        87\n",
            "\n",
            "    accuracy                           0.78       127\n",
            "   macro avg       0.84      0.66      0.67       127\n",
            "weighted avg       0.81      0.78      0.74       127\n",
            "\n",
            "Accuracy score of Logistic Regression is:\n",
            "0.8503937007874016\n",
            "[[21 17]\n",
            " [ 2 87]]\n",
            "              precision    recall  f1-score   support\n",
            "\n",
            "           0       0.91      0.55      0.69        38\n",
            "           1       0.84      0.98      0.90        89\n",
            "\n",
            "    accuracy                           0.85       127\n",
            "   macro avg       0.87      0.77      0.80       127\n",
            "weighted avg       0.86      0.85      0.84       127\n",
            "\n",
            "Accuracy score of Logistic Regression is:\n",
            "0.889763779527559\n",
            "[[19 14]\n",
            " [ 0 94]]\n",
            "              precision    recall  f1-score   support\n",
            "\n",
            "           0       1.00      0.58      0.73        33\n",
            "           1       0.87      1.00      0.93        94\n",
            "\n",
            "    accuracy                           0.89       127\n",
            "   macro avg       0.94      0.79      0.83       127\n",
            "weighted avg       0.90      0.89      0.88       127\n",
            "\n",
            "Accuracy score of Logistic Regression is:\n",
            "0.8110236220472441\n",
            "[[20 23]\n",
            " [ 1 83]]\n",
            "              precision    recall  f1-score   support\n",
            "\n",
            "           0       0.95      0.47      0.62        43\n",
            "           1       0.78      0.99      0.87        84\n",
            "\n",
            "    accuracy                           0.81       127\n",
            "   macro avg       0.87      0.73      0.75       127\n",
            "weighted avg       0.84      0.81      0.79       127\n",
            "\n",
            "Accuracy score of Logistic Regression is:\n",
            "0.8661417322834646\n",
            "[[23 17]\n",
            " [ 0 87]]\n",
            "              precision    recall  f1-score   support\n",
            "\n",
            "           0       1.00      0.57      0.73        40\n",
            "           1       0.84      1.00      0.91        87\n",
            "\n",
            "    accuracy                           0.87       127\n",
            "   macro avg       0.92      0.79      0.82       127\n",
            "weighted avg       0.89      0.87      0.85       127\n",
            "\n",
            "Accuracy score of Logistic Regression is:\n",
            "0.8503937007874016\n",
            "[[15 18]\n",
            " [ 1 93]]\n",
            "              precision    recall  f1-score   support\n",
            "\n",
            "           0       0.94      0.45      0.61        33\n",
            "           1       0.84      0.99      0.91        94\n",
            "\n",
            "    accuracy                           0.85       127\n",
            "   macro avg       0.89      0.72      0.76       127\n",
            "weighted avg       0.86      0.85      0.83       127\n",
            "\n",
            "Accuracy score of Logistic Regression is:\n",
            "0.8661417322834646\n",
            "[[18 16]\n",
            " [ 1 92]]\n",
            "              precision    recall  f1-score   support\n",
            "\n",
            "           0       0.95      0.53      0.68        34\n",
            "           1       0.85      0.99      0.92        93\n",
            "\n",
            "    accuracy                           0.87       127\n",
            "   macro avg       0.90      0.76      0.80       127\n",
            "weighted avg       0.88      0.87      0.85       127\n",
            "\n",
            "Accuracy score of Logistic Regression is:\n",
            "0.84251968503937\n",
            "[[15 20]\n",
            " [ 0 92]]\n",
            "              precision    recall  f1-score   support\n",
            "\n",
            "           0       1.00      0.43      0.60        35\n",
            "           1       0.82      1.00      0.90        92\n",
            "\n",
            "    accuracy                           0.84       127\n",
            "   macro avg       0.91      0.71      0.75       127\n",
            "weighted avg       0.87      0.84      0.82       127\n",
            "\n",
            "Accuracy score of Logistic Regression is:\n",
            "0.8188976377952756\n",
            "[[16 21]\n",
            " [ 2 88]]\n",
            "              precision    recall  f1-score   support\n",
            "\n",
            "           0       0.89      0.43      0.58        37\n",
            "           1       0.81      0.98      0.88        90\n",
            "\n",
            "    accuracy                           0.82       127\n",
            "   macro avg       0.85      0.71      0.73       127\n",
            "weighted avg       0.83      0.82      0.80       127\n",
            "\n",
            "Accuracy score of Logistic Regression is:\n",
            "0.7874015748031497\n",
            "[[20 25]\n",
            " [ 2 80]]\n",
            "              precision    recall  f1-score   support\n",
            "\n",
            "           0       0.91      0.44      0.60        45\n",
            "           1       0.76      0.98      0.86        82\n",
            "\n",
            "    accuracy                           0.79       127\n",
            "   macro avg       0.84      0.71      0.73       127\n",
            "weighted avg       0.81      0.79      0.76       127\n",
            "\n",
            "Accuracy score of Logistic Regression is:\n",
            "0.8031496062992126\n",
            "[[15 23]\n",
            " [ 2 87]]\n",
            "              precision    recall  f1-score   support\n",
            "\n",
            "           0       0.88      0.39      0.55        38\n",
            "           1       0.79      0.98      0.87        89\n",
            "\n",
            "    accuracy                           0.80       127\n",
            "   macro avg       0.84      0.69      0.71       127\n",
            "weighted avg       0.82      0.80      0.78       127\n",
            "\n",
            "Accuracy score of Logistic Regression is:\n",
            "0.8346456692913385\n",
            "[[20 19]\n",
            " [ 2 86]]\n",
            "              precision    recall  f1-score   support\n",
            "\n",
            "           0       0.91      0.51      0.66        39\n",
            "           1       0.82      0.98      0.89        88\n",
            "\n",
            "    accuracy                           0.83       127\n",
            "   macro avg       0.86      0.75      0.77       127\n",
            "weighted avg       0.85      0.83      0.82       127\n",
            "\n",
            "Accuracy score of Logistic Regression is:\n",
            "0.8188976377952756\n",
            "[[16 22]\n",
            " [ 1 88]]\n",
            "              precision    recall  f1-score   support\n",
            "\n",
            "           0       0.94      0.42      0.58        38\n",
            "           1       0.80      0.99      0.88        89\n",
            "\n",
            "    accuracy                           0.82       127\n",
            "   macro avg       0.87      0.70      0.73       127\n",
            "weighted avg       0.84      0.82      0.79       127\n",
            "\n",
            "Accuracy score of Logistic Regression is:\n",
            "0.7874015748031497\n",
            "[[19 26]\n",
            " [ 1 81]]\n",
            "              precision    recall  f1-score   support\n",
            "\n",
            "           0       0.95      0.42      0.58        45\n",
            "           1       0.76      0.99      0.86        82\n",
            "\n",
            "    accuracy                           0.79       127\n",
            "   macro avg       0.85      0.71      0.72       127\n",
            "weighted avg       0.83      0.79      0.76       127\n",
            "\n",
            "Accuracy score of Logistic Regression is:\n",
            "0.8267716535433071\n",
            "[[15 21]\n",
            " [ 1 90]]\n",
            "              precision    recall  f1-score   support\n",
            "\n",
            "           0       0.94      0.42      0.58        36\n",
            "           1       0.81      0.99      0.89        91\n",
            "\n",
            "    accuracy                           0.83       127\n",
            "   macro avg       0.87      0.70      0.73       127\n",
            "weighted avg       0.85      0.83      0.80       127\n",
            "\n",
            "Accuracy score of Logistic Regression is:\n",
            "0.8267716535433071\n",
            "[[18 19]\n",
            " [ 3 87]]\n",
            "              precision    recall  f1-score   support\n",
            "\n",
            "           0       0.86      0.49      0.62        37\n",
            "           1       0.82      0.97      0.89        90\n",
            "\n",
            "    accuracy                           0.83       127\n",
            "   macro avg       0.84      0.73      0.75       127\n",
            "weighted avg       0.83      0.83      0.81       127\n",
            "\n",
            "Accuracy score of Logistic Regression is:\n",
            "0.7952755905511811\n",
            "[[21 24]\n",
            " [ 2 80]]\n",
            "              precision    recall  f1-score   support\n",
            "\n",
            "           0       0.91      0.47      0.62        45\n",
            "           1       0.77      0.98      0.86        82\n",
            "\n",
            "    accuracy                           0.80       127\n",
            "   macro avg       0.84      0.72      0.74       127\n",
            "weighted avg       0.82      0.80      0.77       127\n",
            "\n",
            "Accuracy score of Logistic Regression is:\n",
            "0.8503937007874016\n",
            "[[13 16]\n",
            " [ 3 95]]\n",
            "              precision    recall  f1-score   support\n",
            "\n",
            "           0       0.81      0.45      0.58        29\n",
            "           1       0.86      0.97      0.91        98\n",
            "\n",
            "    accuracy                           0.85       127\n",
            "   macro avg       0.83      0.71      0.74       127\n",
            "weighted avg       0.85      0.85      0.83       127\n",
            "\n",
            "Accuracy score of Logistic Regression is:\n",
            "0.7795275590551181\n",
            "[[15 25]\n",
            " [ 3 84]]\n",
            "              precision    recall  f1-score   support\n",
            "\n",
            "           0       0.83      0.38      0.52        40\n",
            "           1       0.77      0.97      0.86        87\n",
            "\n",
            "    accuracy                           0.78       127\n",
            "   macro avg       0.80      0.67      0.69       127\n",
            "weighted avg       0.79      0.78      0.75       127\n",
            "\n",
            "Accuracy score of Logistic Regression is:\n",
            "0.7952755905511811\n",
            "[[15 24]\n",
            " [ 2 86]]\n",
            "              precision    recall  f1-score   support\n",
            "\n",
            "           0       0.88      0.38      0.54        39\n",
            "           1       0.78      0.98      0.87        88\n",
            "\n",
            "    accuracy                           0.80       127\n",
            "   macro avg       0.83      0.68      0.70       127\n",
            "weighted avg       0.81      0.80      0.77       127\n",
            "\n",
            "Accuracy score of Logistic Regression is:\n",
            "0.7716535433070866\n",
            "[[18 27]\n",
            " [ 2 80]]\n",
            "              precision    recall  f1-score   support\n",
            "\n",
            "           0       0.90      0.40      0.55        45\n",
            "           1       0.75      0.98      0.85        82\n",
            "\n",
            "    accuracy                           0.77       127\n",
            "   macro avg       0.82      0.69      0.70       127\n",
            "weighted avg       0.80      0.77      0.74       127\n",
            "\n",
            "Accuracy score of Logistic Regression is:\n",
            "0.8031496062992126\n",
            "[[12 23]\n",
            " [ 2 90]]\n",
            "              precision    recall  f1-score   support\n",
            "\n",
            "           0       0.86      0.34      0.49        35\n",
            "           1       0.80      0.98      0.88        92\n",
            "\n",
            "    accuracy                           0.80       127\n",
            "   macro avg       0.83      0.66      0.68       127\n",
            "weighted avg       0.81      0.80      0.77       127\n",
            "\n",
            "Accuracy score of Logistic Regression is:\n",
            "0.8267716535433071\n",
            "[[15 21]\n",
            " [ 1 90]]\n",
            "              precision    recall  f1-score   support\n",
            "\n",
            "           0       0.94      0.42      0.58        36\n",
            "           1       0.81      0.99      0.89        91\n",
            "\n",
            "    accuracy                           0.83       127\n",
            "   macro avg       0.87      0.70      0.73       127\n",
            "weighted avg       0.85      0.83      0.80       127\n",
            "\n",
            "Accuracy score of Logistic Regression is:\n",
            "0.8031496062992126\n",
            "[[15 23]\n",
            " [ 2 87]]\n",
            "              precision    recall  f1-score   support\n",
            "\n",
            "           0       0.88      0.39      0.55        38\n",
            "           1       0.79      0.98      0.87        89\n",
            "\n",
            "    accuracy                           0.80       127\n",
            "   macro avg       0.84      0.69      0.71       127\n",
            "weighted avg       0.82      0.80      0.78       127\n",
            "\n",
            "Accuracy score of Logistic Regression is:\n",
            "0.7952755905511811\n",
            "[[12 26]\n",
            " [ 0 89]]\n",
            "              precision    recall  f1-score   support\n",
            "\n",
            "           0       1.00      0.32      0.48        38\n",
            "           1       0.77      1.00      0.87        89\n",
            "\n",
            "    accuracy                           0.80       127\n",
            "   macro avg       0.89      0.66      0.68       127\n",
            "weighted avg       0.84      0.80      0.76       127\n",
            "\n",
            "Accuracy score of Logistic Regression is:\n",
            "0.8031496062992126\n",
            "[[18 23]\n",
            " [ 2 84]]\n",
            "              precision    recall  f1-score   support\n",
            "\n",
            "           0       0.90      0.44      0.59        41\n",
            "           1       0.79      0.98      0.87        86\n",
            "\n",
            "    accuracy                           0.80       127\n",
            "   macro avg       0.84      0.71      0.73       127\n",
            "weighted avg       0.82      0.80      0.78       127\n",
            "\n",
            "Accuracy score of Logistic Regression is:\n",
            "0.8740157480314961\n",
            "[[26 16]\n",
            " [ 0 85]]\n",
            "              precision    recall  f1-score   support\n",
            "\n",
            "           0       1.00      0.62      0.76        42\n",
            "           1       0.84      1.00      0.91        85\n",
            "\n",
            "    accuracy                           0.87       127\n",
            "   macro avg       0.92      0.81      0.84       127\n",
            "weighted avg       0.89      0.87      0.86       127\n",
            "\n",
            "Accuracy score of Logistic Regression is:\n",
            "0.8110236220472441\n",
            "[[18 23]\n",
            " [ 1 85]]\n",
            "              precision    recall  f1-score   support\n",
            "\n",
            "           0       0.95      0.44      0.60        41\n",
            "           1       0.79      0.99      0.88        86\n",
            "\n",
            "    accuracy                           0.81       127\n",
            "   macro avg       0.87      0.71      0.74       127\n",
            "weighted avg       0.84      0.81      0.79       127\n",
            "\n",
            "Accuracy score of Logistic Regression is:\n",
            "0.8110236220472441\n",
            "[[19 24]\n",
            " [ 0 84]]\n",
            "              precision    recall  f1-score   support\n",
            "\n",
            "           0       1.00      0.44      0.61        43\n",
            "           1       0.78      1.00      0.88        84\n",
            "\n",
            "    accuracy                           0.81       127\n",
            "   macro avg       0.89      0.72      0.74       127\n",
            "weighted avg       0.85      0.81      0.79       127\n",
            "\n",
            "Accuracy score of Logistic Regression is:\n",
            "0.8031496062992126\n",
            "[[15 24]\n",
            " [ 1 87]]\n",
            "              precision    recall  f1-score   support\n",
            "\n",
            "           0       0.94      0.38      0.55        39\n",
            "           1       0.78      0.99      0.87        88\n",
            "\n",
            "    accuracy                           0.80       127\n",
            "   macro avg       0.86      0.69      0.71       127\n",
            "weighted avg       0.83      0.80      0.77       127\n",
            "\n",
            "Accuracy score of Logistic Regression is:\n",
            "0.8661417322834646\n",
            "[[14 16]\n",
            " [ 1 96]]\n",
            "              precision    recall  f1-score   support\n",
            "\n",
            "           0       0.93      0.47      0.62        30\n",
            "           1       0.86      0.99      0.92        97\n",
            "\n",
            "    accuracy                           0.87       127\n",
            "   macro avg       0.90      0.73      0.77       127\n",
            "weighted avg       0.88      0.87      0.85       127\n",
            "\n",
            "Accuracy score of Logistic Regression is:\n",
            "0.8031496062992126\n",
            "[[21 24]\n",
            " [ 1 81]]\n",
            "              precision    recall  f1-score   support\n",
            "\n",
            "           0       0.95      0.47      0.63        45\n",
            "           1       0.77      0.99      0.87        82\n",
            "\n",
            "    accuracy                           0.80       127\n",
            "   macro avg       0.86      0.73      0.75       127\n",
            "weighted avg       0.84      0.80      0.78       127\n",
            "\n",
            "Accuracy score of Logistic Regression is:\n",
            "0.8031496062992126\n",
            "[[13 23]\n",
            " [ 2 89]]\n",
            "              precision    recall  f1-score   support\n",
            "\n",
            "           0       0.87      0.36      0.51        36\n",
            "           1       0.79      0.98      0.88        91\n",
            "\n",
            "    accuracy                           0.80       127\n",
            "   macro avg       0.83      0.67      0.69       127\n",
            "weighted avg       0.82      0.80      0.77       127\n",
            "\n",
            "Accuracy score of Logistic Regression is:\n",
            "0.8346456692913385\n",
            "[[20 19]\n",
            " [ 2 86]]\n",
            "              precision    recall  f1-score   support\n",
            "\n",
            "           0       0.91      0.51      0.66        39\n",
            "           1       0.82      0.98      0.89        88\n",
            "\n",
            "    accuracy                           0.83       127\n",
            "   macro avg       0.86      0.75      0.77       127\n",
            "weighted avg       0.85      0.83      0.82       127\n",
            "\n",
            "Accuracy score of Logistic Regression is:\n",
            "0.8503937007874016\n",
            "[[17 17]\n",
            " [ 2 91]]\n",
            "              precision    recall  f1-score   support\n",
            "\n",
            "           0       0.89      0.50      0.64        34\n",
            "           1       0.84      0.98      0.91        93\n",
            "\n",
            "    accuracy                           0.85       127\n",
            "   macro avg       0.87      0.74      0.77       127\n",
            "weighted avg       0.86      0.85      0.83       127\n",
            "\n",
            "Accuracy score of Logistic Regression is:\n",
            "0.8503937007874016\n",
            "[[17 17]\n",
            " [ 2 91]]\n",
            "              precision    recall  f1-score   support\n",
            "\n",
            "           0       0.89      0.50      0.64        34\n",
            "           1       0.84      0.98      0.91        93\n",
            "\n",
            "    accuracy                           0.85       127\n",
            "   macro avg       0.87      0.74      0.77       127\n",
            "weighted avg       0.86      0.85      0.83       127\n",
            "\n",
            "Accuracy score of Logistic Regression is:\n",
            "0.8188976377952756\n",
            "[[21 22]\n",
            " [ 1 83]]\n",
            "              precision    recall  f1-score   support\n",
            "\n",
            "           0       0.95      0.49      0.65        43\n",
            "           1       0.79      0.99      0.88        84\n",
            "\n",
            "    accuracy                           0.82       127\n",
            "   macro avg       0.87      0.74      0.76       127\n",
            "weighted avg       0.85      0.82      0.80       127\n",
            "\n",
            "Accuracy score of Logistic Regression is:\n",
            "0.8110236220472441\n",
            "[[18 22]\n",
            " [ 2 85]]\n",
            "              precision    recall  f1-score   support\n",
            "\n",
            "           0       0.90      0.45      0.60        40\n",
            "           1       0.79      0.98      0.88        87\n",
            "\n",
            "    accuracy                           0.81       127\n",
            "   macro avg       0.85      0.71      0.74       127\n",
            "weighted avg       0.83      0.81      0.79       127\n",
            "\n",
            "Accuracy score of Logistic Regression is:\n",
            "0.7874015748031497\n",
            "[[18 22]\n",
            " [ 5 82]]\n",
            "              precision    recall  f1-score   support\n",
            "\n",
            "           0       0.78      0.45      0.57        40\n",
            "           1       0.79      0.94      0.86        87\n",
            "\n",
            "    accuracy                           0.79       127\n",
            "   macro avg       0.79      0.70      0.72       127\n",
            "weighted avg       0.79      0.79      0.77       127\n",
            "\n",
            "Accuracy score of Logistic Regression is:\n",
            "0.8267716535433071\n",
            "[[19 20]\n",
            " [ 2 86]]\n",
            "              precision    recall  f1-score   support\n",
            "\n",
            "           0       0.90      0.49      0.63        39\n",
            "           1       0.81      0.98      0.89        88\n",
            "\n",
            "    accuracy                           0.83       127\n",
            "   macro avg       0.86      0.73      0.76       127\n",
            "weighted avg       0.84      0.83      0.81       127\n",
            "\n",
            "Accuracy score of Logistic Regression is:\n",
            "0.7795275590551181\n",
            "[[14 27]\n",
            " [ 1 85]]\n",
            "              precision    recall  f1-score   support\n",
            "\n",
            "           0       0.93      0.34      0.50        41\n",
            "           1       0.76      0.99      0.86        86\n",
            "\n",
            "    accuracy                           0.78       127\n",
            "   macro avg       0.85      0.66      0.68       127\n",
            "weighted avg       0.82      0.78      0.74       127\n",
            "\n",
            "Accuracy score of Logistic Regression is:\n",
            "0.8582677165354331\n",
            "[[19 17]\n",
            " [ 1 90]]\n",
            "              precision    recall  f1-score   support\n",
            "\n",
            "           0       0.95      0.53      0.68        36\n",
            "           1       0.84      0.99      0.91        91\n",
            "\n",
            "    accuracy                           0.86       127\n",
            "   macro avg       0.90      0.76      0.79       127\n",
            "weighted avg       0.87      0.86      0.84       127\n",
            "\n",
            "Accuracy score of Logistic Regression is:\n",
            "0.8188976377952756\n",
            "[[18 21]\n",
            " [ 2 86]]\n",
            "              precision    recall  f1-score   support\n",
            "\n",
            "           0       0.90      0.46      0.61        39\n",
            "           1       0.80      0.98      0.88        88\n",
            "\n",
            "    accuracy                           0.82       127\n",
            "   macro avg       0.85      0.72      0.75       127\n",
            "weighted avg       0.83      0.82      0.80       127\n",
            "\n",
            "Accuracy score of Logistic Regression is:\n",
            "0.8188976377952756\n",
            "[[21 21]\n",
            " [ 2 83]]\n",
            "              precision    recall  f1-score   support\n",
            "\n",
            "           0       0.91      0.50      0.65        42\n",
            "           1       0.80      0.98      0.88        85\n",
            "\n",
            "    accuracy                           0.82       127\n",
            "   macro avg       0.86      0.74      0.76       127\n",
            "weighted avg       0.84      0.82      0.80       127\n",
            "\n",
            "Accuracy score of Logistic Regression is:\n",
            "0.8346456692913385\n",
            "[[16 20]\n",
            " [ 1 90]]\n",
            "              precision    recall  f1-score   support\n",
            "\n",
            "           0       0.94      0.44      0.60        36\n",
            "           1       0.82      0.99      0.90        91\n",
            "\n",
            "    accuracy                           0.83       127\n",
            "   macro avg       0.88      0.72      0.75       127\n",
            "weighted avg       0.85      0.83      0.81       127\n",
            "\n",
            "Accuracy score of Logistic Regression is:\n",
            "0.8346456692913385\n",
            "[[21 19]\n",
            " [ 2 85]]\n",
            "              precision    recall  f1-score   support\n",
            "\n",
            "           0       0.91      0.53      0.67        40\n",
            "           1       0.82      0.98      0.89        87\n",
            "\n",
            "    accuracy                           0.83       127\n",
            "   macro avg       0.87      0.75      0.78       127\n",
            "weighted avg       0.85      0.83      0.82       127\n",
            "\n",
            "Accuracy score of Logistic Regression is:\n",
            "0.8346456692913385\n",
            "[[14 20]\n",
            " [ 1 92]]\n",
            "              precision    recall  f1-score   support\n",
            "\n",
            "           0       0.93      0.41      0.57        34\n",
            "           1       0.82      0.99      0.90        93\n",
            "\n",
            "    accuracy                           0.83       127\n",
            "   macro avg       0.88      0.70      0.73       127\n",
            "weighted avg       0.85      0.83      0.81       127\n",
            "\n",
            "Accuracy score of Logistic Regression is:\n",
            "0.8031496062992126\n",
            "[[13 23]\n",
            " [ 2 89]]\n",
            "              precision    recall  f1-score   support\n",
            "\n",
            "           0       0.87      0.36      0.51        36\n",
            "           1       0.79      0.98      0.88        91\n",
            "\n",
            "    accuracy                           0.80       127\n",
            "   macro avg       0.83      0.67      0.69       127\n",
            "weighted avg       0.82      0.80      0.77       127\n",
            "\n",
            "Accuracy score of Logistic Regression is:\n",
            "0.8661417322834646\n",
            "[[17 15]\n",
            " [ 2 93]]\n",
            "              precision    recall  f1-score   support\n",
            "\n",
            "           0       0.89      0.53      0.67        32\n",
            "           1       0.86      0.98      0.92        95\n",
            "\n",
            "    accuracy                           0.87       127\n",
            "   macro avg       0.88      0.76      0.79       127\n",
            "weighted avg       0.87      0.87      0.85       127\n",
            "\n",
            "Accuracy score of Logistic Regression is:\n",
            "0.7952755905511811\n",
            "[[14 24]\n",
            " [ 2 87]]\n",
            "              precision    recall  f1-score   support\n",
            "\n",
            "           0       0.88      0.37      0.52        38\n",
            "           1       0.78      0.98      0.87        89\n",
            "\n",
            "    accuracy                           0.80       127\n",
            "   macro avg       0.83      0.67      0.69       127\n",
            "weighted avg       0.81      0.80      0.76       127\n",
            "\n",
            "Accuracy score of Logistic Regression is:\n",
            "0.8110236220472441\n",
            "[[19 21]\n",
            " [ 3 84]]\n",
            "              precision    recall  f1-score   support\n",
            "\n",
            "           0       0.86      0.47      0.61        40\n",
            "           1       0.80      0.97      0.88        87\n",
            "\n",
            "    accuracy                           0.81       127\n",
            "   macro avg       0.83      0.72      0.74       127\n",
            "weighted avg       0.82      0.81      0.79       127\n",
            "\n",
            "Accuracy score of Logistic Regression is:\n",
            "0.7952755905511811\n",
            "[[12 25]\n",
            " [ 1 89]]\n",
            "              precision    recall  f1-score   support\n",
            "\n",
            "           0       0.92      0.32      0.48        37\n",
            "           1       0.78      0.99      0.87        90\n",
            "\n",
            "    accuracy                           0.80       127\n",
            "   macro avg       0.85      0.66      0.68       127\n",
            "weighted avg       0.82      0.80      0.76       127\n",
            "\n",
            "Accuracy score of Logistic Regression is:\n",
            "0.8188976377952756\n",
            "[[17 19]\n",
            " [ 4 87]]\n",
            "              precision    recall  f1-score   support\n",
            "\n",
            "           0       0.81      0.47      0.60        36\n",
            "           1       0.82      0.96      0.88        91\n",
            "\n",
            "    accuracy                           0.82       127\n",
            "   macro avg       0.82      0.71      0.74       127\n",
            "weighted avg       0.82      0.82      0.80       127\n",
            "\n",
            "Accuracy score of Logistic Regression is:\n",
            "0.8188976377952756\n",
            "[[21 22]\n",
            " [ 1 83]]\n",
            "              precision    recall  f1-score   support\n",
            "\n",
            "           0       0.95      0.49      0.65        43\n",
            "           1       0.79      0.99      0.88        84\n",
            "\n",
            "    accuracy                           0.82       127\n",
            "   macro avg       0.87      0.74      0.76       127\n",
            "weighted avg       0.85      0.82      0.80       127\n",
            "\n",
            "Accuracy score of Logistic Regression is:\n",
            "0.7480314960629921\n",
            "[[20 30]\n",
            " [ 2 75]]\n",
            "              precision    recall  f1-score   support\n",
            "\n",
            "           0       0.91      0.40      0.56        50\n",
            "           1       0.71      0.97      0.82        77\n",
            "\n",
            "    accuracy                           0.75       127\n",
            "   macro avg       0.81      0.69      0.69       127\n",
            "weighted avg       0.79      0.75      0.72       127\n",
            "\n",
            "Accuracy score of Logistic Regression is:\n",
            "0.7716535433070866\n",
            "[[18 24]\n",
            " [ 5 80]]\n",
            "              precision    recall  f1-score   support\n",
            "\n",
            "           0       0.78      0.43      0.55        42\n",
            "           1       0.77      0.94      0.85        85\n",
            "\n",
            "    accuracy                           0.77       127\n",
            "   macro avg       0.78      0.68      0.70       127\n",
            "weighted avg       0.77      0.77      0.75       127\n",
            "\n",
            "Accuracy score of Logistic Regression is:\n",
            "0.8110236220472441\n",
            "[[17 23]\n",
            " [ 1 86]]\n",
            "              precision    recall  f1-score   support\n",
            "\n",
            "           0       0.94      0.42      0.59        40\n",
            "           1       0.79      0.99      0.88        87\n",
            "\n",
            "    accuracy                           0.81       127\n",
            "   macro avg       0.87      0.71      0.73       127\n",
            "weighted avg       0.84      0.81      0.79       127\n",
            "\n",
            "Accuracy score of Logistic Regression is:\n",
            "0.7795275590551181\n",
            "[[15 28]\n",
            " [ 0 84]]\n",
            "              precision    recall  f1-score   support\n",
            "\n",
            "           0       1.00      0.35      0.52        43\n",
            "           1       0.75      1.00      0.86        84\n",
            "\n",
            "    accuracy                           0.78       127\n",
            "   macro avg       0.88      0.67      0.69       127\n",
            "weighted avg       0.83      0.78      0.74       127\n",
            "\n",
            "Accuracy score of Logistic Regression is:\n",
            "0.8661417322834646\n",
            "[[13 16]\n",
            " [ 1 97]]\n",
            "              precision    recall  f1-score   support\n",
            "\n",
            "           0       0.93      0.45      0.60        29\n",
            "           1       0.86      0.99      0.92        98\n",
            "\n",
            "    accuracy                           0.87       127\n",
            "   macro avg       0.89      0.72      0.76       127\n",
            "weighted avg       0.87      0.87      0.85       127\n",
            "\n",
            "Accuracy score of Logistic Regression is:\n",
            "0.8346456692913385\n",
            "[[20 20]\n",
            " [ 1 86]]\n",
            "              precision    recall  f1-score   support\n",
            "\n",
            "           0       0.95      0.50      0.66        40\n",
            "           1       0.81      0.99      0.89        87\n",
            "\n",
            "    accuracy                           0.83       127\n",
            "   macro avg       0.88      0.74      0.77       127\n",
            "weighted avg       0.86      0.83      0.82       127\n",
            "\n",
            "Accuracy score of Logistic Regression is:\n",
            "0.7559055118110236\n",
            "[[10 27]\n",
            " [ 4 86]]\n",
            "              precision    recall  f1-score   support\n",
            "\n",
            "           0       0.71      0.27      0.39        37\n",
            "           1       0.76      0.96      0.85        90\n",
            "\n",
            "    accuracy                           0.76       127\n",
            "   macro avg       0.74      0.61      0.62       127\n",
            "weighted avg       0.75      0.76      0.71       127\n",
            "\n",
            "Accuracy score of Logistic Regression is:\n",
            "0.8661417322834646\n",
            "[[18 17]\n",
            " [ 0 92]]\n",
            "              precision    recall  f1-score   support\n",
            "\n",
            "           0       1.00      0.51      0.68        35\n",
            "           1       0.84      1.00      0.92        92\n",
            "\n",
            "    accuracy                           0.87       127\n",
            "   macro avg       0.92      0.76      0.80       127\n",
            "weighted avg       0.89      0.87      0.85       127\n",
            "\n",
            "Accuracy score of Logistic Regression is:\n",
            "0.8346456692913385\n",
            "[[21 20]\n",
            " [ 1 85]]\n",
            "              precision    recall  f1-score   support\n",
            "\n",
            "           0       0.95      0.51      0.67        41\n",
            "           1       0.81      0.99      0.89        86\n",
            "\n",
            "    accuracy                           0.83       127\n",
            "   macro avg       0.88      0.75      0.78       127\n",
            "weighted avg       0.86      0.83      0.82       127\n",
            "\n",
            "Accuracy score of Logistic Regression is:\n",
            "0.8031496062992126\n",
            "[[17 20]\n",
            " [ 5 85]]\n",
            "              precision    recall  f1-score   support\n",
            "\n",
            "           0       0.77      0.46      0.58        37\n",
            "           1       0.81      0.94      0.87        90\n",
            "\n",
            "    accuracy                           0.80       127\n",
            "   macro avg       0.79      0.70      0.72       127\n",
            "weighted avg       0.80      0.80      0.79       127\n",
            "\n",
            "Accuracy score of Logistic Regression is:\n",
            "0.8110236220472441\n",
            "[[23 24]\n",
            " [ 0 80]]\n",
            "              precision    recall  f1-score   support\n",
            "\n",
            "           0       1.00      0.49      0.66        47\n",
            "           1       0.77      1.00      0.87        80\n",
            "\n",
            "    accuracy                           0.81       127\n",
            "   macro avg       0.88      0.74      0.76       127\n",
            "weighted avg       0.85      0.81      0.79       127\n",
            "\n",
            "Accuracy score of Logistic Regression is:\n",
            "0.8346456692913385\n",
            "[[17 21]\n",
            " [ 0 89]]\n",
            "              precision    recall  f1-score   support\n",
            "\n",
            "           0       1.00      0.45      0.62        38\n",
            "           1       0.81      1.00      0.89        89\n",
            "\n",
            "    accuracy                           0.83       127\n",
            "   macro avg       0.90      0.72      0.76       127\n",
            "weighted avg       0.87      0.83      0.81       127\n",
            "\n",
            "Accuracy score of Logistic Regression is:\n",
            "0.7952755905511811\n",
            "[[19 24]\n",
            " [ 2 82]]\n",
            "              precision    recall  f1-score   support\n",
            "\n",
            "           0       0.90      0.44      0.59        43\n",
            "           1       0.77      0.98      0.86        84\n",
            "\n",
            "    accuracy                           0.80       127\n",
            "   macro avg       0.84      0.71      0.73       127\n",
            "weighted avg       0.82      0.80      0.77       127\n",
            "\n",
            "Accuracy score of Logistic Regression is:\n",
            "0.7874015748031497\n",
            "[[18 25]\n",
            " [ 2 82]]\n",
            "              precision    recall  f1-score   support\n",
            "\n",
            "           0       0.90      0.42      0.57        43\n",
            "           1       0.77      0.98      0.86        84\n",
            "\n",
            "    accuracy                           0.79       127\n",
            "   macro avg       0.83      0.70      0.72       127\n",
            "weighted avg       0.81      0.79      0.76       127\n",
            "\n",
            "Accuracy score of Logistic Regression is:\n",
            "0.7952755905511811\n",
            "[[21 24]\n",
            " [ 2 80]]\n",
            "              precision    recall  f1-score   support\n",
            "\n",
            "           0       0.91      0.47      0.62        45\n",
            "           1       0.77      0.98      0.86        82\n",
            "\n",
            "    accuracy                           0.80       127\n",
            "   macro avg       0.84      0.72      0.74       127\n",
            "weighted avg       0.82      0.80      0.77       127\n",
            "\n",
            "Accuracy score of Logistic Regression is:\n",
            "0.8503937007874016\n",
            "[[18 17]\n",
            " [ 2 90]]\n",
            "              precision    recall  f1-score   support\n",
            "\n",
            "           0       0.90      0.51      0.65        35\n",
            "           1       0.84      0.98      0.90        92\n",
            "\n",
            "    accuracy                           0.85       127\n",
            "   macro avg       0.87      0.75      0.78       127\n",
            "weighted avg       0.86      0.85      0.84       127\n",
            "\n",
            "Accuracy score of Logistic Regression is:\n",
            "0.8267716535433071\n",
            "[[22 20]\n",
            " [ 2 83]]\n",
            "              precision    recall  f1-score   support\n",
            "\n",
            "           0       0.92      0.52      0.67        42\n",
            "           1       0.81      0.98      0.88        85\n",
            "\n",
            "    accuracy                           0.83       127\n",
            "   macro avg       0.86      0.75      0.77       127\n",
            "weighted avg       0.84      0.83      0.81       127\n",
            "\n",
            "Accuracy score of Logistic Regression is:\n",
            "0.8188976377952756\n",
            "[[19 20]\n",
            " [ 3 85]]\n",
            "              precision    recall  f1-score   support\n",
            "\n",
            "           0       0.86      0.49      0.62        39\n",
            "           1       0.81      0.97      0.88        88\n",
            "\n",
            "    accuracy                           0.82       127\n",
            "   macro avg       0.84      0.73      0.75       127\n",
            "weighted avg       0.83      0.82      0.80       127\n",
            "\n",
            "Accuracy score of Logistic Regression is:\n",
            "0.8582677165354331\n",
            "[[21 16]\n",
            " [ 2 88]]\n",
            "              precision    recall  f1-score   support\n",
            "\n",
            "           0       0.91      0.57      0.70        37\n",
            "           1       0.85      0.98      0.91        90\n",
            "\n",
            "    accuracy                           0.86       127\n",
            "   macro avg       0.88      0.77      0.80       127\n",
            "weighted avg       0.87      0.86      0.85       127\n",
            "\n",
            "Accuracy score of Logistic Regression is:\n",
            "0.7874015748031497\n",
            "[[20 24]\n",
            " [ 3 80]]\n",
            "              precision    recall  f1-score   support\n",
            "\n",
            "           0       0.87      0.45      0.60        44\n",
            "           1       0.77      0.96      0.86        83\n",
            "\n",
            "    accuracy                           0.79       127\n",
            "   macro avg       0.82      0.71      0.73       127\n",
            "weighted avg       0.80      0.79      0.77       127\n",
            "\n",
            "Accuracy score of Logistic Regression is:\n",
            "0.8188976377952756\n",
            "[[12 21]\n",
            " [ 2 92]]\n",
            "              precision    recall  f1-score   support\n",
            "\n",
            "           0       0.86      0.36      0.51        33\n",
            "           1       0.81      0.98      0.89        94\n",
            "\n",
            "    accuracy                           0.82       127\n",
            "   macro avg       0.84      0.67      0.70       127\n",
            "weighted avg       0.83      0.82      0.79       127\n",
            "\n",
            "Accuracy score of Logistic Regression is:\n",
            "0.8110236220472441\n",
            "[[13 22]\n",
            " [ 2 90]]\n",
            "              precision    recall  f1-score   support\n",
            "\n",
            "           0       0.87      0.37      0.52        35\n",
            "           1       0.80      0.98      0.88        92\n",
            "\n",
            "    accuracy                           0.81       127\n",
            "   macro avg       0.84      0.67      0.70       127\n",
            "weighted avg       0.82      0.81      0.78       127\n",
            "\n",
            "Accuracy score of Logistic Regression is:\n",
            "0.8503937007874016\n",
            "[[25 18]\n",
            " [ 1 83]]\n",
            "              precision    recall  f1-score   support\n",
            "\n",
            "           0       0.96      0.58      0.72        43\n",
            "           1       0.82      0.99      0.90        84\n",
            "\n",
            "    accuracy                           0.85       127\n",
            "   macro avg       0.89      0.78      0.81       127\n",
            "weighted avg       0.87      0.85      0.84       127\n",
            "\n",
            "Accuracy score of Logistic Regression is:\n",
            "0.8346456692913385\n",
            "[[12 20]\n",
            " [ 1 94]]\n",
            "              precision    recall  f1-score   support\n",
            "\n",
            "           0       0.92      0.38      0.53        32\n",
            "           1       0.82      0.99      0.90        95\n",
            "\n",
            "    accuracy                           0.83       127\n",
            "   macro avg       0.87      0.68      0.72       127\n",
            "weighted avg       0.85      0.83      0.81       127\n",
            "\n",
            "Accuracy score of Logistic Regression is:\n",
            "0.84251968503937\n",
            "[[18 20]\n",
            " [ 0 89]]\n",
            "              precision    recall  f1-score   support\n",
            "\n",
            "           0       1.00      0.47      0.64        38\n",
            "           1       0.82      1.00      0.90        89\n",
            "\n",
            "    accuracy                           0.84       127\n",
            "   macro avg       0.91      0.74      0.77       127\n",
            "weighted avg       0.87      0.84      0.82       127\n",
            "\n",
            "Accuracy score of Logistic Regression is:\n",
            "0.8110236220472441\n",
            "[[21 22]\n",
            " [ 2 82]]\n",
            "              precision    recall  f1-score   support\n",
            "\n",
            "           0       0.91      0.49      0.64        43\n",
            "           1       0.79      0.98      0.87        84\n",
            "\n",
            "    accuracy                           0.81       127\n",
            "   macro avg       0.85      0.73      0.75       127\n",
            "weighted avg       0.83      0.81      0.79       127\n",
            "\n",
            "Accuracy score of Logistic Regression is:\n",
            "0.889763779527559\n",
            "[[18 13]\n",
            " [ 1 95]]\n",
            "              precision    recall  f1-score   support\n",
            "\n",
            "           0       0.95      0.58      0.72        31\n",
            "           1       0.88      0.99      0.93        96\n",
            "\n",
            "    accuracy                           0.89       127\n",
            "   macro avg       0.91      0.79      0.83       127\n",
            "weighted avg       0.90      0.89      0.88       127\n",
            "\n",
            "Accuracy score of Logistic Regression is:\n",
            "0.84251968503937\n",
            "[[17 17]\n",
            " [ 3 90]]\n",
            "              precision    recall  f1-score   support\n",
            "\n",
            "           0       0.85      0.50      0.63        34\n",
            "           1       0.84      0.97      0.90        93\n",
            "\n",
            "    accuracy                           0.84       127\n",
            "   macro avg       0.85      0.73      0.76       127\n",
            "weighted avg       0.84      0.84      0.83       127\n",
            "\n",
            "Accuracy score of Logistic Regression is:\n",
            "0.8031496062992126\n",
            "[[14 23]\n",
            " [ 2 88]]\n",
            "              precision    recall  f1-score   support\n",
            "\n",
            "           0       0.88      0.38      0.53        37\n",
            "           1       0.79      0.98      0.88        90\n",
            "\n",
            "    accuracy                           0.80       127\n",
            "   macro avg       0.83      0.68      0.70       127\n",
            "weighted avg       0.82      0.80      0.77       127\n",
            "\n",
            "Accuracy score of Logistic Regression is:\n",
            "0.8031496062992126\n",
            "[[14 22]\n",
            " [ 3 88]]\n",
            "              precision    recall  f1-score   support\n",
            "\n",
            "           0       0.82      0.39      0.53        36\n",
            "           1       0.80      0.97      0.88        91\n",
            "\n",
            "    accuracy                           0.80       127\n",
            "   macro avg       0.81      0.68      0.70       127\n",
            "weighted avg       0.81      0.80      0.78       127\n",
            "\n",
            "Accuracy score of Logistic Regression is:\n",
            "0.8031496062992126\n",
            "[[15 23]\n",
            " [ 2 87]]\n",
            "              precision    recall  f1-score   support\n",
            "\n",
            "           0       0.88      0.39      0.55        38\n",
            "           1       0.79      0.98      0.87        89\n",
            "\n",
            "    accuracy                           0.80       127\n",
            "   macro avg       0.84      0.69      0.71       127\n",
            "weighted avg       0.82      0.80      0.78       127\n",
            "\n",
            "Accuracy score of Logistic Regression is:\n",
            "0.84251968503937\n",
            "[[16 18]\n",
            " [ 2 91]]\n",
            "              precision    recall  f1-score   support\n",
            "\n",
            "           0       0.89      0.47      0.62        34\n",
            "           1       0.83      0.98      0.90        93\n",
            "\n",
            "    accuracy                           0.84       127\n",
            "   macro avg       0.86      0.72      0.76       127\n",
            "weighted avg       0.85      0.84      0.82       127\n",
            "\n",
            "Accuracy score of Logistic Regression is:\n",
            "0.8188976377952756\n",
            "[[12 22]\n",
            " [ 1 92]]\n",
            "              precision    recall  f1-score   support\n",
            "\n",
            "           0       0.92      0.35      0.51        34\n",
            "           1       0.81      0.99      0.89        93\n",
            "\n",
            "    accuracy                           0.82       127\n",
            "   macro avg       0.87      0.67      0.70       127\n",
            "weighted avg       0.84      0.82      0.79       127\n",
            "\n",
            "Accuracy score of Logistic Regression is:\n",
            "0.8031496062992126\n",
            "[[17 24]\n",
            " [ 1 85]]\n",
            "              precision    recall  f1-score   support\n",
            "\n",
            "           0       0.94      0.41      0.58        41\n",
            "           1       0.78      0.99      0.87        86\n",
            "\n",
            "    accuracy                           0.80       127\n",
            "   macro avg       0.86      0.70      0.72       127\n",
            "weighted avg       0.83      0.80      0.78       127\n",
            "\n",
            "Accuracy score of Logistic Regression is:\n",
            "0.8188976377952756\n",
            "[[19 23]\n",
            " [ 0 85]]\n",
            "              precision    recall  f1-score   support\n",
            "\n",
            "           0       1.00      0.45      0.62        42\n",
            "           1       0.79      1.00      0.88        85\n",
            "\n",
            "    accuracy                           0.82       127\n",
            "   macro avg       0.89      0.73      0.75       127\n",
            "weighted avg       0.86      0.82      0.80       127\n",
            "\n",
            "Accuracy score of Logistic Regression is:\n",
            "0.7952755905511811\n",
            "[[19 25]\n",
            " [ 1 82]]\n",
            "              precision    recall  f1-score   support\n",
            "\n",
            "           0       0.95      0.43      0.59        44\n",
            "           1       0.77      0.99      0.86        83\n",
            "\n",
            "    accuracy                           0.80       127\n",
            "   macro avg       0.86      0.71      0.73       127\n",
            "weighted avg       0.83      0.80      0.77       127\n",
            "\n",
            "Accuracy score of Logistic Regression is:\n",
            "0.8031496062992126\n",
            "[[20 23]\n",
            " [ 2 82]]\n",
            "              precision    recall  f1-score   support\n",
            "\n",
            "           0       0.91      0.47      0.62        43\n",
            "           1       0.78      0.98      0.87        84\n",
            "\n",
            "    accuracy                           0.80       127\n",
            "   macro avg       0.85      0.72      0.74       127\n",
            "weighted avg       0.82      0.80      0.78       127\n",
            "\n",
            "Accuracy score of Logistic Regression is:\n",
            "0.8110236220472441\n",
            "[[20 22]\n",
            " [ 2 83]]\n",
            "              precision    recall  f1-score   support\n",
            "\n",
            "           0       0.91      0.48      0.62        42\n",
            "           1       0.79      0.98      0.87        85\n",
            "\n",
            "    accuracy                           0.81       127\n",
            "   macro avg       0.85      0.73      0.75       127\n",
            "weighted avg       0.83      0.81      0.79       127\n",
            "\n",
            "Accuracy score of Logistic Regression is:\n",
            "0.8503937007874016\n",
            "[[23 16]\n",
            " [ 3 85]]\n",
            "              precision    recall  f1-score   support\n",
            "\n",
            "           0       0.88      0.59      0.71        39\n",
            "           1       0.84      0.97      0.90        88\n",
            "\n",
            "    accuracy                           0.85       127\n",
            "   macro avg       0.86      0.78      0.80       127\n",
            "weighted avg       0.85      0.85      0.84       127\n",
            "\n",
            "Accuracy score of Logistic Regression is:\n",
            "0.84251968503937\n",
            "[[13 18]\n",
            " [ 2 94]]\n",
            "              precision    recall  f1-score   support\n",
            "\n",
            "           0       0.87      0.42      0.57        31\n",
            "           1       0.84      0.98      0.90        96\n",
            "\n",
            "    accuracy                           0.84       127\n",
            "   macro avg       0.85      0.70      0.73       127\n",
            "weighted avg       0.85      0.84      0.82       127\n",
            "\n",
            "Accuracy score of Logistic Regression is:\n",
            "0.8110236220472441\n",
            "[[17 22]\n",
            " [ 2 86]]\n",
            "              precision    recall  f1-score   support\n",
            "\n",
            "           0       0.89      0.44      0.59        39\n",
            "           1       0.80      0.98      0.88        88\n",
            "\n",
            "    accuracy                           0.81       127\n",
            "   macro avg       0.85      0.71      0.73       127\n",
            "weighted avg       0.83      0.81      0.79       127\n",
            "\n",
            "Accuracy score of Logistic Regression is:\n",
            "0.8110236220472441\n",
            "[[20 22]\n",
            " [ 2 83]]\n",
            "              precision    recall  f1-score   support\n",
            "\n",
            "           0       0.91      0.48      0.62        42\n",
            "           1       0.79      0.98      0.87        85\n",
            "\n",
            "    accuracy                           0.81       127\n",
            "   macro avg       0.85      0.73      0.75       127\n",
            "weighted avg       0.83      0.81      0.79       127\n",
            "\n",
            "Accuracy score of Logistic Regression is:\n",
            "0.8188976377952756\n",
            "[[18 22]\n",
            " [ 1 86]]\n",
            "              precision    recall  f1-score   support\n",
            "\n",
            "           0       0.95      0.45      0.61        40\n",
            "           1       0.80      0.99      0.88        87\n",
            "\n",
            "    accuracy                           0.82       127\n",
            "   macro avg       0.87      0.72      0.75       127\n",
            "weighted avg       0.84      0.82      0.80       127\n",
            "\n",
            "Accuracy score of Logistic Regression is:\n",
            "0.8110236220472441\n",
            "[[19 22]\n",
            " [ 2 84]]\n",
            "              precision    recall  f1-score   support\n",
            "\n",
            "           0       0.90      0.46      0.61        41\n",
            "           1       0.79      0.98      0.88        86\n",
            "\n",
            "    accuracy                           0.81       127\n",
            "   macro avg       0.85      0.72      0.74       127\n",
            "weighted avg       0.83      0.81      0.79       127\n",
            "\n",
            "Accuracy score of Logistic Regression is:\n",
            "0.8267716535433071\n",
            "[[13 22]\n",
            " [ 0 92]]\n",
            "              precision    recall  f1-score   support\n",
            "\n",
            "           0       1.00      0.37      0.54        35\n",
            "           1       0.81      1.00      0.89        92\n",
            "\n",
            "    accuracy                           0.83       127\n",
            "   macro avg       0.90      0.69      0.72       127\n",
            "weighted avg       0.86      0.83      0.80       127\n",
            "\n",
            "Accuracy score of Logistic Regression is:\n",
            "0.8031496062992126\n",
            "[[19 22]\n",
            " [ 3 83]]\n",
            "              precision    recall  f1-score   support\n",
            "\n",
            "           0       0.86      0.46      0.60        41\n",
            "           1       0.79      0.97      0.87        86\n",
            "\n",
            "    accuracy                           0.80       127\n",
            "   macro avg       0.83      0.71      0.74       127\n",
            "weighted avg       0.81      0.80      0.78       127\n",
            "\n",
            "Accuracy score of Logistic Regression is:\n",
            "0.8267716535433071\n",
            "[[22 22]\n",
            " [ 0 83]]\n",
            "              precision    recall  f1-score   support\n",
            "\n",
            "           0       1.00      0.50      0.67        44\n",
            "           1       0.79      1.00      0.88        83\n",
            "\n",
            "    accuracy                           0.83       127\n",
            "   macro avg       0.90      0.75      0.77       127\n",
            "weighted avg       0.86      0.83      0.81       127\n",
            "\n",
            "Accuracy score of Logistic Regression is:\n",
            "0.8582677165354331\n",
            "[[23 17]\n",
            " [ 1 86]]\n",
            "              precision    recall  f1-score   support\n",
            "\n",
            "           0       0.96      0.57      0.72        40\n",
            "           1       0.83      0.99      0.91        87\n",
            "\n",
            "    accuracy                           0.86       127\n",
            "   macro avg       0.90      0.78      0.81       127\n",
            "weighted avg       0.87      0.86      0.85       127\n",
            "\n",
            "Accuracy score of Logistic Regression is:\n",
            "0.7716535433070866\n",
            "[[16 27]\n",
            " [ 2 82]]\n",
            "              precision    recall  f1-score   support\n",
            "\n",
            "           0       0.89      0.37      0.52        43\n",
            "           1       0.75      0.98      0.85        84\n",
            "\n",
            "    accuracy                           0.77       127\n",
            "   macro avg       0.82      0.67      0.69       127\n",
            "weighted avg       0.80      0.77      0.74       127\n",
            "\n",
            "Accuracy score of Logistic Regression is:\n",
            "0.84251968503937\n",
            "[[21 20]\n",
            " [ 0 86]]\n",
            "              precision    recall  f1-score   support\n",
            "\n",
            "           0       1.00      0.51      0.68        41\n",
            "           1       0.81      1.00      0.90        86\n",
            "\n",
            "    accuracy                           0.84       127\n",
            "   macro avg       0.91      0.76      0.79       127\n",
            "weighted avg       0.87      0.84      0.83       127\n",
            "\n",
            "Accuracy score of Logistic Regression is:\n",
            "0.8267716535433071\n",
            "[[20 19]\n",
            " [ 3 85]]\n",
            "              precision    recall  f1-score   support\n",
            "\n",
            "           0       0.87      0.51      0.65        39\n",
            "           1       0.82      0.97      0.89        88\n",
            "\n",
            "    accuracy                           0.83       127\n",
            "   macro avg       0.84      0.74      0.77       127\n",
            "weighted avg       0.83      0.83      0.81       127\n",
            "\n",
            "Accuracy score of Logistic Regression is:\n",
            "0.7637795275590551\n",
            "[[17 28]\n",
            " [ 2 80]]\n",
            "              precision    recall  f1-score   support\n",
            "\n",
            "           0       0.89      0.38      0.53        45\n",
            "           1       0.74      0.98      0.84        82\n",
            "\n",
            "    accuracy                           0.76       127\n",
            "   macro avg       0.82      0.68      0.69       127\n",
            "weighted avg       0.80      0.76      0.73       127\n",
            "\n",
            "Accuracy score of Logistic Regression is:\n",
            "0.7874015748031497\n",
            "[[22 25]\n",
            " [ 2 78]]\n",
            "              precision    recall  f1-score   support\n",
            "\n",
            "           0       0.92      0.47      0.62        47\n",
            "           1       0.76      0.97      0.85        80\n",
            "\n",
            "    accuracy                           0.79       127\n",
            "   macro avg       0.84      0.72      0.74       127\n",
            "weighted avg       0.82      0.79      0.77       127\n",
            "\n",
            "Accuracy score of Logistic Regression is:\n",
            "0.8346456692913385\n",
            "[[19 20]\n",
            " [ 1 87]]\n",
            "              precision    recall  f1-score   support\n",
            "\n",
            "           0       0.95      0.49      0.64        39\n",
            "           1       0.81      0.99      0.89        88\n",
            "\n",
            "    accuracy                           0.83       127\n",
            "   macro avg       0.88      0.74      0.77       127\n",
            "weighted avg       0.86      0.83      0.82       127\n",
            "\n",
            "Accuracy score of Logistic Regression is:\n",
            "0.8031496062992126\n",
            "[[14 24]\n",
            " [ 1 88]]\n",
            "              precision    recall  f1-score   support\n",
            "\n",
            "           0       0.93      0.37      0.53        38\n",
            "           1       0.79      0.99      0.88        89\n",
            "\n",
            "    accuracy                           0.80       127\n",
            "   macro avg       0.86      0.68      0.70       127\n",
            "weighted avg       0.83      0.80      0.77       127\n",
            "\n",
            "Accuracy score of Logistic Regression is:\n",
            "0.8110236220472441\n",
            "[[18 22]\n",
            " [ 2 85]]\n",
            "              precision    recall  f1-score   support\n",
            "\n",
            "           0       0.90      0.45      0.60        40\n",
            "           1       0.79      0.98      0.88        87\n",
            "\n",
            "    accuracy                           0.81       127\n",
            "   macro avg       0.85      0.71      0.74       127\n",
            "weighted avg       0.83      0.81      0.79       127\n",
            "\n",
            "Accuracy score of Logistic Regression is:\n",
            "0.7874015748031497\n",
            "[[17 25]\n",
            " [ 2 83]]\n",
            "              precision    recall  f1-score   support\n",
            "\n",
            "           0       0.89      0.40      0.56        42\n",
            "           1       0.77      0.98      0.86        85\n",
            "\n",
            "    accuracy                           0.79       127\n",
            "   macro avg       0.83      0.69      0.71       127\n",
            "weighted avg       0.81      0.79      0.76       127\n",
            "\n",
            "Best accuracy is 0.905511811023622 on Random_state 12\n"
          ],
          "name": "stdout"
        }
      ]
    },
    {
      "cell_type": "code",
      "metadata": {
        "colab": {
          "base_uri": "https://localhost:8080/"
        },
        "id": "pNa1c2aHxkG9",
        "outputId": "f5ca7b11-5d75-41b5-e892-07a7411c82c4"
      },
      "source": [
        "x_train,x_test,y_train,y_test=train_test_split(x,y,test_size=0.22,random_state=12)\n",
        "lm=LogisticRegression()\n",
        "lm.fit(x_train,y_train)\n",
        "pred=lm.predict(x_test)\n",
        "print('Accuracy score of Logistic Regression','is:')\n",
        "accu_score=accuracy_score(y_test,pred)\n",
        "print(accuracy_score(y_test,pred))\n",
        "print(confusion_matrix(y_test,pred))\n",
        "print(classification_report(y_test,pred))"
      ],
      "execution_count": 67,
      "outputs": [
        {
          "output_type": "stream",
          "text": [
            "Accuracy score of Logistic Regression is:\n",
            "0.905511811023622\n",
            "[[19 11]\n",
            " [ 1 96]]\n",
            "              precision    recall  f1-score   support\n",
            "\n",
            "           0       0.95      0.63      0.76        30\n",
            "           1       0.90      0.99      0.94        97\n",
            "\n",
            "    accuracy                           0.91       127\n",
            "   macro avg       0.92      0.81      0.85       127\n",
            "weighted avg       0.91      0.91      0.90       127\n",
            "\n"
          ],
          "name": "stdout"
        }
      ]
    },
    {
      "cell_type": "code",
      "metadata": {
        "colab": {
          "base_uri": "https://localhost:8080/"
        },
        "id": "FN5FsBcixvo9",
        "outputId": "7a4c9a4b-0b19-4816-bcc6-945a6521652e"
      },
      "source": [
        "dtc=DecisionTreeClassifier()\n",
        "dtc.fit(x_train,y_train)\n",
        "preddtc=dtc.predict(x_test)\n",
        "print('Accuracy score of DecisionTreeClassifier','is:')\n",
        "accu_score=accuracy_score(y_test,preddtc)\n",
        "print(accuracy_score(y_test,preddtc))\n",
        "print(confusion_matrix(y_test,preddtc))\n",
        "print(classification_report(y_test,preddtc))"
      ],
      "execution_count": 68,
      "outputs": [
        {
          "output_type": "stream",
          "text": [
            "Accuracy score of DecisionTreeClassifier is:\n",
            "0.7480314960629921\n",
            "[[19 11]\n",
            " [21 76]]\n",
            "              precision    recall  f1-score   support\n",
            "\n",
            "           0       0.47      0.63      0.54        30\n",
            "           1       0.87      0.78      0.83        97\n",
            "\n",
            "    accuracy                           0.75       127\n",
            "   macro avg       0.67      0.71      0.68       127\n",
            "weighted avg       0.78      0.75      0.76       127\n",
            "\n"
          ],
          "name": "stdout"
        }
      ]
    },
    {
      "cell_type": "code",
      "metadata": {
        "colab": {
          "base_uri": "https://localhost:8080/"
        },
        "id": "6iHEP2GFxz0E",
        "outputId": "df44b798-8b79-4cea-8a60-f3f9bfd1dd2e"
      },
      "source": [
        "knn=KNeighborsClassifier(n_neighbors=5)\n",
        "knn.fit(x_train,y_train)\n",
        "predknn=knn.predict(x_test)\n",
        "print('Accuracy score of knn','is:')\n",
        "accu_score=accuracy_score(y_test,pred)\n",
        "print(accuracy_score(y_test,pred))\n",
        "print(confusion_matrix(y_test,pred))\n",
        "print(classification_report(y_test,pred))"
      ],
      "execution_count": 69,
      "outputs": [
        {
          "output_type": "stream",
          "text": [
            "Accuracy score of knn is:\n",
            "0.905511811023622\n",
            "[[19 11]\n",
            " [ 1 96]]\n",
            "              precision    recall  f1-score   support\n",
            "\n",
            "           0       0.95      0.63      0.76        30\n",
            "           1       0.90      0.99      0.94        97\n",
            "\n",
            "    accuracy                           0.91       127\n",
            "   macro avg       0.92      0.81      0.85       127\n",
            "weighted avg       0.91      0.91      0.90       127\n",
            "\n"
          ],
          "name": "stdout"
        }
      ]
    },
    {
      "cell_type": "code",
      "metadata": {
        "colab": {
          "base_uri": "https://localhost:8080/"
        },
        "id": "K3h2FHkBx22t",
        "outputId": "3a7a6924-b0ca-492a-d2c6-b451c82a9724"
      },
      "source": [
        "svm=SVC()\n",
        "svm.fit(x_train,y_train)\n",
        "predsvc=svm.predict(x_test)\n",
        "print('Accuracy score of svm','is:')\n",
        "accu_score=accuracy_score(y_test,predsvc)\n",
        "print(accuracy_score(y_test,predsvc))\n",
        "print(confusion_matrix(y_test,predsvc))\n",
        "print(classification_report(y_test,predsvc))"
      ],
      "execution_count": 70,
      "outputs": [
        {
          "output_type": "stream",
          "text": [
            "Accuracy score of svm is:\n",
            "0.905511811023622\n",
            "[[19 11]\n",
            " [ 1 96]]\n",
            "              precision    recall  f1-score   support\n",
            "\n",
            "           0       0.95      0.63      0.76        30\n",
            "           1       0.90      0.99      0.94        97\n",
            "\n",
            "    accuracy                           0.91       127\n",
            "   macro avg       0.92      0.81      0.85       127\n",
            "weighted avg       0.91      0.91      0.90       127\n",
            "\n"
          ],
          "name": "stdout"
        }
      ]
    },
    {
      "cell_type": "code",
      "metadata": {
        "colab": {
          "base_uri": "https://localhost:8080/"
        },
        "id": "giCG_2HMx5x1",
        "outputId": "02d68038-f00d-427e-e33d-aaec007e43d0"
      },
      "source": [
        "bnb=GaussianNB()\n",
        "bnb.fit(x_train,y_train)\n",
        "predbnb=bnb.predict(x_test)\n",
        "print('Accuracy score of BinomialNB','is:')\n",
        "accu_score=accuracy_score(y_test,predbnb)\n",
        "print(accuracy_score(y_test,predbnb))\n",
        "print(confusion_matrix(y_test,predbnb))\n",
        "print(classification_report(y_test,predbnb))"
      ],
      "execution_count": 71,
      "outputs": [
        {
          "output_type": "stream",
          "text": [
            "Accuracy score of BinomialNB is:\n",
            "0.889763779527559\n",
            "[[19 11]\n",
            " [ 3 94]]\n",
            "              precision    recall  f1-score   support\n",
            "\n",
            "           0       0.86      0.63      0.73        30\n",
            "           1       0.90      0.97      0.93        97\n",
            "\n",
            "    accuracy                           0.89       127\n",
            "   macro avg       0.88      0.80      0.83       127\n",
            "weighted avg       0.89      0.89      0.88       127\n",
            "\n"
          ],
          "name": "stdout"
        }
      ]
    },
    {
      "cell_type": "markdown",
      "metadata": {
        "id": "LrPXz4OiyA7y"
      },
      "source": [
        "K - Neighbors Classifier and Support Vector Classifier are the best algorithms."
      ]
    },
    {
      "cell_type": "markdown",
      "metadata": {
        "id": "2dSk_YnFyFqJ"
      },
      "source": [
        "## **Cross - Validation Scores:**"
      ]
    },
    {
      "cell_type": "code",
      "metadata": {
        "colab": {
          "base_uri": "https://localhost:8080/"
        },
        "id": "nH9OUU35yH0Y",
        "outputId": "21b5c69f-6168-4fb5-e5a7-6a5e2de92b42"
      },
      "source": [
        "from sklearn.model_selection import cross_val_score\n",
        "knnscores=cross_val_score(knn,x,y,cv=5)\n",
        "print(knnscores)\n",
        "print(knnscores.mean(),knnscores.std())"
      ],
      "execution_count": 72,
      "outputs": [
        {
          "output_type": "stream",
          "text": [
            "[0.76724138 0.75       0.77391304 0.80869565 0.79130435]\n",
            "0.7782308845577212 0.020176289687744115\n"
          ],
          "name": "stdout"
        }
      ]
    },
    {
      "cell_type": "code",
      "metadata": {
        "colab": {
          "base_uri": "https://localhost:8080/"
        },
        "id": "-ncIJEWGyKaF",
        "outputId": "60a78e2f-a3f2-4998-ded5-e5977005fdf6"
      },
      "source": [
        "svmscores=cross_val_score(svm,x,y,cv=5)\n",
        "print(svmscores)\n",
        "print(svmscores.mean(),svmscores.std())"
      ],
      "execution_count": 73,
      "outputs": [
        {
          "output_type": "stream",
          "text": [
            "[0.81896552 0.78448276 0.79130435 0.86086957 0.83478261]\n",
            "0.8180809595202397 0.028129764814348753\n"
          ],
          "name": "stdout"
        }
      ]
    },
    {
      "cell_type": "code",
      "metadata": {
        "colab": {
          "base_uri": "https://localhost:8080/"
        },
        "id": "5pBPkh0FyNUr",
        "outputId": "273274f3-4d32-4919-9732-26477dd7ad3c"
      },
      "source": [
        "list1=[0.905511811023622,0.905511811023622]\n",
        "list2=[0.7851724137931034,0.8180809595202397]\n",
        "difference=[]\n",
        "zip_object = zip(list1, list2)\n",
        "for list1_i, list2_i in zip_object:\n",
        "    difference.append(list1_i-list2_i)\n",
        "\n",
        "\n",
        "print(difference)"
      ],
      "execution_count": 74,
      "outputs": [
        {
          "output_type": "stream",
          "text": [
            "[0.12033939723051856, 0.08743085150338226]\n"
          ],
          "name": "stdout"
        }
      ]
    },
    {
      "cell_type": "markdown",
      "metadata": {
        "id": "mjQqUv5_yTGB"
      },
      "source": [
        "As the difference between accuracy scores and cross validation scores of Support Vector Classifier is least. So, It is verified that Support Vector Classifier is the best algorithm for this model with accuracy of 90.551 % ."
      ]
    },
    {
      "cell_type": "markdown",
      "metadata": {
        "id": "O_LqqPAPyWqj"
      },
      "source": [
        "## **Hyper Parameter Tuning:**"
      ]
    },
    {
      "cell_type": "code",
      "metadata": {
        "colab": {
          "base_uri": "https://localhost:8080/"
        },
        "id": "nSUKFX4myY1H",
        "outputId": "574f9328-9b84-43a6-bcd6-2dc6d6bed836"
      },
      "source": [
        "svm=SVC()\n",
        "grid_param={'C': [0.1, 1, 10,100], 'gamma': [1, 0.1, 0.01],'kernel' : ['linear', 'poly', 'rbf','sigmoid'],'decision_function_shape' : ['ovo', 'ovr']}\n",
        "gd_sr=GridSearchCV(estimator=svm,param_grid=grid_param,scoring='accuracy',cv=5)\n",
        "gd_sr.fit(x_train,y_train)"
      ],
      "execution_count": 75,
      "outputs": [
        {
          "output_type": "execute_result",
          "data": {
            "text/plain": [
              "GridSearchCV(cv=5, error_score=nan,\n",
              "             estimator=SVC(C=1.0, break_ties=False, cache_size=200,\n",
              "                           class_weight=None, coef0=0.0,\n",
              "                           decision_function_shape='ovr', degree=3,\n",
              "                           gamma='scale', kernel='rbf', max_iter=-1,\n",
              "                           probability=False, random_state=None, shrinking=True,\n",
              "                           tol=0.001, verbose=False),\n",
              "             iid='deprecated', n_jobs=None,\n",
              "             param_grid={'C': [0.1, 1, 10, 100],\n",
              "                         'decision_function_shape': ['ovo', 'ovr'],\n",
              "                         'gamma': [1, 0.1, 0.01],\n",
              "                         'kernel': ['linear', 'poly', 'rbf', 'sigmoid']},\n",
              "             pre_dispatch='2*n_jobs', refit=True, return_train_score=False,\n",
              "             scoring='accuracy', verbose=0)"
            ]
          },
          "metadata": {
            "tags": []
          },
          "execution_count": 75
        }
      ]
    },
    {
      "cell_type": "code",
      "metadata": {
        "colab": {
          "base_uri": "https://localhost:8080/"
        },
        "id": "ofxo8dSmybmU",
        "outputId": "b7e0a76f-5c90-4214-b377-90f1df477a37"
      },
      "source": [
        "gd_sr.best_params_"
      ],
      "execution_count": 76,
      "outputs": [
        {
          "output_type": "execute_result",
          "data": {
            "text/plain": [
              "{'C': 1, 'decision_function_shape': 'ovo', 'gamma': 0.1, 'kernel': 'rbf'}"
            ]
          },
          "metadata": {
            "tags": []
          },
          "execution_count": 76
        }
      ]
    },
    {
      "cell_type": "code",
      "metadata": {
        "colab": {
          "base_uri": "https://localhost:8080/"
        },
        "id": "-7JZ8Rvdypwv",
        "outputId": "cd8b8776-6cc6-44d2-f6a9-d9787116d1fa"
      },
      "source": [
        "svm=SVC(C= 0.1, gamma = 1, kernel= 'linear',decision_function_shape= 'ovo',probability=True)\n",
        "svm.fit(x_train,y_train)\n",
        "predsvc=svm.predict(x_test)\n",
        "print('Accuracy score of svm','is:')\n",
        "accu_score=accuracy_score(y_test,predsvc)\n",
        "print(accuracy_score(y_test,predsvc))\n",
        "print(confusion_matrix(y_test,predsvc))\n",
        "print(classification_report(y_test,predsvc))"
      ],
      "execution_count": 77,
      "outputs": [
        {
          "output_type": "stream",
          "text": [
            "Accuracy score of svm is:\n",
            "0.905511811023622\n",
            "[[19 11]\n",
            " [ 1 96]]\n",
            "              precision    recall  f1-score   support\n",
            "\n",
            "           0       0.95      0.63      0.76        30\n",
            "           1       0.90      0.99      0.94        97\n",
            "\n",
            "    accuracy                           0.91       127\n",
            "   macro avg       0.92      0.81      0.85       127\n",
            "weighted avg       0.91      0.91      0.90       127\n",
            "\n"
          ],
          "name": "stdout"
        }
      ]
    },
    {
      "cell_type": "markdown",
      "metadata": {
        "id": "BovoVg3Qyx5e"
      },
      "source": [
        "Accuracy of Random Forest Classifier has remained same as 90.551% with hyper parameter tuning."
      ]
    },
    {
      "cell_type": "markdown",
      "metadata": {
        "id": "OerQlwFPy5sC"
      },
      "source": [
        "## **AOC - ROC Curve:**"
      ]
    },
    {
      "cell_type": "code",
      "metadata": {
        "id": "LjUYJJ7Zy8L5"
      },
      "source": [
        "from sklearn.metrics import roc_curve\n",
        "from sklearn.metrics import roc_auc_score"
      ],
      "execution_count": 78,
      "outputs": []
    },
    {
      "cell_type": "code",
      "metadata": {
        "id": "R8VT5kXny-nI"
      },
      "source": [
        "y_pred_prob=svm.predict_proba(x_test)[:,1]"
      ],
      "execution_count": 79,
      "outputs": []
    },
    {
      "cell_type": "code",
      "metadata": {
        "colab": {
          "base_uri": "https://localhost:8080/"
        },
        "id": "u8bnYdY3zAql",
        "outputId": "2273fb70-d12f-4fa2-d3c7-aa7d0e82cdd4"
      },
      "source": [
        "y_pred_prob"
      ],
      "execution_count": 80,
      "outputs": [
        {
          "output_type": "execute_result",
          "data": {
            "text/plain": [
              "array([0.76987297, 0.76984239, 0.76985313, 0.08158595, 0.76991126,\n",
              "       0.76984897, 0.76989432, 0.76988016, 0.76984254, 0.76990201,\n",
              "       0.76990732, 0.76994096, 0.769887  , 0.76988049, 0.76988341,\n",
              "       0.76987032, 0.76990967, 0.76990106, 0.76981493, 0.76981528,\n",
              "       0.76987477, 0.76990416, 0.0816242 , 0.76981591, 0.76988086,\n",
              "       0.76984802, 0.76986267, 0.76993983, 0.7698418 , 0.76987822,\n",
              "       0.76985812, 0.76982567, 0.76986637, 0.76981539, 0.76984949,\n",
              "       0.08157213, 0.76985567, 0.76985921, 0.76984429, 0.76981063,\n",
              "       0.76983425, 0.76984831, 0.76985502, 0.76981768, 0.76979986,\n",
              "       0.76980434, 0.76982199, 0.08158323, 0.76992346, 0.08157101,\n",
              "       0.76981078, 0.76985042, 0.76991362, 0.76987414, 0.08159007,\n",
              "       0.76987455, 0.76987755, 0.76982834, 0.76984791, 0.76989012,\n",
              "       0.76987226, 0.76986347, 0.7698453 , 0.76984092, 0.76985423,\n",
              "       0.76986163, 0.76984667, 0.76994015, 0.08158889, 0.08161892,\n",
              "       0.76984243, 0.7698487 , 0.08159541, 0.76996128, 0.76989721,\n",
              "       0.08157931, 0.76982184, 0.76994103, 0.76987166, 0.08156582,\n",
              "       0.76982737, 0.08157091, 0.76984142, 0.76987933, 0.76991155,\n",
              "       0.76987561, 0.76985512, 0.76988945, 0.7698948 , 0.76983606,\n",
              "       0.76985307, 0.7698543 , 0.76986122, 0.76988492, 0.76983614,\n",
              "       0.76986678, 0.76980397, 0.08160091, 0.7698421 , 0.76987881,\n",
              "       0.76987405, 0.76990756, 0.0815658 , 0.76979679, 0.76985579,\n",
              "       0.08158742, 0.76984473, 0.08154575, 0.08156054, 0.76984055,\n",
              "       0.08157898, 0.76987201, 0.76985025, 0.7698121 , 0.76988809,\n",
              "       0.76984264, 0.76988369, 0.76988678, 0.76982995, 0.76990874,\n",
              "       0.7699042 , 0.08158194, 0.76988548, 0.76988601, 0.76990619,\n",
              "       0.76990812, 0.08157076])"
            ]
          },
          "metadata": {
            "tags": []
          },
          "execution_count": 80
        }
      ]
    },
    {
      "cell_type": "code",
      "metadata": {
        "id": "T1OaEg8bzCjN"
      },
      "source": [
        "fpr,tpr,thresholds=roc_curve(y_test,y_pred_prob)"
      ],
      "execution_count": 81,
      "outputs": []
    },
    {
      "cell_type": "code",
      "metadata": {
        "colab": {
          "base_uri": "https://localhost:8080/"
        },
        "id": "R6ibZ9VKzG1H",
        "outputId": "4555ba26-b212-424c-e0f7-690d429d57fe"
      },
      "source": [
        "fpr"
      ],
      "execution_count": 82,
      "outputs": [
        {
          "output_type": "execute_result",
          "data": {
            "text/plain": [
              "array([0.        , 0.        , 0.        , 0.03333333, 0.03333333,\n",
              "       0.06666667, 0.06666667, 0.1       , 0.1       , 0.13333333,\n",
              "       0.13333333, 0.16666667, 0.16666667, 0.2       , 0.2       ,\n",
              "       0.23333333, 0.23333333, 0.26666667, 0.26666667, 0.3       ,\n",
              "       0.3       , 0.33333333, 0.33333333, 0.36666667, 0.36666667,\n",
              "       0.43333333, 0.43333333, 1.        ])"
            ]
          },
          "metadata": {
            "tags": []
          },
          "execution_count": 82
        }
      ]
    },
    {
      "cell_type": "code",
      "metadata": {
        "colab": {
          "base_uri": "https://localhost:8080/"
        },
        "id": "WoEA62s3zJnF",
        "outputId": "0ebece89-f57d-4ed1-b1de-bdc3476e8a0b"
      },
      "source": [
        "tpr"
      ],
      "execution_count": 83,
      "outputs": [
        {
          "output_type": "execute_result",
          "data": {
            "text/plain": [
              "array([0.        , 0.01030928, 0.10309278, 0.10309278, 0.34020619,\n",
              "       0.34020619, 0.40206186, 0.40206186, 0.50515464, 0.50515464,\n",
              "       0.53608247, 0.53608247, 0.56701031, 0.56701031, 0.62886598,\n",
              "       0.62886598, 0.65979381, 0.65979381, 0.82474227, 0.82474227,\n",
              "       0.93814433, 0.93814433, 0.94845361, 0.94845361, 0.98969072,\n",
              "       0.98969072, 1.        , 1.        ])"
            ]
          },
          "metadata": {
            "tags": []
          },
          "execution_count": 83
        }
      ]
    },
    {
      "cell_type": "code",
      "metadata": {
        "colab": {
          "base_uri": "https://localhost:8080/"
        },
        "id": "Ojge_HZjzL-V",
        "outputId": "df4f2722-d20b-4daf-f525-2a2f6952170c"
      },
      "source": [
        "thresholds"
      ],
      "execution_count": 84,
      "outputs": [
        {
          "output_type": "execute_result",
          "data": {
            "text/plain": [
              "array([1.76996128, 0.76996128, 0.76990967, 0.76990874, 0.76988049,\n",
              "       0.76988016, 0.76987477, 0.76987455, 0.76986347, 0.76986267,\n",
              "       0.76985921, 0.76985812, 0.76985512, 0.76985502, 0.76985025,\n",
              "       0.76984949, 0.76984831, 0.76984802, 0.76983606, 0.76983425,\n",
              "       0.76981493, 0.7698121 , 0.76981078, 0.76981063, 0.76979679,\n",
              "       0.08161892, 0.08160091, 0.08154575])"
            ]
          },
          "metadata": {
            "tags": []
          },
          "execution_count": 84
        }
      ]
    },
    {
      "cell_type": "code",
      "metadata": {
        "colab": {
          "base_uri": "https://localhost:8080/",
          "height": 295
        },
        "id": "9O7okeNSzOT9",
        "outputId": "7cf96269-e874-49ce-9345-186820f14af3"
      },
      "source": [
        "plt.plot([0,1],[0,1],'k--')\n",
        "plt.plot(fpr,tpr,label='Random Forest')\n",
        "plt.xlabel('False positive rate')\n",
        "plt.ylabel('True positive rate')\n",
        "plt.title('Random Forest Classifier')\n",
        "plt.show()"
      ],
      "execution_count": 85,
      "outputs": [
        {
          "output_type": "display_data",
          "data": {
            "image/png": "[encoded data removed]",
            "text/plain": [
              "<Figure size 432x288 with 1 Axes>"
            ]
          },
          "metadata": {
            "tags": []
          }
        }
      ]
    },
    {
      "cell_type": "markdown",
      "metadata": {
        "id": "oJK2cMXTzTz1"
      },
      "source": [
        "Observations :-\n",
        "\n",
        "As the line is moving towards 1, so we can conclude that we have developed good model."
      ]
    },
    {
      "cell_type": "markdown",
      "metadata": {
        "id": "cq7PFpGgzWsA"
      },
      "source": [
        "## **Saving the model:**"
      ]
    },
    {
      "cell_type": "code",
      "metadata": {
        "colab": {
          "base_uri": "https://localhost:8080/"
        },
        "id": "0Z9VXZ0bzYTk",
        "outputId": "65d1021b-f007-40d0-ef88-ab40d133fd49"
      },
      "source": [
        "import joblib\n",
        "joblib.dump(svm,\"svm_loan_status.obj\")"
      ],
      "execution_count": 86,
      "outputs": [
        {
          "output_type": "execute_result",
          "data": {
            "text/plain": [
              "['svm_loan_status.obj']"
            ]
          },
          "metadata": {
            "tags": []
          },
          "execution_count": 86
        }
      ]
    },
    {
      "cell_type": "code",
      "metadata": {
        "id": "LL-rIherzamI"
      },
      "source": [
        ""
      ],
      "execution_count": null,
      "outputs": []
    }
  ]
}